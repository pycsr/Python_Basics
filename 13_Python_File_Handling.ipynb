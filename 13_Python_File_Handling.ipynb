{
 "cells": [
  {
   "cell_type": "markdown",
   "metadata": {},
   "source": [
    "# File I/O (Input/Output file handling)"
   ]
  },
  {
   "cell_type": "markdown",
   "metadata": {},
   "source": [
    "## - Definition"
   ]
  },
  {
   "cell_type": "markdown",
   "metadata": {},
   "source": [
    "- Python supports file handling and allows users to handle files i.e., to read and write files, along with many other file handling options, to operate on files. \n",
    "- We use open () function in Python to open a file in read or write mode. `open()` will return a file object. "
   ]
  },
  {
   "cell_type": "markdown",
   "metadata": {},
   "source": [
    "## Syntax"
   ]
  },
  {
   "cell_type": "code",
   "execution_count": 1,
   "metadata": {
    "ExecuteTime": {
     "end_time": "2021-10-31T15:38:31.553398Z",
     "start_time": "2021-10-31T15:38:31.550210Z"
    }
   },
   "outputs": [],
   "source": [
    "# open(<file_name>,<mode>)"
   ]
  },
  {
   "cell_type": "markdown",
   "metadata": {},
   "source": [
    "## Various supported modes"
   ]
  },
  {
   "cell_type": "code",
   "execution_count": 2,
   "metadata": {
    "ExecuteTime": {
     "end_time": "2021-10-31T15:38:31.560908Z",
     "start_time": "2021-10-31T15:38:31.557682Z"
    }
   },
   "outputs": [],
   "source": [
    "# r = read only (default)\n",
    "# w = write only\n",
    "# r+ = read + write both (File must be exsiting)\n",
    "# w+ = read + write both (If file is not existing then it will be created, if already exists then \n",
    "#                         it will be overwritten)\n",
    "# a = Append only\n",
    "# a+ = Read and append both\n",
    "# b = binary mode, rb,wb,rb+, wb+,ab, ab+ "
   ]
  },
  {
   "cell_type": "markdown",
   "metadata": {},
   "source": [
    "## - Opening file using various modes"
   ]
  },
  {
   "cell_type": "code",
   "execution_count": 3,
   "metadata": {
    "ExecuteTime": {
     "end_time": "2021-10-31T15:38:31.565515Z",
     "start_time": "2021-10-31T15:38:31.562928Z"
    }
   },
   "outputs": [],
   "source": [
    "# !ls -al"
   ]
  },
  {
   "cell_type": "code",
   "execution_count": 4,
   "metadata": {
    "ExecuteTime": {
     "end_time": "2021-10-31T15:38:31.573496Z",
     "start_time": "2021-10-31T15:38:31.567653Z"
    }
   },
   "outputs": [
    {
     "data": {
      "text/plain": [
       "<_io.TextIOWrapper name='test_file.txt' mode='r' encoding='UTF-8'>"
      ]
     },
     "execution_count": 4,
     "metadata": {},
     "output_type": "execute_result"
    }
   ],
   "source": [
    "fo = open(\"test_file.txt\",\"r\")\n",
    "fo"
   ]
  },
  {
   "cell_type": "code",
   "execution_count": 5,
   "metadata": {
    "ExecuteTime": {
     "end_time": "2021-10-31T15:38:31.582336Z",
     "start_time": "2021-10-31T15:38:31.575957Z"
    }
   },
   "outputs": [
    {
     "data": {
      "text/plain": [
       "<_io.TextIOWrapper name='test_file.txt' mode='r' encoding='UTF-8'>"
      ]
     },
     "execution_count": 5,
     "metadata": {},
     "output_type": "execute_result"
    }
   ],
   "source": [
    "fo = open(\"test_file.txt\")\n",
    "fo"
   ]
  },
  {
   "cell_type": "markdown",
   "metadata": {},
   "source": [
    "### using read()"
   ]
  },
  {
   "cell_type": "code",
   "execution_count": 6,
   "metadata": {
    "ExecuteTime": {
     "end_time": "2021-10-31T15:38:31.589848Z",
     "start_time": "2021-10-31T15:38:31.584867Z"
    }
   },
   "outputs": [
    {
     "data": {
      "text/plain": [
       "<_io.TextIOWrapper name='test_file.txt' mode='r' encoding='UTF-8'>"
      ]
     },
     "execution_count": 6,
     "metadata": {},
     "output_type": "execute_result"
    }
   ],
   "source": [
    "fo = open(\"test_file.txt\")\n",
    "fo"
   ]
  },
  {
   "cell_type": "code",
   "execution_count": 7,
   "metadata": {
    "ExecuteTime": {
     "end_time": "2021-10-31T15:38:31.595698Z",
     "start_time": "2021-10-31T15:38:31.592376Z"
    }
   },
   "outputs": [
    {
     "name": "stdout",
     "output_type": "stream",
     "text": [
      "['_CHUNK_SIZE', '__class__', '__del__', '__delattr__', '__dict__', '__dir__', '__doc__', '__enter__', '__eq__', '__exit__', '__format__', '__ge__', '__getattribute__', '__gt__', '__hash__', '__init__', '__init_subclass__', '__iter__', '__le__', '__lt__', '__ne__', '__new__', '__next__', '__reduce__', '__reduce_ex__', '__repr__', '__setattr__', '__sizeof__', '__str__', '__subclasshook__', '_checkClosed', '_checkReadable', '_checkSeekable', '_checkWritable', '_finalizing', 'buffer', 'close', 'closed', 'detach', 'encoding', 'errors', 'fileno', 'flush', 'isatty', 'line_buffering', 'mode', 'name', 'newlines', 'read', 'readable', 'readline', 'readlines', 'reconfigure', 'seek', 'seekable', 'tell', 'truncate', 'writable', 'write', 'write_through', 'writelines']\n"
     ]
    }
   ],
   "source": [
    "print(dir(fo))"
   ]
  },
  {
   "cell_type": "code",
   "execution_count": 8,
   "metadata": {
    "ExecuteTime": {
     "end_time": "2021-10-31T15:38:31.605498Z",
     "start_time": "2021-10-31T15:38:31.601672Z"
    }
   },
   "outputs": [
    {
     "data": {
      "text/plain": [
       "'This is Sample file with line1\\n\\n\\n\\nThis is Sample file with line2\\n\\n\\nThis is Sample file with line3\\n\\n\\n\\nThis is Sample file with line4\\n\\n\\nThis is Sample file with line5\\nThis is Sample file with line6\\n\\n\\n\\n\\nThis is Sample file with line7\\n\\n\\n\\n\\n\\nThis is Sample file with line8\\n\\n\\n\\n\\n\\n\\n\\n\\n\\n\\n\\nThis is Sample file with line9\\n'"
      ]
     },
     "execution_count": 8,
     "metadata": {},
     "output_type": "execute_result"
    }
   ],
   "source": [
    "fo.read()"
   ]
  },
  {
   "cell_type": "code",
   "execution_count": 9,
   "metadata": {
    "ExecuteTime": {
     "end_time": "2021-10-31T15:38:31.612701Z",
     "start_time": "2021-10-31T15:38:31.607255Z"
    }
   },
   "outputs": [
    {
     "data": {
      "text/plain": [
       "<_io.TextIOWrapper name='test_file.txt' mode='r' encoding='UTF-8'>"
      ]
     },
     "execution_count": 9,
     "metadata": {},
     "output_type": "execute_result"
    }
   ],
   "source": [
    "fo = open(\"test_file.txt\")\n",
    "fo"
   ]
  },
  {
   "cell_type": "code",
   "execution_count": 10,
   "metadata": {
    "ExecuteTime": {
     "end_time": "2021-10-31T15:38:31.621248Z",
     "start_time": "2021-10-31T15:38:31.615446Z"
    }
   },
   "outputs": [
    {
     "data": {
      "text/plain": [
       "'This is Sa'"
      ]
     },
     "execution_count": 10,
     "metadata": {},
     "output_type": "execute_result"
    }
   ],
   "source": [
    "fo.read(10) # read only 10bytes"
   ]
  },
  {
   "cell_type": "markdown",
   "metadata": {},
   "source": [
    "### using readline()"
   ]
  },
  {
   "cell_type": "code",
   "execution_count": 11,
   "metadata": {
    "ExecuteTime": {
     "end_time": "2021-10-31T15:38:31.628245Z",
     "start_time": "2021-10-31T15:38:31.622943Z"
    }
   },
   "outputs": [
    {
     "data": {
      "text/plain": [
       "<_io.TextIOWrapper name='test_file.txt' mode='r' encoding='UTF-8'>"
      ]
     },
     "execution_count": 11,
     "metadata": {},
     "output_type": "execute_result"
    }
   ],
   "source": [
    "fo = open(\"test_file.txt\")\n",
    "fo"
   ]
  },
  {
   "cell_type": "code",
   "execution_count": 12,
   "metadata": {
    "ExecuteTime": {
     "end_time": "2021-10-31T15:38:31.636290Z",
     "start_time": "2021-10-31T15:38:31.630608Z"
    }
   },
   "outputs": [
    {
     "data": {
      "text/plain": [
       "'This is Sample file with line1\\n'"
      ]
     },
     "execution_count": 12,
     "metadata": {},
     "output_type": "execute_result"
    }
   ],
   "source": [
    "fo.readline() # read only 10bytes"
   ]
  },
  {
   "cell_type": "markdown",
   "metadata": {},
   "source": [
    "### using readlines()"
   ]
  },
  {
   "cell_type": "code",
   "execution_count": 13,
   "metadata": {
    "ExecuteTime": {
     "end_time": "2021-10-31T15:38:31.644828Z",
     "start_time": "2021-10-31T15:38:31.638592Z"
    }
   },
   "outputs": [
    {
     "data": {
      "text/plain": [
       "<_io.TextIOWrapper name='test_file.txt' mode='r' encoding='UTF-8'>"
      ]
     },
     "execution_count": 13,
     "metadata": {},
     "output_type": "execute_result"
    }
   ],
   "source": [
    "fo = open(\"test_file.txt\")\n",
    "fo"
   ]
  },
  {
   "cell_type": "code",
   "execution_count": 14,
   "metadata": {
    "ExecuteTime": {
     "end_time": "2021-10-31T15:38:31.654070Z",
     "start_time": "2021-10-31T15:38:31.647205Z"
    }
   },
   "outputs": [
    {
     "data": {
      "text/plain": [
       "['This is Sample file with line1\\n',\n",
       " '\\n',\n",
       " '\\n',\n",
       " '\\n',\n",
       " 'This is Sample file with line2\\n',\n",
       " '\\n',\n",
       " '\\n',\n",
       " 'This is Sample file with line3\\n',\n",
       " '\\n',\n",
       " '\\n',\n",
       " '\\n',\n",
       " 'This is Sample file with line4\\n',\n",
       " '\\n',\n",
       " '\\n',\n",
       " 'This is Sample file with line5\\n',\n",
       " 'This is Sample file with line6\\n',\n",
       " '\\n',\n",
       " '\\n',\n",
       " '\\n',\n",
       " '\\n',\n",
       " 'This is Sample file with line7\\n',\n",
       " '\\n',\n",
       " '\\n',\n",
       " '\\n',\n",
       " '\\n',\n",
       " '\\n',\n",
       " 'This is Sample file with line8\\n',\n",
       " '\\n',\n",
       " '\\n',\n",
       " '\\n',\n",
       " '\\n',\n",
       " '\\n',\n",
       " '\\n',\n",
       " '\\n',\n",
       " '\\n',\n",
       " '\\n',\n",
       " '\\n',\n",
       " '\\n',\n",
       " 'This is Sample file with line9\\n']"
      ]
     },
     "execution_count": 14,
     "metadata": {},
     "output_type": "execute_result"
    }
   ],
   "source": [
    "fo.readlines()"
   ]
  },
  {
   "cell_type": "code",
   "execution_count": 15,
   "metadata": {
    "ExecuteTime": {
     "end_time": "2021-10-31T15:38:31.661845Z",
     "start_time": "2021-10-31T15:38:31.656512Z"
    }
   },
   "outputs": [
    {
     "data": {
      "text/plain": [
       "<_io.TextIOWrapper name='test_file.txt' mode='r' encoding='UTF-8'>"
      ]
     },
     "execution_count": 15,
     "metadata": {},
     "output_type": "execute_result"
    }
   ],
   "source": [
    "fo = open(\"test_file.txt\")\n",
    "fo"
   ]
  },
  {
   "cell_type": "code",
   "execution_count": 16,
   "metadata": {
    "ExecuteTime": {
     "end_time": "2021-10-31T15:38:31.670375Z",
     "start_time": "2021-10-31T15:38:31.664828Z"
    }
   },
   "outputs": [
    {
     "data": {
      "text/plain": [
       "['This is Sample file with line1\\n']"
      ]
     },
     "execution_count": 16,
     "metadata": {},
     "output_type": "execute_result"
    }
   ],
   "source": [
    "fo.readlines(8)"
   ]
  },
  {
   "cell_type": "markdown",
   "metadata": {},
   "source": [
    "## Understanding file object attributes"
   ]
  },
  {
   "cell_type": "code",
   "execution_count": 17,
   "metadata": {
    "ExecuteTime": {
     "end_time": "2021-10-31T15:38:31.678928Z",
     "start_time": "2021-10-31T15:38:31.673644Z"
    }
   },
   "outputs": [
    {
     "data": {
      "text/plain": [
       "<_io.TextIOWrapper name='test_file.txt' mode='r' encoding='UTF-8'>"
      ]
     },
     "execution_count": 17,
     "metadata": {},
     "output_type": "execute_result"
    }
   ],
   "source": [
    "fo = open(\"test_file.txt\")\n",
    "fo"
   ]
  },
  {
   "cell_type": "code",
   "execution_count": 18,
   "metadata": {
    "ExecuteTime": {
     "end_time": "2021-10-31T15:38:31.685222Z",
     "start_time": "2021-10-31T15:38:31.681670Z"
    }
   },
   "outputs": [
    {
     "name": "stdout",
     "output_type": "stream",
     "text": [
      "['_CHUNK_SIZE', '__class__', '__del__', '__delattr__', '__dict__', '__dir__', '__doc__', '__enter__', '__eq__', '__exit__', '__format__', '__ge__', '__getattribute__', '__gt__', '__hash__', '__init__', '__init_subclass__', '__iter__', '__le__', '__lt__', '__ne__', '__new__', '__next__', '__reduce__', '__reduce_ex__', '__repr__', '__setattr__', '__sizeof__', '__str__', '__subclasshook__', '_checkClosed', '_checkReadable', '_checkSeekable', '_checkWritable', '_finalizing', 'buffer', 'close', 'closed', 'detach', 'encoding', 'errors', 'fileno', 'flush', 'isatty', 'line_buffering', 'mode', 'name', 'newlines', 'read', 'readable', 'readline', 'readlines', 'reconfigure', 'seek', 'seekable', 'tell', 'truncate', 'writable', 'write', 'write_through', 'writelines']\n"
     ]
    }
   ],
   "source": [
    "print(dir(fo))"
   ]
  },
  {
   "cell_type": "code",
   "execution_count": 19,
   "metadata": {
    "ExecuteTime": {
     "end_time": "2021-10-31T15:38:31.692780Z",
     "start_time": "2021-10-31T15:38:31.687929Z"
    }
   },
   "outputs": [
    {
     "data": {
      "text/plain": [
       "'test_file.txt'"
      ]
     },
     "execution_count": 19,
     "metadata": {},
     "output_type": "execute_result"
    }
   ],
   "source": [
    "fo.name"
   ]
  },
  {
   "cell_type": "code",
   "execution_count": 20,
   "metadata": {
    "ExecuteTime": {
     "end_time": "2021-10-31T15:38:31.700173Z",
     "start_time": "2021-10-31T15:38:31.695714Z"
    }
   },
   "outputs": [
    {
     "data": {
      "text/plain": [
       "'r'"
      ]
     },
     "execution_count": 20,
     "metadata": {},
     "output_type": "execute_result"
    }
   ],
   "source": [
    "fo.mode"
   ]
  },
  {
   "cell_type": "code",
   "execution_count": 21,
   "metadata": {
    "ExecuteTime": {
     "end_time": "2021-10-31T15:38:31.708104Z",
     "start_time": "2021-10-31T15:38:31.702865Z"
    }
   },
   "outputs": [
    {
     "data": {
      "text/plain": [
       "'UTF-8'"
      ]
     },
     "execution_count": 21,
     "metadata": {},
     "output_type": "execute_result"
    }
   ],
   "source": [
    "fo.encoding"
   ]
  },
  {
   "cell_type": "code",
   "execution_count": 22,
   "metadata": {
    "ExecuteTime": {
     "end_time": "2021-10-31T15:38:31.716789Z",
     "start_time": "2021-10-31T15:38:31.710627Z"
    }
   },
   "outputs": [
    {
     "data": {
      "text/plain": [
       "True"
      ]
     },
     "execution_count": 22,
     "metadata": {},
     "output_type": "execute_result"
    }
   ],
   "source": [
    "fo.readable()"
   ]
  },
  {
   "cell_type": "code",
   "execution_count": 23,
   "metadata": {
    "ExecuteTime": {
     "end_time": "2021-10-31T15:38:31.723841Z",
     "start_time": "2021-10-31T15:38:31.719186Z"
    }
   },
   "outputs": [
    {
     "data": {
      "text/plain": [
       "False"
      ]
     },
     "execution_count": 23,
     "metadata": {},
     "output_type": "execute_result"
    }
   ],
   "source": [
    "fo.writable()"
   ]
  },
  {
   "cell_type": "code",
   "execution_count": 24,
   "metadata": {
    "ExecuteTime": {
     "end_time": "2021-10-31T15:38:31.730320Z",
     "start_time": "2021-10-31T15:38:31.726154Z"
    }
   },
   "outputs": [
    {
     "data": {
      "text/plain": [
       "False"
      ]
     },
     "execution_count": 24,
     "metadata": {},
     "output_type": "execute_result"
    }
   ],
   "source": [
    "fo.closed"
   ]
  },
  {
   "cell_type": "markdown",
   "metadata": {},
   "source": [
    "## - Read/Write operations on file"
   ]
  },
  {
   "cell_type": "code",
   "execution_count": 25,
   "metadata": {
    "ExecuteTime": {
     "end_time": "2021-10-31T15:38:31.738880Z",
     "start_time": "2021-10-31T15:38:31.732220Z"
    }
   },
   "outputs": [
    {
     "data": {
      "text/plain": [
       "<_io.TextIOWrapper name='test_file.txt' mode='r' encoding='UTF-8'>"
      ]
     },
     "execution_count": 25,
     "metadata": {},
     "output_type": "execute_result"
    }
   ],
   "source": [
    "fo = open(\"test_file.txt\")\n",
    "fo"
   ]
  },
  {
   "cell_type": "code",
   "execution_count": 26,
   "metadata": {
    "ExecuteTime": {
     "end_time": "2021-10-31T15:38:31.755165Z",
     "start_time": "2021-10-31T15:38:31.748376Z"
    }
   },
   "outputs": [
    {
     "data": {
      "text/plain": [
       "'This is Sample file with line1\\n\\n\\n\\nThis is Sample file with line2\\n\\n\\nThis is Sample file with line3\\n\\n\\n\\nThis is Sample file with line4\\n\\n\\nThis is Sample file with line5\\nThis is Sample file with line6\\n\\n\\n\\n\\nThis is Sample file with line7\\n\\n\\n\\n\\n\\nThis is Sample file with line8\\n\\n\\n\\n\\n\\n\\n\\n\\n\\n\\n\\nThis is Sample file with line9\\n'"
      ]
     },
     "execution_count": 26,
     "metadata": {},
     "output_type": "execute_result"
    }
   ],
   "source": [
    "fo.read() # !Dont use when file is too large `>20MB`!"
   ]
  },
  {
   "cell_type": "markdown",
   "metadata": {},
   "source": [
    "## - Write operations on file"
   ]
  },
  {
   "cell_type": "code",
   "execution_count": 27,
   "metadata": {
    "ExecuteTime": {
     "end_time": "2021-10-31T15:38:31.761401Z",
     "start_time": "2021-10-31T15:38:31.758647Z"
    }
   },
   "outputs": [],
   "source": [
    "# !ls -al"
   ]
  },
  {
   "cell_type": "code",
   "execution_count": 28,
   "metadata": {
    "ExecuteTime": {
     "end_time": "2021-10-31T15:38:31.769823Z",
     "start_time": "2021-10-31T15:38:31.764960Z"
    }
   },
   "outputs": [],
   "source": [
    "fo = open(\"test_file_to_write.txt\",\"w\")\n",
    "fo.write(\"This is line1\\n\")\n",
    "fo.write(\"This is line2\\n\")\n",
    "fo.close()"
   ]
  },
  {
   "cell_type": "markdown",
   "metadata": {},
   "source": [
    "## Using `with` statement"
   ]
  },
  {
   "cell_type": "code",
   "execution_count": 29,
   "metadata": {
    "ExecuteTime": {
     "end_time": "2021-10-31T15:38:31.776961Z",
     "start_time": "2021-10-31T15:38:31.773183Z"
    }
   },
   "outputs": [],
   "source": [
    "# Syntax:\n",
    "# with open(<file_name>,<mode>) as <file_bject_name>:\n",
    "#     <file_operations>\n",
    "# <file will get closed automatically after coming out of with statement>    \n"
   ]
  },
  {
   "cell_type": "code",
   "execution_count": 30,
   "metadata": {
    "ExecuteTime": {
     "end_time": "2021-10-31T15:38:31.784042Z",
     "start_time": "2021-10-31T15:38:31.779512Z"
    }
   },
   "outputs": [],
   "source": [
    "with open(\"sample_write.txt\",\"w\") as fo2:\n",
    "    fo2.write(\"This using with statement line1\\n\")\n",
    "    fo2.write(\"This using with statement line2\\n\")"
   ]
  },
  {
   "cell_type": "markdown",
   "metadata": {},
   "source": [
    "## - Tell and Seek operations"
   ]
  },
  {
   "cell_type": "code",
   "execution_count": 31,
   "metadata": {
    "ExecuteTime": {
     "end_time": "2021-10-31T15:38:31.789539Z",
     "start_time": "2021-10-31T15:38:31.786840Z"
    }
   },
   "outputs": [],
   "source": [
    "# tell : Tells the current file pointer position in file object\n",
    "# Syntax for tell is just tell()\n",
    "# seek : Using seek we can chnage the file pointer position\n",
    "# Syntax for seek is just seek(<offset>,<pointer position>):\n",
    "#     offset: How many characters to be skipped\n",
    "#     pointer position: 0 (default, beginning of the file)\n",
    "#                       1 (current position)\n",
    "#                       2 (From end)"
   ]
  },
  {
   "cell_type": "code",
   "execution_count": 32,
   "metadata": {
    "ExecuteTime": {
     "end_time": "2021-10-31T15:38:31.795989Z",
     "start_time": "2021-10-31T15:38:31.792340Z"
    }
   },
   "outputs": [],
   "source": [
    "fo = open(\"test_file.txt\",\"r\")\n",
    "# fo.read()"
   ]
  },
  {
   "cell_type": "markdown",
   "metadata": {},
   "source": [
    "### tell"
   ]
  },
  {
   "cell_type": "code",
   "execution_count": 33,
   "metadata": {
    "ExecuteTime": {
     "end_time": "2021-10-31T15:38:31.802464Z",
     "start_time": "2021-10-31T15:38:31.798293Z"
    }
   },
   "outputs": [
    {
     "name": "stdout",
     "output_type": "stream",
     "text": [
      "0\n",
      "This \n",
      "5\n"
     ]
    }
   ],
   "source": [
    "print(fo.tell())\n",
    "print(fo.read(5))\n",
    "print(fo.tell())"
   ]
  },
  {
   "cell_type": "markdown",
   "metadata": {},
   "source": [
    "### seek"
   ]
  },
  {
   "cell_type": "code",
   "execution_count": 34,
   "metadata": {
    "ExecuteTime": {
     "end_time": "2021-10-31T15:38:31.807813Z",
     "start_time": "2021-10-31T15:38:31.805050Z"
    }
   },
   "outputs": [],
   "source": [
    "fo = open(\"sample_write.txt\",\"r\")\n",
    "# fo.read()"
   ]
  },
  {
   "cell_type": "code",
   "execution_count": 35,
   "metadata": {
    "ExecuteTime": {
     "end_time": "2021-10-31T15:38:31.813515Z",
     "start_time": "2021-10-31T15:38:31.809176Z"
    }
   },
   "outputs": [
    {
     "name": "stdout",
     "output_type": "stream",
     "text": [
      "0\n",
      "This using\n",
      "10\n",
      "0\n",
      "This using\n"
     ]
    }
   ],
   "source": [
    "print(fo.tell())\n",
    "print(fo.read(10))\n",
    "print(fo.tell())\n",
    "fo.seek(0,0)\n",
    "print(fo.tell())\n",
    "print(fo.read(10))"
   ]
  },
  {
   "cell_type": "code",
   "execution_count": 36,
   "metadata": {
    "ExecuteTime": {
     "end_time": "2021-10-31T15:38:31.818149Z",
     "start_time": "2021-10-31T15:38:31.814881Z"
    }
   },
   "outputs": [],
   "source": [
    "fo = open(\"sample_write.txt\",\"r\")\n",
    "# fo.read()"
   ]
  },
  {
   "cell_type": "code",
   "execution_count": 37,
   "metadata": {
    "ExecuteTime": {
     "end_time": "2021-10-31T15:38:31.825047Z",
     "start_time": "2021-10-31T15:38:31.820103Z"
    }
   },
   "outputs": [
    {
     "name": "stdout",
     "output_type": "stream",
     "text": [
      "0\n",
      "This using\n",
      "10\n",
      "10\n",
      " with stat\n"
     ]
    }
   ],
   "source": [
    "print(fo.tell())\n",
    "print(fo.read(10))\n",
    "print(fo.tell())\n",
    "fo.seek(0,1)\n",
    "print(fo.tell())\n",
    "print(fo.read(10))"
   ]
  },
  {
   "cell_type": "code",
   "execution_count": 38,
   "metadata": {
    "ExecuteTime": {
     "end_time": "2021-10-31T15:38:31.830134Z",
     "start_time": "2021-10-31T15:38:31.826832Z"
    }
   },
   "outputs": [],
   "source": [
    "fo = open(\"sample_write.txt\",\"rb\")\n",
    "# fo.read()"
   ]
  },
  {
   "cell_type": "code",
   "execution_count": 39,
   "metadata": {
    "ExecuteTime": {
     "end_time": "2021-10-31T15:38:31.838503Z",
     "start_time": "2021-10-31T15:38:31.832458Z"
    }
   },
   "outputs": [
    {
     "name": "stdout",
     "output_type": "stream",
     "text": [
      "0\n",
      "b'This using'\n",
      "10\n",
      "15\n",
      "b' statement'\n"
     ]
    }
   ],
   "source": [
    "print(fo.tell())\n",
    "print(fo.read(10))\n",
    "print(fo.tell())\n",
    "fo.seek(5,1)\n",
    "print(fo.tell())\n",
    "print(fo.read(10))"
   ]
  },
  {
   "cell_type": "code",
   "execution_count": 40,
   "metadata": {
    "ExecuteTime": {
     "end_time": "2021-10-31T15:38:31.844383Z",
     "start_time": "2021-10-31T15:38:31.840713Z"
    }
   },
   "outputs": [],
   "source": [
    "fo = open(\"sample_write.txt\",\"rb\")\n",
    "# fo.read()"
   ]
  },
  {
   "cell_type": "code",
   "execution_count": 41,
   "metadata": {
    "ExecuteTime": {
     "end_time": "2021-10-31T15:38:31.850635Z",
     "start_time": "2021-10-31T15:38:31.846344Z"
    }
   },
   "outputs": [
    {
     "name": "stdout",
     "output_type": "stream",
     "text": [
      "0\n",
      "b'This using'\n",
      "10\n",
      "49\n",
      "b'tatement l'\n"
     ]
    }
   ],
   "source": [
    "print(fo.tell())\n",
    "print(fo.read(10))\n",
    "print(fo.tell())\n",
    "fo.seek(-15,2)\n",
    "print(fo.tell())\n",
    "print(fo.read(10))"
   ]
  },
  {
   "cell_type": "markdown",
   "metadata": {},
   "source": [
    "## - Some OS related operations"
   ]
  },
  {
   "cell_type": "code",
   "execution_count": 42,
   "metadata": {
    "ExecuteTime": {
     "end_time": "2021-10-31T15:38:31.856209Z",
     "start_time": "2021-10-31T15:38:31.853750Z"
    }
   },
   "outputs": [],
   "source": [
    "import os"
   ]
  },
  {
   "cell_type": "code",
   "execution_count": 43,
   "metadata": {
    "ExecuteTime": {
     "end_time": "2021-10-31T15:38:31.863075Z",
     "start_time": "2021-10-31T15:38:31.859132Z"
    }
   },
   "outputs": [
    {
     "name": "stdout",
     "output_type": "stream",
     "text": [
      "['CLD_CONTINUED', 'CLD_DUMPED', 'CLD_EXITED', 'CLD_TRAPPED', 'DirEntry', 'EX_CANTCREAT', 'EX_CONFIG', 'EX_DATAERR', 'EX_IOERR', 'EX_NOHOST', 'EX_NOINPUT', 'EX_NOPERM', 'EX_NOUSER', 'EX_OK', 'EX_OSERR', 'EX_OSFILE', 'EX_PROTOCOL', 'EX_SOFTWARE', 'EX_TEMPFAIL', 'EX_UNAVAILABLE', 'EX_USAGE', 'F_LOCK', 'F_OK', 'F_TEST', 'F_TLOCK', 'F_ULOCK', 'MutableMapping', 'NGROUPS_MAX', 'O_ACCMODE', 'O_APPEND', 'O_ASYNC', 'O_CLOEXEC', 'O_CREAT', 'O_DIRECTORY', 'O_DSYNC', 'O_EXCL', 'O_EXLOCK', 'O_NDELAY', 'O_NOCTTY', 'O_NOFOLLOW', 'O_NONBLOCK', 'O_RDONLY', 'O_RDWR', 'O_SHLOCK', 'O_SYNC', 'O_TRUNC', 'O_WRONLY', 'POSIX_SPAWN_CLOSE', 'POSIX_SPAWN_DUP2', 'POSIX_SPAWN_OPEN', 'PRIO_PGRP', 'PRIO_PROCESS', 'PRIO_USER', 'P_ALL', 'P_NOWAIT', 'P_NOWAITO', 'P_PGID', 'P_PID', 'P_WAIT', 'PathLike', 'RTLD_GLOBAL', 'RTLD_LAZY', 'RTLD_LOCAL', 'RTLD_NODELETE', 'RTLD_NOLOAD', 'RTLD_NOW', 'R_OK', 'SCHED_FIFO', 'SCHED_OTHER', 'SCHED_RR', 'SEEK_CUR', 'SEEK_END', 'SEEK_SET', 'ST_NOSUID', 'ST_RDONLY', 'TMP_MAX', 'WCONTINUED', 'WCOREDUMP', 'WEXITED', 'WEXITSTATUS', 'WIFCONTINUED', 'WIFEXITED', 'WIFSIGNALED', 'WIFSTOPPED', 'WNOHANG', 'WNOWAIT', 'WSTOPPED', 'WSTOPSIG', 'WTERMSIG', 'WUNTRACED', 'W_OK', 'X_OK', '_Environ', '__all__', '__builtins__', '__cached__', '__doc__', '__file__', '__loader__', '__name__', '__package__', '__spec__', '_check_methods', '_execvpe', '_exists', '_exit', '_fspath', '_fwalk', '_get_exports_list', '_putenv', '_spawnvef', '_unsetenv', '_wrap_close', 'abc', 'abort', 'access', 'altsep', 'chdir', 'chflags', 'chmod', 'chown', 'chroot', 'close', 'closerange', 'confstr', 'confstr_names', 'cpu_count', 'ctermid', 'curdir', 'defpath', 'device_encoding', 'devnull', 'dup', 'dup2', 'environ', 'environb', 'error', 'execl', 'execle', 'execlp', 'execlpe', 'execv', 'execve', 'execvp', 'execvpe', 'extsep', 'fchdir', 'fchmod', 'fchown', 'fdopen', 'fork', 'forkpty', 'fpathconf', 'fsdecode', 'fsencode', 'fspath', 'fstat', 'fstatvfs', 'fsync', 'ftruncate', 'fwalk', 'get_blocking', 'get_exec_path', 'get_inheritable', 'get_terminal_size', 'getcwd', 'getcwdb', 'getegid', 'getenv', 'getenvb', 'geteuid', 'getgid', 'getgrouplist', 'getgroups', 'getloadavg', 'getlogin', 'getpgid', 'getpgrp', 'getpid', 'getppid', 'getpriority', 'getsid', 'getuid', 'initgroups', 'isatty', 'kill', 'killpg', 'lchflags', 'lchmod', 'lchown', 'linesep', 'link', 'listdir', 'lockf', 'lseek', 'lstat', 'major', 'makedev', 'makedirs', 'minor', 'mkdir', 'mkfifo', 'mknod', 'name', 'nice', 'open', 'openpty', 'pardir', 'path', 'pathconf', 'pathconf_names', 'pathsep', 'pipe', 'popen', 'posix_spawn', 'posix_spawnp', 'pread', 'putenv', 'pwrite', 'read', 'readlink', 'readv', 'register_at_fork', 'remove', 'removedirs', 'rename', 'renames', 'replace', 'rmdir', 'scandir', 'sched_get_priority_max', 'sched_get_priority_min', 'sched_yield', 'sendfile', 'sep', 'set_blocking', 'set_inheritable', 'setegid', 'seteuid', 'setgid', 'setgroups', 'setpgid', 'setpgrp', 'setpriority', 'setregid', 'setreuid', 'setsid', 'setuid', 'spawnl', 'spawnle', 'spawnlp', 'spawnlpe', 'spawnv', 'spawnve', 'spawnvp', 'spawnvpe', 'st', 'stat', 'stat_result', 'statvfs', 'statvfs_result', 'strerror', 'supports_bytes_environ', 'supports_dir_fd', 'supports_effective_ids', 'supports_fd', 'supports_follow_symlinks', 'symlink', 'sync', 'sys', 'sysconf', 'sysconf_names', 'system', 'tcgetpgrp', 'tcsetpgrp', 'terminal_size', 'times', 'times_result', 'truncate', 'ttyname', 'umask', 'uname', 'uname_result', 'unlink', 'unsetenv', 'urandom', 'utime', 'wait', 'wait3', 'wait4', 'waitpid', 'walk', 'write', 'writev']\n"
     ]
    }
   ],
   "source": [
    "print(dir(os))"
   ]
  },
  {
   "cell_type": "code",
   "execution_count": 44,
   "metadata": {
    "ExecuteTime": {
     "end_time": "2021-10-31T15:38:31.869538Z",
     "start_time": "2021-10-31T15:38:31.865708Z"
    }
   },
   "outputs": [
    {
     "name": "stdout",
     "output_type": "stream",
     "text": [
      "/Users/pankajkumarsoni/Documents/Python_Prog/for_pycsr/01_Python\n"
     ]
    }
   ],
   "source": [
    "print(os.getcwd())"
   ]
  },
  {
   "cell_type": "code",
   "execution_count": 46,
   "metadata": {
    "ExecuteTime": {
     "end_time": "2021-10-31T15:39:06.395522Z",
     "start_time": "2021-10-31T15:39:06.392296Z"
    }
   },
   "outputs": [
    {
     "name": "stdout",
     "output_type": "stream",
     "text": [
      "None\n"
     ]
    }
   ],
   "source": [
    "print(os.mkdir(\"file_io_folder\"))"
   ]
  },
  {
   "cell_type": "code",
   "execution_count": 47,
   "metadata": {
    "ExecuteTime": {
     "end_time": "2021-10-31T15:39:07.728746Z",
     "start_time": "2021-10-31T15:39:07.568967Z"
    }
   },
   "outputs": [
    {
     "name": "stdout",
     "output_type": "stream",
     "text": [
      "total 7048\r\n",
      "drwxr-xr-x@ 45 pankajkumarsoni  staff    1440 Oct 31 21:09 \u001b[34m.\u001b[m\u001b[m\r\n",
      "drwxr-xr-x@ 10 pankajkumarsoni  staff     320 Oct 23 21:45 \u001b[34m..\u001b[m\u001b[m\r\n",
      "-rw-r--r--@  1 pankajkumarsoni  staff    6148 Oct 23 21:43 .DS_Store\r\n",
      "drwxr-xr-x   8 pankajkumarsoni  staff     256 Oct 23 22:15 \u001b[34m.idea\u001b[m\u001b[m\r\n",
      "drwxr-xr-x  23 pankajkumarsoni  staff     736 Oct 31 20:08 \u001b[34m.ipynb_checkpoints\u001b[m\u001b[m\r\n",
      "-rw-r--r--   1 pankajkumarsoni  staff    1340 Oct 26 22:08 .jovianrc\r\n",
      "-rw-rw-r--@  1 pankajkumarsoni  staff  835380 Sep 21 21:00 01_Operators.ipynb\r\n",
      "-rw-rw-r--@  1 pankajkumarsoni  staff  408265 Sep 23 18:15 02_Strings.ipynb\r\n",
      "-rw-rw-r--@  1 pankajkumarsoni  staff  401141 Oct  5 21:12 03_List.ipynb\r\n",
      "-rw-r--r--   1 pankajkumarsoni  staff  602176 Sep 30 18:22 04_Tuple.ipynb\r\n",
      "-rw-rw-r--@  1 pankajkumarsoni  staff   25831 Sep 28 09:46 05_Dictionary.ipynb\r\n",
      "-rw-rw-r--@  1 pankajkumarsoni  staff  541998 Oct  2 18:49 06_For_While_loop.ipynb\r\n",
      "-rw-rw-r--@  1 pankajkumarsoni  staff  178775 Oct  2 19:54 07_DecisionMaking.ipynb\r\n",
      "-rw-r--r--   1 pankajkumarsoni  staff  315205 Oct  6 07:57 08_Sets.ipynb\r\n",
      "-rw-rw-r--@  1 pankajkumarsoni  staff   14786 Oct  6 19:56 09_Iterators_&_Generators.ipynb\r\n",
      "-rw-rw-r--@  1 pankajkumarsoni  staff   10046 Oct 15 22:08 10_List_&_Dictionary_Comprehension.ipynb\r\n",
      "-rw-rw-r--@  1 pankajkumarsoni  staff   24866 Oct 18 20:44 11_Functions.ipynb\r\n",
      "-rw-rw-r--@  1 pankajkumarsoni  staff   11035 Oct 19 20:29 11_Lambda_Function.ipynb\r\n",
      "-rw-rw-r--@  1 pankajkumarsoni  staff   13052 Oct 26 22:08 12_Modules.ipynb\r\n",
      "-rw-rw-r--@  1 pankajkumarsoni  staff   36147 Oct 31 21:02 13_Python_File_Handling.ipynb\r\n",
      "-rw-rw-r--@  1 pankajkumarsoni  staff    1811 Jul 25  2019 14_RegularExpression.ipynb\r\n",
      "-rw-rw-r--@  1 pankajkumarsoni  staff     535 Jun  1  2018 15_Debugging.ipynb\r\n",
      "-rw-rw-r--@  1 pankajkumarsoni  staff     533 Jun  1  2018 16_Logging.ipynb\r\n",
      "-rw-rw-r--@  1 pankajkumarsoni  staff     714 Mar  1  2019 17_Exceptions.ipynb\r\n",
      "-rw-rw-r--@  1 pankajkumarsoni  staff    1710 Oct  6 09:10 22_Generators.ipynb\r\n",
      "-rw-rw-r--@  1 pankajkumarsoni  staff    2680 Jun  1  2018 23_Decorators.ipynb\r\n",
      "-rw-rw-r--@  1 pankajkumarsoni  staff    5957 Jul 28  2018 26_Iter_Generator_Yield.ipynb\r\n",
      "-rw-rw-r--@  1 pankajkumarsoni  staff    3411 Aug 10  2018 27_Functions_PBV_PBR.ipynb\r\n",
      "-rw-rw-r--@  1 pankajkumarsoni  staff    2762 Jul 19  2019 29_Class_OOPs_Concept.ipynb\r\n",
      "-rw-rw-r--@  1 pankajkumarsoni  staff   13482 Jul 19  2019 36_Timeit_and_SizeComparison_of_DataTypes.ipynb\r\n",
      "-rw-rw-r--@  1 pankajkumarsoni  staff    2692 Oct  6 09:13 Filter_map_reduce.ipynb\r\n",
      "-rw-r--r--   1 pankajkumarsoni  staff      79 Oct 23 22:45 Module_test.py\r\n",
      "drwxr-xr-x   7 pankajkumarsoni  staff     224 Oct 26 21:00 \u001b[34mPyCSR\u001b[m\u001b[m\r\n",
      "-rw-r--r--   1 pankajkumarsoni  staff    2747 Oct  2 20:20 Python_Memory_Management.ipynb\r\n",
      "-rw-r--r--   1 pankajkumarsoni  staff   43984 Oct  3 07:22 Python_Tips_&_Tricks_Part-1.ipynb\r\n",
      "-rw-r--r--   1 pankajkumarsoni  staff    2229 Oct 29 15:49 Python_Tips_&_Tricks_Part-2.ipynb\r\n",
      "-rw-r--r--   1 pankajkumarsoni  staff      28 Oct  2 23:02 Test1.py\r\n",
      "-rw-r--r--   1 pankajkumarsoni  staff   10496 Oct  3 20:08 YT_Channel_Subscriber_List.ipynb\r\n",
      "drwxr-xr-x   3 pankajkumarsoni  staff      96 Oct 26 20:54 \u001b[34m__pycache__\u001b[m\u001b[m\r\n",
      "-rw-r--r--   1 pankajkumarsoni  staff       0 Oct 31 20:00 abc.txt\r\n",
      "drwxr-xr-x   2 pankajkumarsoni  staff      64 Oct 31 21:09 \u001b[34mfile_io_folder\u001b[m\u001b[m\r\n",
      "-rw-r--r--   1 pankajkumarsoni  staff     351 Oct 26 20:54 module1.py\r\n",
      "-rw-r--r--   1 pankajkumarsoni  staff      64 Oct 31 21:08 sample_write.txt\r\n",
      "-rw-r--r--   1 pankajkumarsoni  staff     309 Oct 31 21:00 test_file.txt\r\n",
      "-rw-r--r--   1 pankajkumarsoni  staff      28 Oct 31 21:08 test_file_to_write.txt\r\n"
     ]
    }
   ],
   "source": [
    "!ls -al"
   ]
  },
  {
   "cell_type": "markdown",
   "metadata": {},
   "source": [
    "## - Exercise"
   ]
  },
  {
   "cell_type": "markdown",
   "metadata": {},
   "source": [
    "### 1. Removing blank lines from a given file"
   ]
  },
  {
   "cell_type": "code",
   "execution_count": 48,
   "metadata": {
    "ExecuteTime": {
     "end_time": "2021-10-31T15:39:43.362341Z",
     "start_time": "2021-10-31T15:39:43.356650Z"
    }
   },
   "outputs": [
    {
     "name": "stdout",
     "output_type": "stream",
     "text": [
      "This is Sample file with line1\n",
      "\n",
      "\n",
      "\n",
      "This is Sample file with line2\n",
      "\n",
      "\n",
      "This is Sample file with line3\n",
      "\n",
      "\n",
      "\n",
      "This is Sample file with line4\n",
      "\n",
      "\n",
      "This is Sample file with line5\n",
      "This is Sample file with line6\n",
      "\n",
      "\n",
      "\n",
      "\n",
      "This is Sample file with line7\n",
      "\n",
      "\n",
      "\n",
      "\n",
      "\n",
      "This is Sample file with line8\n",
      "\n",
      "\n",
      "\n",
      "\n",
      "\n",
      "\n",
      "\n",
      "\n",
      "\n",
      "\n",
      "\n",
      "This is Sample file with line9\n",
      "\n"
     ]
    }
   ],
   "source": [
    "fo = open(\"test_file.txt\")\n",
    "print(fo.read())"
   ]
  },
  {
   "cell_type": "code",
   "execution_count": 49,
   "metadata": {
    "ExecuteTime": {
     "end_time": "2021-10-31T15:39:43.370548Z",
     "start_time": "2021-10-31T15:39:43.365376Z"
    }
   },
   "outputs": [
    {
     "name": "stdout",
     "output_type": "stream",
     "text": [
      "This is Sample file with line1\n",
      "\n",
      "This is Sample file with line2\n",
      "\n",
      "This is Sample file with line3\n",
      "\n",
      "This is Sample file with line4\n",
      "\n",
      "This is Sample file with line5\n",
      "\n",
      "This is Sample file with line6\n",
      "\n",
      "This is Sample file with line7\n",
      "\n",
      "This is Sample file with line8\n",
      "\n",
      "This is Sample file with line9\n",
      "\n"
     ]
    }
   ],
   "source": [
    "fo = open(\"test_file.txt\")\n",
    "for line in fo:\n",
    "    if line != \"\\n\":\n",
    "        print(line)\n",
    "    "
   ]
  },
  {
   "cell_type": "markdown",
   "metadata": {},
   "source": [
    "### 1. Filtering those lines which has even number at the end of line ()"
   ]
  },
  {
   "cell_type": "code",
   "execution_count": 50,
   "metadata": {
    "ExecuteTime": {
     "end_time": "2021-10-31T15:39:43.382725Z",
     "start_time": "2021-10-31T15:39:43.374238Z"
    },
    "scrolled": true
   },
   "outputs": [
    {
     "name": "stdout",
     "output_type": "stream",
     "text": [
      "This is Sample file with line2\n",
      "\n",
      "This is Sample file with line4\n",
      "\n",
      "This is Sample file with line6\n",
      "\n",
      "This is Sample file with line8\n",
      "\n"
     ]
    }
   ],
   "source": [
    "fo = open(\"test_file.txt\")\n",
    "for line in fo:\n",
    "    if line != \"\\n\":\n",
    "#         print(type(line[-2]))\n",
    "        if int(line[-2])%2 == 0:\n",
    "            print(line)\n",
    "        \n",
    "    "
   ]
  }
 ],
 "metadata": {
  "kernelspec": {
   "display_name": "Python 3 (ipykernel)",
   "language": "python",
   "name": "python3"
  },
  "language_info": {
   "codemirror_mode": {
    "name": "ipython",
    "version": 3
   },
   "file_extension": ".py",
   "mimetype": "text/x-python",
   "name": "python",
   "nbconvert_exporter": "python",
   "pygments_lexer": "ipython3",
   "version": "3.8.5"
  },
  "toc": {
   "base_numbering": 1,
   "nav_menu": {},
   "number_sections": true,
   "sideBar": true,
   "skip_h1_title": false,
   "title_cell": "Table of Contents",
   "title_sidebar": "Contents",
   "toc_cell": false,
   "toc_position": {},
   "toc_section_display": true,
   "toc_window_display": true
  }
 },
 "nbformat": 4,
 "nbformat_minor": 2
}
