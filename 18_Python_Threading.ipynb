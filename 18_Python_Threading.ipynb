{
 "cells": [
  {
   "cell_type": "markdown",
   "id": "b1c67a54",
   "metadata": {},
   "source": [
    "# Threading"
   ]
  },
  {
   "cell_type": "markdown",
   "id": "c56d48a6",
   "metadata": {},
   "source": [
    "## Definition"
   ]
  },
  {
   "cell_type": "markdown",
   "id": "73bdc969",
   "metadata": {},
   "source": [
    "- Threading is a way of achieving multitasking.\n",
    "- A thread is an entity within a process that can be scheduled for execution\n",
    "- Using threads allows a program to run multiple operations concurrently in the same process space."
   ]
  },
  {
   "cell_type": "markdown",
   "id": "ade7a7e0",
   "metadata": {},
   "source": [
    "## Why do we need threading"
   ]
  },
  {
   "cell_type": "code",
   "execution_count": 1,
   "id": "03777071",
   "metadata": {
    "ExecuteTime": {
     "end_time": "2021-12-04T17:55:40.170641Z",
     "start_time": "2021-12-04T17:55:20.045885Z"
    }
   },
   "outputs": [
    {
     "name": "stdout",
     "output_type": "stream",
     "text": [
      "This is func1\n",
      "This is func1\n",
      "This is func1\n",
      "This is func1\n",
      "This is func1\n",
      "This is func2\n",
      "This is func2\n",
      "This is func2\n",
      "This is func2\n",
      "This is func2\n"
     ]
    }
   ],
   "source": [
    "import time\n",
    "def func1():\n",
    "    print(\"This is func1\")\n",
    "    time.sleep(2)\n",
    "\n",
    "def func2():\n",
    "    print(\"This is func2\")    \n",
    "    time.sleep(2)\n",
    "\n",
    "for i in range(5):\n",
    "    func1()\n",
    "    \n",
    "for i in range(5):\n",
    "    func2()    "
   ]
  },
  {
   "cell_type": "code",
   "execution_count": 2,
   "id": "d6405a99",
   "metadata": {
    "ExecuteTime": {
     "end_time": "2021-12-04T17:55:40.226365Z",
     "start_time": "2021-12-04T17:55:40.193599Z"
    }
   },
   "outputs": [
    {
     "name": "stdout",
     "output_type": "stream",
     "text": [
      "This is func1\n",
      "This is func1\n",
      "This is func1\n",
      "This is func1\n",
      "This is func1\n",
      "This is func2\n",
      "This is func2\n",
      "This is func2\n",
      "This is func2\n",
      "This is func2\n",
      "This is func1\n",
      "This is func2\n"
     ]
    }
   ],
   "source": [
    "import threading as th\n",
    "import time\n",
    "def func1():\n",
    "    print(\"This is func1\")\n",
    "#     time.sleep(2)\n",
    "\n",
    "def func2():\n",
    "    print(\"This is func2\")    \n",
    "#     time.sleep(2)\n",
    "\n",
    "for i in range(5):\n",
    "    func1()\n",
    "    \n",
    "for i in range(5):\n",
    "    func2()    \n",
    "t1 = th.Thread(target=func1)    \n",
    "t2 = th.Thread(target=func2)\n",
    "t1.start()\n",
    "t2.start()"
   ]
  },
  {
   "cell_type": "markdown",
   "id": "d8116947",
   "metadata": {
    "ExecuteTime": {
     "end_time": "2021-12-02T07:45:16.462579Z",
     "start_time": "2021-12-02T07:45:16.456764Z"
    }
   },
   "source": [
    "## How to get Name of main thread"
   ]
  },
  {
   "cell_type": "code",
   "execution_count": 3,
   "id": "1e79d508",
   "metadata": {
    "ExecuteTime": {
     "end_time": "2021-12-04T17:55:40.296917Z",
     "start_time": "2021-12-04T17:55:40.248798Z"
    }
   },
   "outputs": [
    {
     "name": "stdout",
     "output_type": "stream",
     "text": [
      "Thread name is Thread-9\n"
     ]
    }
   ],
   "source": [
    "def func3():\n",
    "    print(\"Thread name is {}\".format(th.currentThread().getName()))\n",
    "t1 = th.Thread(target=func3)\n",
    "t1.start()"
   ]
  },
  {
   "cell_type": "markdown",
   "id": "7fad2255",
   "metadata": {},
   "source": [
    "## Default Vs setting a Name to thread"
   ]
  },
  {
   "cell_type": "code",
   "execution_count": 4,
   "id": "f4935629",
   "metadata": {
    "ExecuteTime": {
     "end_time": "2021-12-04T17:55:40.371714Z",
     "start_time": "2021-12-04T17:55:40.323013Z"
    }
   },
   "outputs": [
    {
     "name": "stdout",
     "output_type": "stream",
     "text": [
      "Thread name is PyCSR\n"
     ]
    }
   ],
   "source": [
    "def func3():\n",
    "    print(\"Thread name is {}\".format(th.currentThread().getName()))\n",
    "t1 = th.Thread(target=func3,name=\"PyCSR\")\n",
    "t1.start()"
   ]
  },
  {
   "cell_type": "markdown",
   "id": "cbb10a67",
   "metadata": {},
   "source": [
    "## Passing argument to a function using thread"
   ]
  },
  {
   "cell_type": "code",
   "execution_count": 5,
   "id": "1edd5f18",
   "metadata": {
    "ExecuteTime": {
     "end_time": "2021-12-04T17:55:40.449888Z",
     "start_time": "2021-12-04T17:55:40.400602Z"
    }
   },
   "outputs": [
    {
     "name": "stdout",
     "output_type": "stream",
     "text": [
      "Thread name is PyCSR and passed arg is Pankaj\n"
     ]
    }
   ],
   "source": [
    "def func3(arg):\n",
    "    print(\"Thread name is {} and passed arg is {}\".format(th.currentThread().getName(),arg))\n",
    "t1 = th.Thread(target=func3,name=\"PyCSR\",args=(\"Pankaj\",))\n",
    "t1.start()"
   ]
  },
  {
   "cell_type": "markdown",
   "id": "83916edd",
   "metadata": {},
   "source": [
    "## `Daemon` vs. `Non-Daemon` Threads"
   ]
  },
  {
   "cell_type": "markdown",
   "id": "cd5f7963",
   "metadata": {},
   "source": [
    "- Sometimes programs spawn a thread as a `daemon that runs without blocking the main program from exiting`\n",
    "- To mark a thread as a daemon, call its `setDaemon() method with a boolean argument`. The default is for threads to not be daemons, so passing True turns the daemon mode on."
   ]
  },
  {
   "cell_type": "code",
   "execution_count": 6,
   "id": "9cf2801d",
   "metadata": {
    "ExecuteTime": {
     "end_time": "2021-12-04T17:55:40.526791Z",
     "start_time": "2021-12-04T17:55:40.473550Z"
    }
   },
   "outputs": [
    {
     "name": "stdout",
     "output_type": "stream",
     "text": [
      "Starting: I am in Daemon func\n",
      "\n",
      "Starting:I am in Non-Daemon func\n",
      "\n"
     ]
    }
   ],
   "source": [
    "def daemon_func():\n",
    "    print(\"Starting: I am in Daemon func\\n\")\n",
    "    time.sleep(2)\n",
    "    print(\"Exiting: I am in Daemon func\\n\")\n",
    "\n",
    "def non_daemon_func():\n",
    "    print(\"Starting:I am in Non-Daemon func\\n\")\n",
    "    time.sleep(2)\n",
    "    print(\"Exiting:I am in Non-Daemon func\\n\")\n",
    "dt = th.Thread(target=daemon_func)   \n",
    "dt.setDaemon(True)\n",
    "ndt = th.Thread(target=non_daemon_func)   \n",
    "dt.start()\n",
    "ndt.start()"
   ]
  },
  {
   "cell_type": "code",
   "execution_count": 7,
   "id": "1f8f6fac",
   "metadata": {
    "ExecuteTime": {
     "end_time": "2021-12-04T17:55:40.618196Z",
     "start_time": "2021-12-04T17:55:40.549200Z"
    }
   },
   "outputs": [
    {
     "name": "stdout",
     "output_type": "stream",
     "text": [
      "Starting: I am in Daemon func\n",
      "\n",
      "\n",
      "\n",
      "True\n",
      "Starting:I am in Non-Daemon func\n",
      "\n",
      "\n",
      "\n",
      "True\n"
     ]
    },
    {
     "name": "stderr",
     "output_type": "stream",
     "text": [
      "/var/folders/dt/34mh0kcs6vb1yfxmbqn51tm00000gp/T/ipykernel_1941/656658111.py:15: DeprecationWarning: isAlive() is deprecated, use is_alive() instead\n",
      "  print(dt.isAlive())\n",
      "/var/folders/dt/34mh0kcs6vb1yfxmbqn51tm00000gp/T/ipykernel_1941/656658111.py:18: DeprecationWarning: isAlive() is deprecated, use is_alive() instead\n",
      "  print(dt.isAlive())\n"
     ]
    }
   ],
   "source": [
    "def daemon_func():\n",
    "    print(\"Starting: I am in Daemon func\\n\")\n",
    "    time.sleep(2)\n",
    "    print(\"Exiting: I am in Daemon func\\n\")\n",
    "\n",
    "def non_daemon_func():\n",
    "    print(\"Starting:I am in Non-Daemon func\\n\")\n",
    "    time.sleep(2)\n",
    "    print(\"Exiting:I am in Non-Daemon func\\n\")\n",
    "dt = th.Thread(target=daemon_func)   \n",
    "dt.setDaemon(True)\n",
    "ndt = th.Thread(target=non_daemon_func)   \n",
    "dt.start()\n",
    "print(\"\\n\")\n",
    "print(dt.isAlive())\n",
    "ndt.start()\n",
    "print(\"\\n\")\n",
    "print(dt.isAlive())\n"
   ]
  },
  {
   "cell_type": "markdown",
   "id": "9537521a",
   "metadata": {},
   "source": [
    "## use of timeout in `join()`"
   ]
  },
  {
   "cell_type": "markdown",
   "id": "f9be837f",
   "metadata": {
    "ExecuteTime": {
     "end_time": "2021-12-04T17:00:17.110798Z",
     "start_time": "2021-12-04T17:00:17.106815Z"
    }
   },
   "source": [
    "- To wait until a daemon thread has completed its work, use the join() method."
   ]
  },
  {
   "cell_type": "code",
   "execution_count": 8,
   "id": "e613d646",
   "metadata": {
    "ExecuteTime": {
     "end_time": "2021-12-04T17:55:42.729723Z",
     "start_time": "2021-12-04T17:55:40.670122Z"
    }
   },
   "outputs": [
    {
     "name": "stdout",
     "output_type": "stream",
     "text": [
      "Starting: I am in Daemon func\n",
      "\n",
      "\n",
      "\n",
      "True\n",
      "Starting:I am in Non-Daemon func\n",
      "\n",
      "\n",
      "\n",
      "True\n"
     ]
    },
    {
     "name": "stderr",
     "output_type": "stream",
     "text": [
      "/var/folders/dt/34mh0kcs6vb1yfxmbqn51tm00000gp/T/ipykernel_1941/776250043.py:15: DeprecationWarning: isAlive() is deprecated, use is_alive() instead\n",
      "  print(dt.isAlive())\n",
      "/var/folders/dt/34mh0kcs6vb1yfxmbqn51tm00000gp/T/ipykernel_1941/776250043.py:18: DeprecationWarning: isAlive() is deprecated, use is_alive() instead\n",
      "  print(dt.isAlive())\n"
     ]
    },
    {
     "name": "stdout",
     "output_type": "stream",
     "text": [
      "Exiting:I am in Non-Daemon func\n",
      "Exiting: I am in Daemon func\n",
      "\n",
      "\n",
      "Exiting: I am in Daemon func\n",
      "Exiting:I am in Non-Daemon func\n",
      "\n",
      "\n",
      "Exiting: I am in Daemon func\n",
      "\n",
      "Exiting:I am in Non-Daemon func\n",
      "\n",
      "\n",
      "\n",
      "False\n"
     ]
    },
    {
     "name": "stderr",
     "output_type": "stream",
     "text": [
      "/var/folders/dt/34mh0kcs6vb1yfxmbqn51tm00000gp/T/ipykernel_1941/776250043.py:22: DeprecationWarning: isAlive() is deprecated, use is_alive() instead\n",
      "  print(dt.isAlive())\n"
     ]
    }
   ],
   "source": [
    "def daemon_func():\n",
    "    print(\"Starting: I am in Daemon func\\n\")\n",
    "    time.sleep(2)\n",
    "    print(\"Exiting: I am in Daemon func\\n\")\n",
    "\n",
    "def non_daemon_func():\n",
    "    print(\"Starting:I am in Non-Daemon func\\n\")\n",
    "    time.sleep(2)\n",
    "    print(\"Exiting:I am in Non-Daemon func\\n\")\n",
    "dt = th.Thread(target=daemon_func)   \n",
    "dt.setDaemon(True)\n",
    "ndt = th.Thread(target=non_daemon_func)   \n",
    "dt.start()\n",
    "print(\"\\n\")\n",
    "print(dt.isAlive())\n",
    "ndt.start()\n",
    "print(\"\\n\")\n",
    "print(dt.isAlive())\n",
    "dt.join()\n",
    "ndt.join()\n",
    "print(\"\\n\")\n",
    "print(dt.isAlive())"
   ]
  },
  {
   "cell_type": "code",
   "execution_count": 9,
   "id": "561cbd5f",
   "metadata": {
    "ExecuteTime": {
     "end_time": "2021-12-04T17:55:44.834273Z",
     "start_time": "2021-12-04T17:55:42.763514Z"
    }
   },
   "outputs": [
    {
     "name": "stderr",
     "output_type": "stream",
     "text": [
      "/var/folders/dt/34mh0kcs6vb1yfxmbqn51tm00000gp/T/ipykernel_1941/3366684429.py:15: DeprecationWarning: isAlive() is deprecated, use is_alive() instead\n",
      "  print(dt.isAlive())\n",
      "/var/folders/dt/34mh0kcs6vb1yfxmbqn51tm00000gp/T/ipykernel_1941/3366684429.py:18: DeprecationWarning: isAlive() is deprecated, use is_alive() instead\n",
      "  print(dt.isAlive())\n"
     ]
    },
    {
     "name": "stdout",
     "output_type": "stream",
     "text": [
      "Starting: I am in Daemon func\n",
      "\n",
      "\n",
      "\n",
      "True\n",
      "Starting:I am in Non-Daemon func\n",
      "\n",
      "\n",
      "\n",
      "True\n",
      "Exiting:I am in Non-Daemon func\n",
      "\n",
      "\n",
      "\n",
      "True\n"
     ]
    },
    {
     "name": "stderr",
     "output_type": "stream",
     "text": [
      "/var/folders/dt/34mh0kcs6vb1yfxmbqn51tm00000gp/T/ipykernel_1941/3366684429.py:22: DeprecationWarning: isAlive() is deprecated, use is_alive() instead\n",
      "  print(dt.isAlive())\n"
     ]
    }
   ],
   "source": [
    "def daemon_func():\n",
    "    print(\"Starting: I am in Daemon func\\n\")\n",
    "    time.sleep(5)\n",
    "    print(\"Exiting: I am in Daemon func\\n\")\n",
    "\n",
    "def non_daemon_func():\n",
    "    print(\"Starting:I am in Non-Daemon func\\n\")\n",
    "    time.sleep(2)\n",
    "    print(\"Exiting:I am in Non-Daemon func\\n\")\n",
    "dt = th.Thread(target=daemon_func)   \n",
    "dt.setDaemon(True)\n",
    "ndt = th.Thread(target=non_daemon_func)   \n",
    "dt.start()\n",
    "print(\"\\n\")\n",
    "print(dt.isAlive())\n",
    "ndt.start()\n",
    "print(\"\\n\")\n",
    "print(dt.isAlive())\n",
    "dt.join(2)\n",
    "ndt.join()\n",
    "print(\"\\n\")\n",
    "print(dt.isAlive())"
   ]
  },
  {
   "cell_type": "code",
   "execution_count": 10,
   "id": "4da593c2",
   "metadata": {
    "ExecuteTime": {
     "end_time": "2021-12-04T17:55:49.939846Z",
     "start_time": "2021-12-04T17:55:44.861079Z"
    }
   },
   "outputs": [
    {
     "name": "stdout",
     "output_type": "stream",
     "text": [
      "Starting: I am in Daemon func\n",
      "\n",
      "\n",
      "\n",
      "True\n",
      "Starting:I am in Non-Daemon func\n",
      "\n",
      "\n",
      "\n",
      "True\n"
     ]
    },
    {
     "name": "stderr",
     "output_type": "stream",
     "text": [
      "/var/folders/dt/34mh0kcs6vb1yfxmbqn51tm00000gp/T/ipykernel_1941/2718250875.py:15: DeprecationWarning: isAlive() is deprecated, use is_alive() instead\n",
      "  print(dt.isAlive())\n",
      "/var/folders/dt/34mh0kcs6vb1yfxmbqn51tm00000gp/T/ipykernel_1941/2718250875.py:18: DeprecationWarning: isAlive() is deprecated, use is_alive() instead\n",
      "  print(dt.isAlive())\n"
     ]
    },
    {
     "name": "stdout",
     "output_type": "stream",
     "text": [
      "Exiting:I am in Non-Daemon func\n",
      "\n",
      "Exiting: I am in Daemon func\n",
      "\n",
      "Exiting: I am in Daemon func\n",
      "\n",
      "\n",
      "\n",
      "False\n"
     ]
    },
    {
     "name": "stderr",
     "output_type": "stream",
     "text": [
      "/var/folders/dt/34mh0kcs6vb1yfxmbqn51tm00000gp/T/ipykernel_1941/2718250875.py:22: DeprecationWarning: isAlive() is deprecated, use is_alive() instead\n",
      "  print(dt.isAlive())\n"
     ]
    }
   ],
   "source": [
    "def daemon_func():\n",
    "    print(\"Starting: I am in Daemon func\\n\")\n",
    "    time.sleep(5)\n",
    "    print(\"Exiting: I am in Daemon func\\n\")\n",
    "\n",
    "def non_daemon_func():\n",
    "    print(\"Starting:I am in Non-Daemon func\\n\")\n",
    "    time.sleep(2)\n",
    "    print(\"Exiting:I am in Non-Daemon func\\n\")\n",
    "dt = th.Thread(target=daemon_func)   \n",
    "dt.setDaemon(True)\n",
    "ndt = th.Thread(target=non_daemon_func)   \n",
    "dt.start()\n",
    "print(\"\\n\")\n",
    "print(dt.isAlive())\n",
    "ndt.start()\n",
    "print(\"\\n\")\n",
    "print(dt.isAlive())\n",
    "dt.join(5)\n",
    "ndt.join()\n",
    "print(\"\\n\")\n",
    "print(dt.isAlive())"
   ]
  },
  {
   "cell_type": "markdown",
   "id": "34c6c24a",
   "metadata": {},
   "source": [
    "## How to check if a thread is Alive or not"
   ]
  },
  {
   "cell_type": "code",
   "execution_count": 11,
   "id": "3d325065",
   "metadata": {
    "ExecuteTime": {
     "end_time": "2021-12-04T17:55:50.005269Z",
     "start_time": "2021-12-04T17:55:49.960087Z"
    }
   },
   "outputs": [
    {
     "name": "stdout",
     "output_type": "stream",
     "text": [
      "False\n"
     ]
    },
    {
     "name": "stderr",
     "output_type": "stream",
     "text": [
      "/var/folders/dt/34mh0kcs6vb1yfxmbqn51tm00000gp/T/ipykernel_1941/909367542.py:1: DeprecationWarning: isAlive() is deprecated, use is_alive() instead\n",
      "  print(dt.isAlive())\n"
     ]
    }
   ],
   "source": [
    "print(dt.isAlive())"
   ]
  },
  {
   "cell_type": "markdown",
   "id": "d60ad1e7",
   "metadata": {},
   "source": [
    "# Synchronization between threads"
   ]
  },
  {
   "cell_type": "markdown",
   "id": "daffbbf9",
   "metadata": {},
   "source": [
    "- Thread synchronization is defined as a mechanism which ensures that two or more concurrent threads do not simultaneously execute some particular program segment known as `critical section`\n",
    "- Critical section refers to the parts of the program where the shared resource is accessed."
   ]
  },
  {
   "cell_type": "code",
   "execution_count": 12,
   "id": "afa1df72",
   "metadata": {
    "ExecuteTime": {
     "end_time": "2021-12-04T17:55:50.112737Z",
     "start_time": "2021-12-04T17:55:50.052774Z"
    }
   },
   "outputs": [
    {
     "name": "stdout",
     "output_type": "stream",
     "text": [
      "10\n"
     ]
    }
   ],
   "source": [
    "x = 0\n",
    "def func1():\n",
    "    global x\n",
    "    x += 1\n",
    "def increment():\n",
    "    for _ in range(10):\n",
    "        func1()\n",
    "increment()\n",
    "print(x)        "
   ]
  },
  {
   "cell_type": "code",
   "execution_count": 13,
   "id": "ceeab02c",
   "metadata": {
    "ExecuteTime": {
     "end_time": "2021-12-04T17:55:50.223134Z",
     "start_time": "2021-12-04T17:55:50.120301Z"
    }
   },
   "outputs": [
    {
     "name": "stdout",
     "output_type": "stream",
     "text": [
      "20000\n"
     ]
    }
   ],
   "source": [
    "x = 0\n",
    "def func1():\n",
    "    global x\n",
    "    x += 1\n",
    "def increment():\n",
    "    for _ in range(10000):\n",
    "        func1()\n",
    "t1 = th.Thread(target = increment)\n",
    "t2 = th.Thread(target = increment)\n",
    "t1.start()\n",
    "t2.start()\n",
    "print(x)"
   ]
  },
  {
   "cell_type": "markdown",
   "id": "89c639ec",
   "metadata": {},
   "source": [
    "## What is `race condition` in thread"
   ]
  },
  {
   "cell_type": "markdown",
   "id": "1022d77a",
   "metadata": {},
   "source": [
    "- Concurrent accesses to shared resource can lead to race condition."
   ]
  },
  {
   "cell_type": "code",
   "execution_count": 14,
   "id": "75434e33",
   "metadata": {
    "ExecuteTime": {
     "end_time": "2021-12-04T17:55:50.763042Z",
     "start_time": "2021-12-04T17:55:50.629341Z"
    }
   },
   "outputs": [
    {
     "name": "stdout",
     "output_type": "stream",
     "text": [
      "21282\n"
     ]
    }
   ],
   "source": [
    "x = 0\n",
    "def func1():\n",
    "    global x\n",
    "    x += 1\n",
    "def increment():\n",
    "    for _ in range(100000):\n",
    "        func1()\n",
    "t1 = th.Thread(target = increment)\n",
    "t2 = th.Thread(target = increment)\n",
    "t1.start()\n",
    "t2.start()\n",
    "print(x)"
   ]
  },
  {
   "cell_type": "markdown",
   "id": "f7aa12a8",
   "metadata": {},
   "source": [
    "## Solving race condition using `lock()` and `acquire() + release()` function"
   ]
  },
  {
   "cell_type": "code",
   "execution_count": 15,
   "id": "ef4a3d02",
   "metadata": {
    "ExecuteTime": {
     "end_time": "2021-12-04T17:55:50.763042Z",
     "start_time": "2021-12-04T17:55:50.629341Z"
    }
   },
   "outputs": [
    {
     "name": "stdout",
     "output_type": "stream",
     "text": [
      "20000\n"
     ]
    }
   ],
   "source": [
    "x = 0\n",
    "def func1():\n",
    "    global x\n",
    "    x += 1\n",
    "def increment(lock): # lock object to be passed in function\n",
    "    for _ in range(10000):\n",
    "        lc.acquire()\n",
    "        func1()\n",
    "        lc.release()\n",
    "lc = th.Lock()        \n",
    "t1 = th.Thread(target = increment,args=(lc,))\n",
    "t2 = th.Thread(target = increment,args=(lc,))\n",
    "t1.start()\n",
    "t2.start()\n",
    "t1.join()\n",
    "t2.join()\n",
    "print(x)"
   ]
  },
  {
   "cell_type": "markdown",
   "id": "9cff5c8b",
   "metadata": {},
   "source": [
    "## Using `with` for locking "
   ]
  },
  {
   "cell_type": "markdown",
   "id": "0cd0e08b",
   "metadata": {},
   "source": [
    "- Using with removes the need to explicitly acquire and release the lock."
   ]
  },
  {
   "cell_type": "code",
   "execution_count": 16,
   "id": "fd3cfcf5",
   "metadata": {
    "ExecuteTime": {
     "end_time": "2021-12-04T17:55:50.913456Z",
     "start_time": "2021-12-04T17:55:50.783417Z"
    }
   },
   "outputs": [
    {
     "name": "stdout",
     "output_type": "stream",
     "text": [
      "20000\n"
     ]
    }
   ],
   "source": [
    "x = 0\n",
    "def func1():\n",
    "    global x\n",
    "    x += 1\n",
    "def increment(lock): # lock object to be passed in function\n",
    "    for _ in range(10000):\n",
    "        with lc:\n",
    "            func1()\n",
    "lc = th.Lock()        \n",
    "t1 = th.Thread(target = increment,args=(lc,))\n",
    "t2 = th.Thread(target = increment,args=(lc,))\n",
    "t1.start()\n",
    "t2.start()\n",
    "t1.join()\n",
    "t2.join()\n",
    "print(x)"
   ]
  },
  {
   "cell_type": "markdown",
   "id": "9bfdad07",
   "metadata": {},
   "source": [
    "## using logging module in threadding"
   ]
  },
  {
   "cell_type": "code",
   "execution_count": 21,
   "id": "39fc6137",
   "metadata": {
    "ExecuteTime": {
     "end_time": "2021-12-04T17:58:37.024739Z",
     "start_time": "2021-12-04T17:58:36.996575Z"
    }
   },
   "outputs": [
    {
     "name": "stderr",
     "output_type": "stream",
     "text": [
      "THREAD-1000\n"
     ]
    }
   ],
   "source": [
    "import logging as lg\n",
    "lg.basicConfig(level=lg.DEBUG,format=\"%(threadName)s\")\n",
    "# lg.basicConfig(level=lg.DEBUG,format=\"%(threadName)s %(asctime)s %(funcName)s %(levelname)s\")\n",
    "def func1():\n",
    "    lg.debug(\"Starting thread\")\n",
    "t1 = th.Thread(target=func1,name=\"THREAD-1000\")\n",
    "t1.start()"
   ]
  },
  {
   "cell_type": "markdown",
   "id": "e9184f2f",
   "metadata": {},
   "source": [
    "## Interview Questions"
   ]
  },
  {
   "cell_type": "markdown",
   "id": "2b903276",
   "metadata": {},
   "source": [
    "### What is Threading ?"
   ]
  },
  {
   "cell_type": "markdown",
   "id": "bbd5be1d",
   "metadata": {},
   "source": [
    "### Why Thread joining is required ?"
   ]
  },
  {
   "cell_type": "markdown",
   "id": "4bb02a22",
   "metadata": {},
   "source": [
    "### What is Daemon thread ?"
   ]
  },
  {
   "cell_type": "markdown",
   "id": "58644310",
   "metadata": {},
   "source": [
    "### Why do we use lock in threading ?"
   ]
  },
  {
   "cell_type": "markdown",
   "id": "df5b76a1",
   "metadata": {
    "ExecuteTime": {
     "end_time": "2021-12-04T16:42:28.641056Z",
     "start_time": "2021-12-04T16:42:28.637172Z"
    }
   },
   "source": [
    "### How to check if given thread is alive or not ?"
   ]
  }
 ],
 "metadata": {
  "kernelspec": {
   "display_name": "Python 3 (ipykernel)",
   "language": "python",
   "name": "python3"
  },
  "language_info": {
   "codemirror_mode": {
    "name": "ipython",
    "version": 3
   },
   "file_extension": ".py",
   "mimetype": "text/x-python",
   "name": "python",
   "nbconvert_exporter": "python",
   "pygments_lexer": "ipython3",
   "version": "3.8.5"
  },
  "toc": {
   "base_numbering": 1,
   "nav_menu": {},
   "number_sections": true,
   "sideBar": true,
   "skip_h1_title": false,
   "title_cell": "Table of Contents",
   "title_sidebar": "Contents",
   "toc_cell": false,
   "toc_position": {},
   "toc_section_display": true,
   "toc_window_display": true
  }
 },
 "nbformat": 4,
 "nbformat_minor": 5
}
