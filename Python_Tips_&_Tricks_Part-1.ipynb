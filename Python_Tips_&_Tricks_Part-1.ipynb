{
 "cells": [
  {
   "cell_type": "markdown",
   "id": "0e6fc671",
   "metadata": {},
   "source": [
    "# Python Tips and Tricks"
   ]
  },
  {
   "cell_type": "markdown",
   "id": "25c27738",
   "metadata": {},
   "source": [
    "## Ways of Variable unpacking"
   ]
  },
  {
   "cell_type": "code",
   "execution_count": 1,
   "id": "e9c0646b",
   "metadata": {
    "ExecuteTime": {
     "end_time": "2021-10-02T17:53:12.803618Z",
     "start_time": "2021-10-02T17:53:12.798222Z"
    }
   },
   "outputs": [
    {
     "name": "stdout",
     "output_type": "stream",
     "text": [
      "1\n",
      "3\n"
     ]
    }
   ],
   "source": [
    "a = 1\n",
    "b = 3\n",
    "print(a)\n",
    "print(b)"
   ]
  },
  {
   "cell_type": "code",
   "execution_count": 2,
   "id": "dce2894b",
   "metadata": {
    "ExecuteTime": {
     "end_time": "2021-10-02T17:53:12.814200Z",
     "start_time": "2021-10-02T17:53:12.809942Z"
    }
   },
   "outputs": [
    {
     "name": "stdout",
     "output_type": "stream",
     "text": [
      "1\n",
      "2\n"
     ]
    }
   ],
   "source": [
    "a,b = 1,2\n",
    "print(a)\n",
    "print(b)"
   ]
  },
  {
   "cell_type": "code",
   "execution_count": 3,
   "id": "274d50ab",
   "metadata": {
    "ExecuteTime": {
     "end_time": "2021-10-02T17:53:12.963751Z",
     "start_time": "2021-10-02T17:53:12.817469Z"
    }
   },
   "outputs": [
    {
     "ename": "ValueError",
     "evalue": "not enough values to unpack (expected 3, got 2)",
     "output_type": "error",
     "traceback": [
      "\u001b[0;31m---------------------------------------------------------------------------\u001b[0m",
      "\u001b[0;31mValueError\u001b[0m                                Traceback (most recent call last)",
      "\u001b[0;32m/var/folders/dt/34mh0kcs6vb1yfxmbqn51tm00000gp/T/ipykernel_45230/3693810586.py\u001b[0m in \u001b[0;36m<module>\u001b[0;34m\u001b[0m\n\u001b[0;32m----> 1\u001b[0;31m \u001b[0ma\u001b[0m\u001b[0;34m,\u001b[0m\u001b[0mb\u001b[0m\u001b[0;34m,\u001b[0m\u001b[0mc\u001b[0m \u001b[0;34m=\u001b[0m \u001b[0;36m1\u001b[0m\u001b[0;34m,\u001b[0m\u001b[0;36m2\u001b[0m\u001b[0;34m\u001b[0m\u001b[0;34m\u001b[0m\u001b[0m\n\u001b[0m\u001b[1;32m      2\u001b[0m \u001b[0;31m# print(a)\u001b[0m\u001b[0;34m\u001b[0m\u001b[0;34m\u001b[0m\u001b[0;34m\u001b[0m\u001b[0m\n\u001b[1;32m      3\u001b[0m \u001b[0;31m# print(b)\u001b[0m\u001b[0;34m\u001b[0m\u001b[0;34m\u001b[0m\u001b[0;34m\u001b[0m\u001b[0m\n",
      "\u001b[0;31mValueError\u001b[0m: not enough values to unpack (expected 3, got 2)"
     ]
    }
   ],
   "source": [
    "a,b,c = 1,2\n",
    "# print(a)\n",
    "# print(b)"
   ]
  },
  {
   "cell_type": "code",
   "execution_count": 4,
   "id": "369ff76f",
   "metadata": {
    "ExecuteTime": {
     "end_time": "2021-10-02T17:53:29.756343Z",
     "start_time": "2021-10-02T17:53:29.749255Z"
    }
   },
   "outputs": [
    {
     "ename": "ValueError",
     "evalue": "too many values to unpack (expected 2)",
     "output_type": "error",
     "traceback": [
      "\u001b[0;31m---------------------------------------------------------------------------\u001b[0m",
      "\u001b[0;31mValueError\u001b[0m                                Traceback (most recent call last)",
      "\u001b[0;32m/var/folders/dt/34mh0kcs6vb1yfxmbqn51tm00000gp/T/ipykernel_45230/4179941679.py\u001b[0m in \u001b[0;36m<module>\u001b[0;34m\u001b[0m\n\u001b[0;32m----> 1\u001b[0;31m \u001b[0ma\u001b[0m\u001b[0;34m,\u001b[0m\u001b[0mb\u001b[0m \u001b[0;34m=\u001b[0m \u001b[0;36m1\u001b[0m\u001b[0;34m,\u001b[0m\u001b[0;36m2\u001b[0m\u001b[0;34m,\u001b[0m\u001b[0;36m3\u001b[0m\u001b[0;34m\u001b[0m\u001b[0;34m\u001b[0m\u001b[0m\n\u001b[0m\u001b[1;32m      2\u001b[0m \u001b[0;31m# print(a)\u001b[0m\u001b[0;34m\u001b[0m\u001b[0;34m\u001b[0m\u001b[0;34m\u001b[0m\u001b[0m\n\u001b[1;32m      3\u001b[0m \u001b[0;31m# print(b)\u001b[0m\u001b[0;34m\u001b[0m\u001b[0;34m\u001b[0m\u001b[0;34m\u001b[0m\u001b[0m\n",
      "\u001b[0;31mValueError\u001b[0m: too many values to unpack (expected 2)"
     ]
    }
   ],
   "source": [
    "a,b = 1,2,3\n",
    "# print(a)\n",
    "# print(b)"
   ]
  },
  {
   "cell_type": "code",
   "execution_count": 7,
   "id": "c8c32394",
   "metadata": {
    "ExecuteTime": {
     "end_time": "2021-10-02T17:53:35.514817Z",
     "start_time": "2021-10-02T17:53:35.511773Z"
    }
   },
   "outputs": [],
   "source": [
    "# using * operator"
   ]
  },
  {
   "cell_type": "code",
   "execution_count": 8,
   "id": "5b05e186",
   "metadata": {
    "ExecuteTime": {
     "end_time": "2021-10-02T17:53:35.523080Z",
     "start_time": "2021-10-02T17:53:35.518045Z"
    }
   },
   "outputs": [
    {
     "name": "stdout",
     "output_type": "stream",
     "text": [
      "1\n",
      "[2, 3]\n",
      "4\n"
     ]
    }
   ],
   "source": [
    "a,*b,c = 1,2,3,4\n",
    "print(a)\n",
    "print(b)\n",
    "print(c)"
   ]
  },
  {
   "cell_type": "code",
   "execution_count": 9,
   "id": "5ba7e4b7",
   "metadata": {
    "ExecuteTime": {
     "end_time": "2021-10-02T17:53:35.529651Z",
     "start_time": "2021-10-02T17:53:35.525394Z"
    }
   },
   "outputs": [
    {
     "name": "stdout",
     "output_type": "stream",
     "text": [
      "1\n",
      "2\n",
      "[3, 4]\n"
     ]
    }
   ],
   "source": [
    "a,b,*c = 1,2,3,4\n",
    "print(a)\n",
    "print(b)\n",
    "print(c)"
   ]
  },
  {
   "cell_type": "code",
   "execution_count": 10,
   "id": "ebc8609d",
   "metadata": {
    "ExecuteTime": {
     "end_time": "2021-10-02T17:53:46.008556Z",
     "start_time": "2021-10-02T17:53:46.004052Z"
    }
   },
   "outputs": [
    {
     "ename": "SyntaxError",
     "evalue": "two starred expressions in assignment (1043388624.py, line 1)",
     "output_type": "error",
     "traceback": [
      "\u001b[0;36m  File \u001b[0;32m\"/var/folders/dt/34mh0kcs6vb1yfxmbqn51tm00000gp/T/ipykernel_45230/1043388624.py\"\u001b[0;36m, line \u001b[0;32m1\u001b[0m\n\u001b[0;31m    a,*b,*c,d = 1,2,3,4,5,6 # Only single * assignmment expression can be used in values unpacking\u001b[0m\n\u001b[0m    ^\u001b[0m\n\u001b[0;31mSyntaxError\u001b[0m\u001b[0;31m:\u001b[0m two starred expressions in assignment\n"
     ]
    }
   ],
   "source": [
    "a,*b,*c,d = 1,2,3,4,5,6 # Only single * assignmment expression can be used in values unpacking\n",
    "print(a)\n",
    "print(b)\n",
    "print(c)"
   ]
  },
  {
   "cell_type": "markdown",
   "id": "433cf7fb",
   "metadata": {},
   "source": [
    "## swapping variable's value"
   ]
  },
  {
   "cell_type": "code",
   "execution_count": 11,
   "id": "e6b40978",
   "metadata": {
    "ExecuteTime": {
     "end_time": "2021-10-02T17:53:50.458398Z",
     "start_time": "2021-10-02T17:53:50.454781Z"
    }
   },
   "outputs": [
    {
     "name": "stdout",
     "output_type": "stream",
     "text": [
      "2\n",
      "1\n"
     ]
    }
   ],
   "source": [
    "a = 1\n",
    "b = 2\n",
    "a,b = b,a\n",
    "print(a)\n",
    "print(b)"
   ]
  },
  {
   "cell_type": "markdown",
   "id": "dc23e0fe",
   "metadata": {},
   "source": [
    "## use of ID for number more than 256"
   ]
  },
  {
   "cell_type": "code",
   "execution_count": 12,
   "id": "7a30bf8b",
   "metadata": {
    "ExecuteTime": {
     "end_time": "2021-10-02T17:53:50.467803Z",
     "start_time": "2021-10-02T17:53:50.464176Z"
    }
   },
   "outputs": [
    {
     "name": "stdout",
     "output_type": "stream",
     "text": [
      "4520323712\n",
      "4520323712\n"
     ]
    }
   ],
   "source": [
    "a = 10\n",
    "b = 10\n",
    "print(id(a))\n",
    "print(id(b))"
   ]
  },
  {
   "cell_type": "code",
   "execution_count": 13,
   "id": "ddff23c7",
   "metadata": {
    "ExecuteTime": {
     "end_time": "2021-10-02T17:53:50.475019Z",
     "start_time": "2021-10-02T17:53:50.470780Z"
    }
   },
   "outputs": [
    {
     "data": {
      "text/plain": [
       "True"
      ]
     },
     "execution_count": 13,
     "metadata": {},
     "output_type": "execute_result"
    }
   ],
   "source": [
    "a = 10\n",
    "b = 10\n",
    "a is b"
   ]
  },
  {
   "cell_type": "code",
   "execution_count": 14,
   "id": "41d80fd9",
   "metadata": {
    "ExecuteTime": {
     "end_time": "2021-10-02T17:53:50.481567Z",
     "start_time": "2021-10-02T17:53:50.477014Z"
    }
   },
   "outputs": [
    {
     "data": {
      "text/plain": [
       "True"
      ]
     },
     "execution_count": 14,
     "metadata": {},
     "output_type": "execute_result"
    }
   ],
   "source": [
    "a = 256\n",
    "b = 256\n",
    "a is b"
   ]
  },
  {
   "cell_type": "code",
   "execution_count": 15,
   "id": "b6cc6509",
   "metadata": {
    "ExecuteTime": {
     "end_time": "2021-10-02T17:53:50.487380Z",
     "start_time": "2021-10-02T17:53:50.484372Z"
    }
   },
   "outputs": [],
   "source": [
    "# In python -5 to 256 integer numbers are already cached."
   ]
  },
  {
   "cell_type": "code",
   "execution_count": 16,
   "id": "020f75f9",
   "metadata": {
    "ExecuteTime": {
     "end_time": "2021-10-02T17:53:50.494025Z",
     "start_time": "2021-10-02T17:53:50.489599Z"
    }
   },
   "outputs": [
    {
     "data": {
      "text/plain": [
       "False"
      ]
     },
     "execution_count": 16,
     "metadata": {},
     "output_type": "execute_result"
    }
   ],
   "source": [
    "a = 257 #\n",
    "b = 257\n",
    "a is b"
   ]
  },
  {
   "cell_type": "markdown",
   "id": "6bf0b4ad",
   "metadata": {},
   "source": [
    "## Use of `list()` and `tuple()` functions"
   ]
  },
  {
   "cell_type": "code",
   "execution_count": 17,
   "id": "bc5b9ade",
   "metadata": {
    "ExecuteTime": {
     "end_time": "2021-10-02T17:53:50.500360Z",
     "start_time": "2021-10-02T17:53:50.496273Z"
    }
   },
   "outputs": [
    {
     "name": "stdout",
     "output_type": "stream",
     "text": [
      "<class 'list'>\n",
      "<class 'tuple'>\n"
     ]
    }
   ],
   "source": [
    "a = [1,2,3]\n",
    "b = (4,5,6)\n",
    "print(type(a))\n",
    "print(type(b))"
   ]
  },
  {
   "cell_type": "code",
   "execution_count": 18,
   "id": "aa6962ab",
   "metadata": {
    "ExecuteTime": {
     "end_time": "2021-10-02T17:53:50.506514Z",
     "start_time": "2021-10-02T17:53:50.502468Z"
    }
   },
   "outputs": [
    {
     "name": "stdout",
     "output_type": "stream",
     "text": [
      "<class 'tuple'>\n",
      "<class 'list'>\n"
     ]
    }
   ],
   "source": [
    "c = tuple(a)\n",
    "d = list(b)\n",
    "print(type(c))\n",
    "print(type(d))"
   ]
  },
  {
   "cell_type": "markdown",
   "id": "9377e4e5",
   "metadata": {},
   "source": [
    "## Can we modify a list which is used as an element inside Tuple ?"
   ]
  },
  {
   "cell_type": "code",
   "execution_count": 19,
   "id": "0a784a45",
   "metadata": {
    "ExecuteTime": {
     "end_time": "2021-10-02T17:53:50.515855Z",
     "start_time": "2021-10-02T17:53:50.511285Z"
    }
   },
   "outputs": [
    {
     "data": {
      "text/plain": [
       "[7, 8, 9]"
      ]
     },
     "execution_count": 19,
     "metadata": {},
     "output_type": "execute_result"
    }
   ],
   "source": [
    "a = (4,5,6,[7,8,9])\n",
    "# change 7 to 700\n",
    "a[3]"
   ]
  },
  {
   "cell_type": "code",
   "execution_count": 20,
   "id": "36197419",
   "metadata": {
    "ExecuteTime": {
     "end_time": "2021-10-02T17:53:50.522201Z",
     "start_time": "2021-10-02T17:53:50.517809Z"
    }
   },
   "outputs": [
    {
     "data": {
      "text/plain": [
       "7"
      ]
     },
     "execution_count": 20,
     "metadata": {},
     "output_type": "execute_result"
    }
   ],
   "source": [
    "a[3][0]"
   ]
  },
  {
   "cell_type": "code",
   "execution_count": 21,
   "id": "e93dabae",
   "metadata": {
    "ExecuteTime": {
     "end_time": "2021-10-02T17:53:50.528082Z",
     "start_time": "2021-10-02T17:53:50.524847Z"
    }
   },
   "outputs": [],
   "source": [
    "a[3][0] = 700"
   ]
  },
  {
   "cell_type": "code",
   "execution_count": 22,
   "id": "e76c17c7",
   "metadata": {
    "ExecuteTime": {
     "end_time": "2021-10-02T17:53:50.536141Z",
     "start_time": "2021-10-02T17:53:50.530760Z"
    }
   },
   "outputs": [
    {
     "data": {
      "text/plain": [
       "(4, 5, 6, [700, 8, 9])"
      ]
     },
     "execution_count": 22,
     "metadata": {},
     "output_type": "execute_result"
    }
   ],
   "source": [
    "a"
   ]
  },
  {
   "cell_type": "markdown",
   "id": "12e66042",
   "metadata": {},
   "source": [
    "## How to do zip and unzip of an iterator using `zip` and `unpacking operator *`"
   ]
  },
  {
   "cell_type": "markdown",
   "id": "900a62aa",
   "metadata": {},
   "source": [
    "### zip"
   ]
  },
  {
   "cell_type": "code",
   "execution_count": 23,
   "id": "805d99a9",
   "metadata": {
    "ExecuteTime": {
     "end_time": "2021-10-02T17:53:50.544200Z",
     "start_time": "2021-10-02T17:53:50.538383Z"
    }
   },
   "outputs": [
    {
     "data": {
      "text/plain": [
       "zip"
      ]
     },
     "execution_count": 23,
     "metadata": {},
     "output_type": "execute_result"
    }
   ],
   "source": [
    "a = [1,2,3]\n",
    "b = [4,5,6]\n",
    "c = zip(a,b)\n",
    "type(c)"
   ]
  },
  {
   "cell_type": "code",
   "execution_count": 24,
   "id": "83af8e4d",
   "metadata": {
    "ExecuteTime": {
     "end_time": "2021-10-02T17:53:50.552572Z",
     "start_time": "2021-10-02T17:53:50.546709Z"
    }
   },
   "outputs": [
    {
     "data": {
      "text/plain": [
       "[(1, 4), (2, 5), (3, 6)]"
      ]
     },
     "execution_count": 24,
     "metadata": {},
     "output_type": "execute_result"
    }
   ],
   "source": [
    "list(c)"
   ]
  },
  {
   "cell_type": "code",
   "execution_count": 25,
   "id": "2173a0a2",
   "metadata": {
    "ExecuteTime": {
     "end_time": "2021-10-02T17:53:50.561366Z",
     "start_time": "2021-10-02T17:53:50.555613Z"
    }
   },
   "outputs": [
    {
     "data": {
      "text/plain": [
       "[(1, 6), (2, 7), (3, 8)]"
      ]
     },
     "execution_count": 25,
     "metadata": {},
     "output_type": "execute_result"
    }
   ],
   "source": [
    "a = [1,2,3,4,5]\n",
    "b = [6,7,8]\n",
    "c = zip(a,b)\n",
    "list(c)"
   ]
  },
  {
   "cell_type": "markdown",
   "id": "688e55ef",
   "metadata": {},
   "source": [
    "### unzip"
   ]
  },
  {
   "cell_type": "code",
   "execution_count": 26,
   "id": "29b074ba",
   "metadata": {
    "ExecuteTime": {
     "end_time": "2021-10-02T17:53:58.728457Z",
     "start_time": "2021-10-02T17:53:58.723112Z"
    }
   },
   "outputs": [],
   "source": [
    "a = [1,2,3]\n",
    "b = [4,5,6]\n",
    "c = zip(a,b)"
   ]
  },
  {
   "cell_type": "code",
   "execution_count": 27,
   "id": "06424e52",
   "metadata": {
    "ExecuteTime": {
     "end_time": "2021-10-02T17:53:58.728457Z",
     "start_time": "2021-10-02T17:53:58.723112Z"
    }
   },
   "outputs": [
    {
     "data": {
      "text/plain": [
       "[(1, 6), (2, 7), (3, 8)]"
      ]
     },
     "execution_count": 27,
     "metadata": {},
     "output_type": "execute_result"
    }
   ],
   "source": [
    "a = [1,2,3,4,5]\n",
    "b = [6,7,8]\n",
    "c = zip(a,b)\n",
    "list(c)"
   ]
  },
  {
   "cell_type": "code",
   "execution_count": 28,
   "id": "e39d03e9",
   "metadata": {
    "ExecuteTime": {
     "end_time": "2021-10-02T17:53:58.735282Z",
     "start_time": "2021-10-02T17:53:58.730894Z"
    }
   },
   "outputs": [
    {
     "data": {
      "text/plain": [
       "[]"
      ]
     },
     "execution_count": 28,
     "metadata": {},
     "output_type": "execute_result"
    }
   ],
   "source": [
    "d = zip(*c)\n",
    "list(d)"
   ]
  },
  {
   "cell_type": "code",
   "execution_count": 29,
   "id": "042ad034",
   "metadata": {
    "ExecuteTime": {
     "end_time": "2021-10-02T17:53:58.740618Z",
     "start_time": "2021-10-02T17:53:58.737455Z"
    }
   },
   "outputs": [],
   "source": [
    "a = [1,2,3,4,5]\n",
    "b = [6,7,8]\n",
    "c = zip(a,b)"
   ]
  },
  {
   "cell_type": "code",
   "execution_count": 30,
   "id": "8cf9022e",
   "metadata": {
    "ExecuteTime": {
     "end_time": "2021-10-02T17:53:58.747537Z",
     "start_time": "2021-10-02T17:53:58.743916Z"
    }
   },
   "outputs": [],
   "source": [
    "d = zip(*c)"
   ]
  },
  {
   "cell_type": "code",
   "execution_count": 31,
   "id": "b94fd27c",
   "metadata": {
    "ExecuteTime": {
     "end_time": "2021-10-02T17:53:58.752834Z",
     "start_time": "2021-10-02T17:53:58.749458Z"
    }
   },
   "outputs": [
    {
     "name": "stdout",
     "output_type": "stream",
     "text": [
      "(1, 2, 3)\n",
      "(6, 7, 8)\n"
     ]
    }
   ],
   "source": [
    "e,f = list(d)\n",
    "print(e)\n",
    "print(f)"
   ]
  },
  {
   "cell_type": "markdown",
   "id": "d0e652ad",
   "metadata": {},
   "source": [
    "## Merging multiple dictionary using `**` operator"
   ]
  },
  {
   "cell_type": "code",
   "execution_count": 32,
   "id": "648ceafa",
   "metadata": {
    "ExecuteTime": {
     "end_time": "2021-10-02T17:53:58.758954Z",
     "start_time": "2021-10-02T17:53:58.755059Z"
    }
   },
   "outputs": [
    {
     "name": "stdout",
     "output_type": "stream",
     "text": [
      "{'A': 1, 'B': 2}\n",
      "{'C': 3}\n"
     ]
    }
   ],
   "source": [
    "a = {\"A\":1,\"B\":2}\n",
    "b = {\"C\":3}\n",
    "print(a)\n",
    "print(b)"
   ]
  },
  {
   "cell_type": "code",
   "execution_count": 33,
   "id": "ef29273d",
   "metadata": {
    "ExecuteTime": {
     "end_time": "2021-10-02T17:53:58.765879Z",
     "start_time": "2021-10-02T17:53:58.761048Z"
    }
   },
   "outputs": [
    {
     "data": {
      "text/plain": [
       "{'A': 1, 'B': 2}"
      ]
     },
     "execution_count": 33,
     "metadata": {},
     "output_type": "execute_result"
    }
   ],
   "source": [
    "a.update(c)\n",
    "a"
   ]
  },
  {
   "cell_type": "code",
   "execution_count": 34,
   "id": "595f149d",
   "metadata": {
    "ExecuteTime": {
     "end_time": "2021-10-02T17:53:58.776641Z",
     "start_time": "2021-10-02T17:53:58.771695Z"
    }
   },
   "outputs": [
    {
     "data": {
      "text/plain": [
       "{'A': 1, 'B': 2}"
      ]
     },
     "execution_count": 34,
     "metadata": {},
     "output_type": "execute_result"
    }
   ],
   "source": [
    "b.update(c)\n",
    "a"
   ]
  },
  {
   "cell_type": "code",
   "execution_count": 35,
   "id": "87caed6d",
   "metadata": {
    "ExecuteTime": {
     "end_time": "2021-10-02T17:53:58.781470Z",
     "start_time": "2021-10-02T17:53:58.779082Z"
    }
   },
   "outputs": [],
   "source": [
    "# by using **"
   ]
  },
  {
   "cell_type": "code",
   "execution_count": 36,
   "id": "46316161",
   "metadata": {
    "ExecuteTime": {
     "end_time": "2021-10-02T17:53:58.788090Z",
     "start_time": "2021-10-02T17:53:58.783744Z"
    }
   },
   "outputs": [
    {
     "data": {
      "text/plain": [
       "{'A': 1, 'B': 2, 'C': 3}"
      ]
     },
     "execution_count": 36,
     "metadata": {},
     "output_type": "execute_result"
    }
   ],
   "source": [
    "d = {**a,**b}\n",
    "d"
   ]
  },
  {
   "cell_type": "markdown",
   "id": "73c99c92",
   "metadata": {},
   "source": [
    "## Execution speed for append and insert"
   ]
  },
  {
   "cell_type": "code",
   "execution_count": 37,
   "id": "7255d569",
   "metadata": {
    "ExecuteTime": {
     "end_time": "2021-10-02T17:53:58.946976Z",
     "start_time": "2021-10-02T17:53:58.790608Z"
    }
   },
   "outputs": [],
   "source": [
    "a = []\n",
    "count = 10**6\n",
    "for i in range(count):\n",
    "    a.append(i)\n",
    "# len(a)"
   ]
  },
  {
   "cell_type": "code",
   "execution_count": 38,
   "id": "bb7b20d3",
   "metadata": {
    "ExecuteTime": {
     "end_time": "2021-10-02T17:54:01.720891Z",
     "start_time": "2021-10-02T17:53:58.949017Z"
    }
   },
   "outputs": [],
   "source": [
    "a = []\n",
    "count = 10**5\n",
    "for i in range(count):\n",
    "    a.insert(0,i)\n",
    "# len(a)"
   ]
  },
  {
   "cell_type": "markdown",
   "id": "19224428",
   "metadata": {},
   "source": [
    "## How to use time module for execution time profiling"
   ]
  },
  {
   "cell_type": "code",
   "execution_count": 39,
   "id": "f18e1d5f",
   "metadata": {
    "ExecuteTime": {
     "end_time": "2021-10-02T17:54:01.724838Z",
     "start_time": "2021-10-02T17:54:01.722202Z"
    }
   },
   "outputs": [],
   "source": [
    "import time"
   ]
  },
  {
   "cell_type": "code",
   "execution_count": 40,
   "id": "3b46c6e7",
   "metadata": {
    "ExecuteTime": {
     "end_time": "2021-10-02T17:54:02.793844Z",
     "start_time": "2021-10-02T17:54:01.726569Z"
    }
   },
   "outputs": [
    {
     "name": "stdout",
     "output_type": "stream",
     "text": [
      "Total execution time:: 1.0641050338745117s\n"
     ]
    }
   ],
   "source": [
    "t1 = time.time()\n",
    "# print(t1)\n",
    "a = []\n",
    "count = 10**7\n",
    "for i in range(count):\n",
    "    a.append(i)\n",
    "t2 = time.time()\n",
    "print(\"Total execution time:: {}s\".format(t2-t1))"
   ]
  },
  {
   "cell_type": "code",
   "execution_count": 41,
   "id": "72a947b3",
   "metadata": {
    "ExecuteTime": {
     "end_time": "2021-10-02T17:54:05.731805Z",
     "start_time": "2021-10-02T17:54:02.796083Z"
    }
   },
   "outputs": [
    {
     "name": "stdout",
     "output_type": "stream",
     "text": [
      "Total execution time:: 2.770231008529663s\n"
     ]
    }
   ],
   "source": [
    "t1 = time.time()\n",
    "# print(t1)\n",
    "a = []\n",
    "count = 10**5\n",
    "for i in range(count):\n",
    "    a.insert(0,i)\n",
    "t2 = time.time()\n",
    "print(\"Total execution time:: {}s\".format(t2-t1))"
   ]
  },
  {
   "cell_type": "markdown",
   "id": "c4ef106f",
   "metadata": {},
   "source": [
    "## use of range"
   ]
  },
  {
   "cell_type": "code",
   "execution_count": 42,
   "id": "41372965",
   "metadata": {
    "ExecuteTime": {
     "end_time": "2021-10-02T17:54:05.739197Z",
     "start_time": "2021-10-02T17:54:05.736681Z"
    }
   },
   "outputs": [],
   "source": [
    "# Syntax: range(<start_number>,<stop_number>,<step_size>)"
   ]
  },
  {
   "cell_type": "code",
   "execution_count": 43,
   "id": "df8b0397",
   "metadata": {
    "ExecuteTime": {
     "end_time": "2021-10-02T17:54:05.748035Z",
     "start_time": "2021-10-02T17:54:05.742669Z"
    }
   },
   "outputs": [
    {
     "data": {
      "text/plain": [
       "[0, 1, 2, 3, 4, 5, 6, 7, 8, 9]"
      ]
     },
     "execution_count": 43,
     "metadata": {},
     "output_type": "execute_result"
    }
   ],
   "source": [
    "list(range(10))"
   ]
  },
  {
   "cell_type": "code",
   "execution_count": 44,
   "id": "610ae6e9",
   "metadata": {
    "ExecuteTime": {
     "end_time": "2021-10-02T17:54:05.755434Z",
     "start_time": "2021-10-02T17:54:05.750313Z"
    }
   },
   "outputs": [
    {
     "data": {
      "text/plain": [
       "[2, 3, 4, 5, 6, 7, 8, 9]"
      ]
     },
     "execution_count": 44,
     "metadata": {},
     "output_type": "execute_result"
    }
   ],
   "source": [
    "list(range(2,10))"
   ]
  },
  {
   "cell_type": "code",
   "execution_count": 45,
   "id": "2c3a0aa8",
   "metadata": {
    "ExecuteTime": {
     "end_time": "2021-10-02T17:54:05.763965Z",
     "start_time": "2021-10-02T17:54:05.758178Z"
    }
   },
   "outputs": [
    {
     "data": {
      "text/plain": [
       "[1, 3, 5, 7, 9]"
      ]
     },
     "execution_count": 45,
     "metadata": {},
     "output_type": "execute_result"
    }
   ],
   "source": [
    "list(range(1,10,2))"
   ]
  },
  {
   "cell_type": "code",
   "execution_count": 46,
   "id": "9a202197",
   "metadata": {
    "ExecuteTime": {
     "end_time": "2021-10-02T17:54:13.361507Z",
     "start_time": "2021-10-02T17:54:13.357112Z"
    }
   },
   "outputs": [
    {
     "data": {
      "text/plain": [
       "[0, 2, 4, 6, 8]"
      ]
     },
     "execution_count": 46,
     "metadata": {},
     "output_type": "execute_result"
    }
   ],
   "source": [
    "list(range(0,10,2))"
   ]
  },
  {
   "cell_type": "markdown",
   "id": "3952359b",
   "metadata": {
    "ExecuteTime": {
     "end_time": "2021-09-24T16:19:34.665645Z",
     "start_time": "2021-09-24T16:19:34.657544Z"
    }
   },
   "source": [
    "## use of filter(), map() , reduce() and accumulate()"
   ]
  },
  {
   "cell_type": "markdown",
   "id": "b0c3c60e",
   "metadata": {},
   "source": [
    "### filter"
   ]
  },
  {
   "cell_type": "code",
   "execution_count": 47,
   "id": "8200a3b0",
   "metadata": {
    "ExecuteTime": {
     "end_time": "2021-10-02T17:54:13.368368Z",
     "start_time": "2021-10-02T17:54:13.365462Z"
    }
   },
   "outputs": [],
   "source": [
    "# Syntax: filter(<funcName/None>,<iterable>)"
   ]
  },
  {
   "cell_type": "code",
   "execution_count": 48,
   "id": "cfe99401",
   "metadata": {
    "ExecuteTime": {
     "end_time": "2021-10-02T17:54:13.377165Z",
     "start_time": "2021-10-02T17:54:13.371464Z"
    }
   },
   "outputs": [
    {
     "data": {
      "text/plain": [
       "[1, 2]"
      ]
     },
     "execution_count": 48,
     "metadata": {},
     "output_type": "execute_result"
    }
   ],
   "source": [
    "a = [1,0,2,0,None,False]\n",
    "list(filter(None,a))"
   ]
  },
  {
   "cell_type": "markdown",
   "id": "888be641",
   "metadata": {},
   "source": [
    "### map"
   ]
  },
  {
   "cell_type": "code",
   "execution_count": 49,
   "id": "e16c3f1f",
   "metadata": {
    "ExecuteTime": {
     "end_time": "2021-10-02T17:54:13.381685Z",
     "start_time": "2021-10-02T17:54:13.378941Z"
    }
   },
   "outputs": [],
   "source": [
    "# Syntax: map(<funcName>,<iterable>)"
   ]
  },
  {
   "cell_type": "code",
   "execution_count": 50,
   "id": "c9435bb5",
   "metadata": {
    "ExecuteTime": {
     "end_time": "2021-10-02T17:54:13.389491Z",
     "start_time": "2021-10-02T17:54:13.384539Z"
    }
   },
   "outputs": [
    {
     "data": {
      "text/plain": [
       "['0b0',\n",
       " '0b1',\n",
       " '0b10',\n",
       " '0b11',\n",
       " '0b100',\n",
       " '0b101',\n",
       " '0b110',\n",
       " '0b111',\n",
       " '0b1000',\n",
       " '0b1001']"
      ]
     },
     "execution_count": 50,
     "metadata": {},
     "output_type": "execute_result"
    }
   ],
   "source": [
    "a = range(10)\n",
    "list(map(bin,a))"
   ]
  },
  {
   "cell_type": "markdown",
   "id": "7fb6bf9e",
   "metadata": {},
   "source": [
    "### reduce"
   ]
  },
  {
   "cell_type": "code",
   "execution_count": 51,
   "id": "0cef205f",
   "metadata": {
    "ExecuteTime": {
     "end_time": "2021-10-02T17:54:13.424317Z",
     "start_time": "2021-10-02T17:54:13.421388Z"
    }
   },
   "outputs": [],
   "source": [
    "# Syntax: reduce(<funcName>,<iterable>)"
   ]
  },
  {
   "cell_type": "code",
   "execution_count": 52,
   "id": "8dcc200b",
   "metadata": {
    "ExecuteTime": {
     "end_time": "2021-10-02T17:54:13.398668Z",
     "start_time": "2021-10-02T17:54:13.395698Z"
    }
   },
   "outputs": [],
   "source": [
    "import functools as ft"
   ]
  },
  {
   "cell_type": "code",
   "execution_count": 53,
   "id": "b2deb8c1",
   "metadata": {
    "ExecuteTime": {
     "end_time": "2021-10-02T17:54:13.406556Z",
     "start_time": "2021-10-02T17:54:13.402284Z"
    }
   },
   "outputs": [
    {
     "data": {
      "text/plain": [
       "<function __main__.<lambda>(x, y)>"
      ]
     },
     "execution_count": 53,
     "metadata": {},
     "output_type": "execute_result"
    }
   ],
   "source": [
    "lam = lambda x,y: x+y\n",
    "lam"
   ]
  },
  {
   "cell_type": "code",
   "execution_count": 54,
   "id": "a3e3ccd7",
   "metadata": {
    "ExecuteTime": {
     "end_time": "2021-10-02T17:54:13.412950Z",
     "start_time": "2021-10-02T17:54:13.408648Z"
    }
   },
   "outputs": [
    {
     "data": {
      "text/plain": [
       "28"
      ]
     },
     "execution_count": 54,
     "metadata": {},
     "output_type": "execute_result"
    }
   ],
   "source": [
    "a = [1,2,3,4,5,6,7]\n",
    "ft.reduce(lam,a)"
   ]
  },
  {
   "cell_type": "markdown",
   "id": "7f2b15f6",
   "metadata": {},
   "source": [
    "## How to get sizeof any object"
   ]
  },
  {
   "cell_type": "code",
   "execution_count": 55,
   "id": "def55f85",
   "metadata": {
    "ExecuteTime": {
     "end_time": "2021-10-02T17:54:13.418866Z",
     "start_time": "2021-10-02T17:54:13.414938Z"
    }
   },
   "outputs": [
    {
     "name": "stdout",
     "output_type": "stream",
     "text": [
      "[1, 2, 3]\n",
      "(4, 5)\n",
      "{'A': 1, 'B': 2}\n"
     ]
    }
   ],
   "source": [
    "a = [1,2,3]\n",
    "b = (4,5)\n",
    "c = {\"A\":1,\"B\":2}\n",
    "print(a)\n",
    "print(b)\n",
    "print(c)"
   ]
  },
  {
   "cell_type": "code",
   "execution_count": 56,
   "id": "c688ffc2",
   "metadata": {
    "ExecuteTime": {
     "end_time": "2021-10-02T17:54:13.424317Z",
     "start_time": "2021-10-02T17:54:13.421388Z"
    }
   },
   "outputs": [],
   "source": [
    "import sys"
   ]
  },
  {
   "cell_type": "code",
   "execution_count": 57,
   "id": "eef2a7b7",
   "metadata": {
    "ExecuteTime": {
     "end_time": "2021-10-02T17:54:13.431091Z",
     "start_time": "2021-10-02T17:54:13.426960Z"
    }
   },
   "outputs": [
    {
     "name": "stdout",
     "output_type": "stream",
     "text": [
      "Size of list [1, 2, 3] is 80Bytes\n",
      "Size of tuple (4, 5) is 56Bytes\n",
      "Size of dictionary {'A': 1, 'B': 2} is 232Bytes\n"
     ]
    }
   ],
   "source": [
    "print(\"Size of list {} is {}Bytes\".format(a,sys.getsizeof(a)))\n",
    "print(\"Size of tuple {} is {}Bytes\".format(b,sys.getsizeof(b)))\n",
    "print(\"Size of dictionary {} is {}Bytes\".format(c,sys.getsizeof(c)))"
   ]
  },
  {
   "cell_type": "markdown",
   "id": "60dd1644",
   "metadata": {},
   "source": [
    "## Shallow Copy Vs Deep copy (Interview Question!!)"
   ]
  },
  {
   "cell_type": "markdown",
   "id": "666a2f6b",
   "metadata": {},
   "source": [
    "- Shallow Copy stores the references of objects to the original memory address. \n",
    "- Deep copy stores copies of the object's value.\n",
    "- `Deep copy doesn't reflect changes made to the new/copied object in the original object`."
   ]
  },
  {
   "cell_type": "markdown",
   "id": "4b581d85",
   "metadata": {},
   "source": [
    "### Shallow copy"
   ]
  },
  {
   "cell_type": "code",
   "execution_count": 58,
   "id": "0ad70a5b",
   "metadata": {
    "ExecuteTime": {
     "end_time": "2021-10-02T17:54:13.439113Z",
     "start_time": "2021-10-02T17:54:13.435845Z"
    }
   },
   "outputs": [
    {
     "name": "stdout",
     "output_type": "stream",
     "text": [
      "[1, 2, 3]\n",
      "[1, 2, 3]\n"
     ]
    }
   ],
   "source": [
    "a = [1,2,3]\n",
    "b = a\n",
    "print(a)\n",
    "print(b)"
   ]
  },
  {
   "cell_type": "code",
   "execution_count": 59,
   "id": "806c83bb",
   "metadata": {
    "ExecuteTime": {
     "end_time": "2021-10-02T17:54:13.444702Z",
     "start_time": "2021-10-02T17:54:13.441223Z"
    }
   },
   "outputs": [
    {
     "name": "stdout",
     "output_type": "stream",
     "text": [
      "[100, 2, 3]\n",
      "[100, 2, 3]\n"
     ]
    }
   ],
   "source": [
    "b[0] = 100\n",
    "print(b)\n",
    "print(a)"
   ]
  },
  {
   "cell_type": "markdown",
   "id": "761200cf",
   "metadata": {},
   "source": [
    "### Deep copy"
   ]
  },
  {
   "cell_type": "code",
   "execution_count": 60,
   "id": "8d04c1a8",
   "metadata": {
    "ExecuteTime": {
     "end_time": "2021-10-02T17:54:13.450756Z",
     "start_time": "2021-10-02T17:54:13.446983Z"
    }
   },
   "outputs": [
    {
     "name": "stdout",
     "output_type": "stream",
     "text": [
      "[1, 2, 3]\n",
      "[1, 2, 3]\n"
     ]
    }
   ],
   "source": [
    "a = [1,2,3]\n",
    "b = a.copy()\n",
    "print(a)\n",
    "print(b)"
   ]
  },
  {
   "cell_type": "code",
   "execution_count": 61,
   "id": "e1c1b3f1",
   "metadata": {
    "ExecuteTime": {
     "end_time": "2021-10-02T17:54:13.457109Z",
     "start_time": "2021-10-02T17:54:13.453314Z"
    }
   },
   "outputs": [
    {
     "name": "stdout",
     "output_type": "stream",
     "text": [
      "[1, 2, 3]\n",
      "[100, 2, 3]\n"
     ]
    }
   ],
   "source": [
    "b[0] = 100\n",
    "print(a)\n",
    "print(b)"
   ]
  },
  {
   "cell_type": "markdown",
   "id": "0e5f9272",
   "metadata": {},
   "source": [
    "## Running script from Python Interpreter"
   ]
  },
  {
   "cell_type": "code",
   "execution_count": 62,
   "id": "c578fa5c",
   "metadata": {
    "ExecuteTime": {
     "end_time": "2021-10-02T17:54:13.614694Z",
     "start_time": "2021-10-02T17:54:13.459553Z"
    }
   },
   "outputs": [
    {
     "name": "stdout",
     "output_type": "stream",
     "text": [
      "total 6184\r\n",
      "drwxr-xr-x@ 33 pankajkumarsoni  staff    1056 Oct  2 23:08 \u001b[34m.\u001b[m\u001b[m\r\n",
      "drwxr-xr-x@  9 pankajkumarsoni  staff     288 Sep 19 15:12 \u001b[34m..\u001b[m\u001b[m\r\n",
      "drwxr-xr-x  12 pankajkumarsoni  staff     384 Oct  1 11:43 \u001b[34m.ipynb_checkpoints\u001b[m\u001b[m\r\n",
      "-rw-r--r--   1 pankajkumarsoni  staff     611 Oct  2 19:55 .jovianrc\r\n",
      "-rw-rw-r--@  1 pankajkumarsoni  staff  835380 Sep 21 21:00 01_Operators.ipynb\r\n",
      "-rw-rw-r--@  1 pankajkumarsoni  staff  408265 Sep 23 18:15 02_Strings.ipynb\r\n",
      "-rw-rw-r--@  1 pankajkumarsoni  staff  401141 Sep 25 17:33 03_List.ipynb\r\n",
      "-rw-r--r--   1 pankajkumarsoni  staff  602176 Sep 30 18:22 04_Tuple.ipynb\r\n",
      "-rw-rw-r--@  1 pankajkumarsoni  staff   25831 Sep 28 09:46 05_Dictionary.ipynb\r\n",
      "-rw-rw-r--@  1 pankajkumarsoni  staff  541998 Oct  2 18:49 06_For_While_loop.ipynb\r\n",
      "-rw-rw-r--@  1 pankajkumarsoni  staff  178775 Oct  2 19:54 07_DecisionMaking.ipynb\r\n",
      "-rw-rw-r--@  1 pankajkumarsoni  staff    1016 Jun  1  2018 08_Iterators.ipynb\r\n",
      "-rw-rw-r--@  1 pankajkumarsoni  staff    1883 Jul 21  2019 09_Functions.ipynb\r\n",
      "-rw-rw-r--@  1 pankajkumarsoni  staff    1959 Feb 22  2019 10_Lambda_Function.ipynb\r\n",
      "-rw-rw-r--@  1 pankajkumarsoni  staff    2369 Jun  1  2018 11_Filter_map_reduce.ipynb\r\n",
      "-rw-rw-r--@  1 pankajkumarsoni  staff    1863 Jun  1  2018 12_Modules.ipynb\r\n",
      "-rw-rw-r--@  1 pankajkumarsoni  staff     735 Mar  1  2019 13_File_IO.ipynb\r\n",
      "-rw-rw-r--@  1 pankajkumarsoni  staff    1811 Jul 25  2019 14_RegularExpression.ipynb\r\n",
      "-rw-rw-r--@  1 pankajkumarsoni  staff     535 Jun  1  2018 15_Debugging.ipynb\r\n",
      "-rw-rw-r--@  1 pankajkumarsoni  staff     533 Jun  1  2018 16_Logging.ipynb\r\n",
      "-rw-rw-r--@  1 pankajkumarsoni  staff     714 Mar  1  2019 17_Exceptions.ipynb\r\n",
      "-rw-rw-r--@  1 pankajkumarsoni  staff    5601 Feb 22  2019 21_List_Dictionary_Comprehension.ipynb\r\n",
      "-rw-rw-r--@  1 pankajkumarsoni  staff    1039 Jun  1  2018 22_Generators.ipynb\r\n",
      "-rw-rw-r--@  1 pankajkumarsoni  staff    2680 Jun  1  2018 23_Decorators.ipynb\r\n",
      "-rw-rw-r--@  1 pankajkumarsoni  staff    5957 Jul 28  2018 26_Iter_Generator_Yield.ipynb\r\n",
      "-rw-rw-r--@  1 pankajkumarsoni  staff    3411 Aug 10  2018 27_Functions_PBV_PBR.ipynb\r\n",
      "-rw-rw-r--@  1 pankajkumarsoni  staff    2762 Jul 19  2019 29_Class_OOPs_Concept.ipynb\r\n",
      "-rw-rw-r--@  1 pankajkumarsoni  staff   13482 Jul 19  2019 36_Timeit_and_SizeComparison_of_DataTypes.ipynb\r\n",
      "-rw-r--r--   1 pankajkumarsoni  staff    2747 Oct  2 20:20 Python_Memory_Management.ipynb\r\n",
      "-rw-r--r--   1 pankajkumarsoni  staff   42224 Oct  2 23:08 Python_Tips_&_Tricks.ipynb\r\n",
      "-rw-r--r--   1 pankajkumarsoni  staff      28 Oct  2 23:02 Test1.py\r\n",
      "-rw-r--r--   1 pankajkumarsoni  staff   10430 Sep 27 13:19 YT_Channel_Subscriber_List.ipynb\r\n",
      "drwxr-xr-x   3 pankajkumarsoni  staff      96 Oct  2 23:04 \u001b[34m__pycache__\u001b[m\u001b[m\r\n"
     ]
    }
   ],
   "source": [
    "!ls -al"
   ]
  },
  {
   "cell_type": "code",
   "execution_count": 63,
   "id": "0ed023ee",
   "metadata": {
    "ExecuteTime": {
     "end_time": "2021-10-02T17:54:13.852304Z",
     "start_time": "2021-10-02T17:54:13.618367Z"
    }
   },
   "outputs": [
    {
     "name": "stdout",
     "output_type": "stream",
     "text": [
      "3\r\n"
     ]
    }
   ],
   "source": [
    "!python3.9 Test1.py"
   ]
  },
  {
   "cell_type": "markdown",
   "id": "ab62ed26",
   "metadata": {},
   "source": [
    "## Compiling Python script from Python Interpreter"
   ]
  },
  {
   "cell_type": "code",
   "execution_count": 64,
   "id": "f3e34525",
   "metadata": {
    "ExecuteTime": {
     "end_time": "2021-10-02T17:54:14.011408Z",
     "start_time": "2021-10-02T17:54:13.855628Z"
    }
   },
   "outputs": [
    {
     "name": "stdout",
     "output_type": "stream",
     "text": [
      "/Users/pankajkumarsoni/Documents/Python_Prog/for_pycsr/01_Python\r\n"
     ]
    }
   ],
   "source": [
    "!pwd"
   ]
  },
  {
   "cell_type": "code",
   "execution_count": 65,
   "id": "ca1a7dee",
   "metadata": {
    "ExecuteTime": {
     "end_time": "2021-10-02T17:54:14.253582Z",
     "start_time": "2021-10-02T17:54:14.013682Z"
    }
   },
   "outputs": [],
   "source": [
    "!python3.9 -m compileall Test1.py"
   ]
  },
  {
   "cell_type": "code",
   "execution_count": 66,
   "id": "6f711fc5",
   "metadata": {
    "ExecuteTime": {
     "end_time": "2021-10-02T17:54:14.407576Z",
     "start_time": "2021-10-02T17:54:14.256485Z"
    }
   },
   "outputs": [
    {
     "name": "stdout",
     "output_type": "stream",
     "text": [
      "total 6184\r\n",
      "drwxr-xr-x@ 33 pankajkumarsoni  staff    1056 Oct  2 23:08 \u001b[34m.\u001b[m\u001b[m\r\n",
      "drwxr-xr-x@  9 pankajkumarsoni  staff     288 Sep 19 15:12 \u001b[34m..\u001b[m\u001b[m\r\n",
      "drwxr-xr-x  12 pankajkumarsoni  staff     384 Oct  1 11:43 \u001b[34m.ipynb_checkpoints\u001b[m\u001b[m\r\n",
      "-rw-r--r--   1 pankajkumarsoni  staff     611 Oct  2 19:55 .jovianrc\r\n",
      "-rw-rw-r--@  1 pankajkumarsoni  staff  835380 Sep 21 21:00 01_Operators.ipynb\r\n",
      "-rw-rw-r--@  1 pankajkumarsoni  staff  408265 Sep 23 18:15 02_Strings.ipynb\r\n",
      "-rw-rw-r--@  1 pankajkumarsoni  staff  401141 Sep 25 17:33 03_List.ipynb\r\n",
      "-rw-r--r--   1 pankajkumarsoni  staff  602176 Sep 30 18:22 04_Tuple.ipynb\r\n",
      "-rw-rw-r--@  1 pankajkumarsoni  staff   25831 Sep 28 09:46 05_Dictionary.ipynb\r\n",
      "-rw-rw-r--@  1 pankajkumarsoni  staff  541998 Oct  2 18:49 06_For_While_loop.ipynb\r\n",
      "-rw-rw-r--@  1 pankajkumarsoni  staff  178775 Oct  2 19:54 07_DecisionMaking.ipynb\r\n",
      "-rw-rw-r--@  1 pankajkumarsoni  staff    1016 Jun  1  2018 08_Iterators.ipynb\r\n",
      "-rw-rw-r--@  1 pankajkumarsoni  staff    1883 Jul 21  2019 09_Functions.ipynb\r\n",
      "-rw-rw-r--@  1 pankajkumarsoni  staff    1959 Feb 22  2019 10_Lambda_Function.ipynb\r\n",
      "-rw-rw-r--@  1 pankajkumarsoni  staff    2369 Jun  1  2018 11_Filter_map_reduce.ipynb\r\n",
      "-rw-rw-r--@  1 pankajkumarsoni  staff    1863 Jun  1  2018 12_Modules.ipynb\r\n",
      "-rw-rw-r--@  1 pankajkumarsoni  staff     735 Mar  1  2019 13_File_IO.ipynb\r\n",
      "-rw-rw-r--@  1 pankajkumarsoni  staff    1811 Jul 25  2019 14_RegularExpression.ipynb\r\n",
      "-rw-rw-r--@  1 pankajkumarsoni  staff     535 Jun  1  2018 15_Debugging.ipynb\r\n",
      "-rw-rw-r--@  1 pankajkumarsoni  staff     533 Jun  1  2018 16_Logging.ipynb\r\n",
      "-rw-rw-r--@  1 pankajkumarsoni  staff     714 Mar  1  2019 17_Exceptions.ipynb\r\n",
      "-rw-rw-r--@  1 pankajkumarsoni  staff    5601 Feb 22  2019 21_List_Dictionary_Comprehension.ipynb\r\n",
      "-rw-rw-r--@  1 pankajkumarsoni  staff    1039 Jun  1  2018 22_Generators.ipynb\r\n",
      "-rw-rw-r--@  1 pankajkumarsoni  staff    2680 Jun  1  2018 23_Decorators.ipynb\r\n",
      "-rw-rw-r--@  1 pankajkumarsoni  staff    5957 Jul 28  2018 26_Iter_Generator_Yield.ipynb\r\n",
      "-rw-rw-r--@  1 pankajkumarsoni  staff    3411 Aug 10  2018 27_Functions_PBV_PBR.ipynb\r\n",
      "-rw-rw-r--@  1 pankajkumarsoni  staff    2762 Jul 19  2019 29_Class_OOPs_Concept.ipynb\r\n",
      "-rw-rw-r--@  1 pankajkumarsoni  staff   13482 Jul 19  2019 36_Timeit_and_SizeComparison_of_DataTypes.ipynb\r\n",
      "-rw-r--r--   1 pankajkumarsoni  staff    2747 Oct  2 20:20 Python_Memory_Management.ipynb\r\n",
      "-rw-r--r--   1 pankajkumarsoni  staff   42224 Oct  2 23:08 Python_Tips_&_Tricks.ipynb\r\n",
      "-rw-r--r--   1 pankajkumarsoni  staff      28 Oct  2 23:02 Test1.py\r\n",
      "-rw-r--r--   1 pankajkumarsoni  staff   10430 Sep 27 13:19 YT_Channel_Subscriber_List.ipynb\r\n",
      "drwxr-xr-x   3 pankajkumarsoni  staff      96 Oct  2 23:04 \u001b[34m__pycache__\u001b[m\u001b[m\r\n"
     ]
    }
   ],
   "source": [
    "!ls -al"
   ]
  },
  {
   "cell_type": "code",
   "execution_count": 67,
   "id": "761440b4",
   "metadata": {
    "ExecuteTime": {
     "end_time": "2021-10-02T17:54:14.597386Z",
     "start_time": "2021-10-02T17:54:14.410270Z"
    }
   },
   "outputs": [
    {
     "name": "stdout",
     "output_type": "stream",
     "text": [
      "3\r\n"
     ]
    }
   ],
   "source": [
    "!python3.9 ./__pycache__/test1.cpython-39.pyc"
   ]
  }
 ],
 "metadata": {
  "kernelspec": {
   "display_name": "Python 3 (ipykernel)",
   "language": "python",
   "name": "python3"
  },
  "language_info": {
   "codemirror_mode": {
    "name": "ipython",
    "version": 3
   },
   "file_extension": ".py",
   "mimetype": "text/x-python",
   "name": "python",
   "nbconvert_exporter": "python",
   "pygments_lexer": "ipython3",
   "version": "3.8.5"
  },
  "toc": {
   "base_numbering": 1,
   "nav_menu": {},
   "number_sections": true,
   "sideBar": true,
   "skip_h1_title": false,
   "title_cell": "Table of Contents",
   "title_sidebar": "Contents",
   "toc_cell": false,
   "toc_position": {
    "height": "calc(100% - 180px)",
    "left": "10px",
    "top": "150px",
    "width": "382.2px"
   },
   "toc_section_display": true,
   "toc_window_display": true
  }
 },
 "nbformat": 4,
 "nbformat_minor": 5
}
