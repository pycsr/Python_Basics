{
 "cells": [
  {
   "cell_type": "markdown",
   "id": "c43ac939",
   "metadata": {},
   "source": [
    "# Memory Management"
   ]
  },
  {
   "cell_type": "markdown",
   "id": "cd088a21",
   "metadata": {},
   "source": [
    "## About"
   ]
  },
  {
   "cell_type": "markdown",
   "id": "f99676ef",
   "metadata": {},
   "source": [
    "- In Python Memory allocation can be defined as allocating a block of space in the computer memory to a program. \n",
    "- Its an automatic method in Python"
   ]
  },
  {
   "cell_type": "markdown",
   "id": "74a199c2",
   "metadata": {},
   "source": [
    "## Vocabulary"
   ]
  },
  {
   "cell_type": "markdown",
   "id": "0237c149",
   "metadata": {},
   "source": [
    "### Stack area"
   ]
  },
  {
   "cell_type": "markdown",
   "id": "fecf742e",
   "metadata": {},
   "source": [
    "- All methods and their variables are stored in the stack memory."
   ]
  },
  {
   "cell_type": "code",
   "execution_count": 1,
   "id": "d667b294",
   "metadata": {
    "ExecuteTime": {
     "end_time": "2021-11-25T16:35:42.133229Z",
     "start_time": "2021-11-25T16:35:42.127200Z"
    }
   },
   "outputs": [],
   "source": [
    "a = 2"
   ]
  },
  {
   "cell_type": "markdown",
   "id": "d050c0e8",
   "metadata": {},
   "source": [
    "### Heap area"
   ]
  },
  {
   "cell_type": "markdown",
   "id": "8b0f9775",
   "metadata": {},
   "source": [
    "- All objects and instance variables are stored in the heap memory"
   ]
  },
  {
   "cell_type": "markdown",
   "id": "94800c80",
   "metadata": {},
   "source": [
    "### Use of `id()` in python"
   ]
  },
  {
   "cell_type": "code",
   "execution_count": 2,
   "id": "4fe2593b",
   "metadata": {
    "ExecuteTime": {
     "end_time": "2021-11-25T16:35:42.151352Z",
     "start_time": "2021-11-25T16:35:42.145311Z"
    }
   },
   "outputs": [
    {
     "name": "stdout",
     "output_type": "stream",
     "text": [
      "4367722880\n",
      "0x104562980\n"
     ]
    }
   ],
   "source": [
    "a = 2\n",
    "print(id(a))\n",
    "print(hex(id(a)))"
   ]
  },
  {
   "cell_type": "code",
   "execution_count": 3,
   "id": "50099f45",
   "metadata": {
    "ExecuteTime": {
     "end_time": "2021-11-25T16:35:42.163552Z",
     "start_time": "2021-11-25T16:35:42.155428Z"
    }
   },
   "outputs": [
    {
     "name": "stdout",
     "output_type": "stream",
     "text": [
      "0x104562980\n"
     ]
    }
   ],
   "source": [
    "b = 2\n",
    "print(hex(id(b)))"
   ]
  },
  {
   "cell_type": "code",
   "execution_count": 4,
   "id": "b86ac3aa",
   "metadata": {
    "ExecuteTime": {
     "end_time": "2021-11-25T16:35:42.180332Z",
     "start_time": "2021-11-25T16:35:42.170791Z"
    }
   },
   "outputs": [
    {
     "name": "stdout",
     "output_type": "stream",
     "text": [
      "0x104562a80\n",
      "0x104562980\n"
     ]
    }
   ],
   "source": [
    "a = 10\n",
    "print(hex(id(a)))\n",
    "print(hex(id(b)))"
   ]
  },
  {
   "cell_type": "markdown",
   "id": "f533acc8",
   "metadata": {},
   "source": [
    "### Use of `is` keyword in python"
   ]
  },
  {
   "cell_type": "code",
   "execution_count": 5,
   "id": "b81c7094",
   "metadata": {
    "ExecuteTime": {
     "end_time": "2021-11-25T16:35:42.201270Z",
     "start_time": "2021-11-25T16:35:42.189416Z"
    }
   },
   "outputs": [
    {
     "data": {
      "text/plain": [
       "True"
      ]
     },
     "execution_count": 5,
     "metadata": {},
     "output_type": "execute_result"
    }
   ],
   "source": [
    "a = 2\n",
    "b = 2\n",
    "b is a"
   ]
  },
  {
   "cell_type": "code",
   "execution_count": 6,
   "id": "c43d510c",
   "metadata": {
    "ExecuteTime": {
     "end_time": "2021-11-25T16:35:42.219789Z",
     "start_time": "2021-11-25T16:35:42.207905Z"
    }
   },
   "outputs": [
    {
     "data": {
      "text/plain": [
       "False"
      ]
     },
     "execution_count": 6,
     "metadata": {},
     "output_type": "execute_result"
    }
   ],
   "source": [
    "a = 2\n",
    "b = 20\n",
    "b is a"
   ]
  },
  {
   "cell_type": "code",
   "execution_count": 7,
   "id": "cd27f2bb",
   "metadata": {
    "ExecuteTime": {
     "end_time": "2021-11-25T16:35:42.232740Z",
     "start_time": "2021-11-25T16:35:42.224554Z"
    }
   },
   "outputs": [
    {
     "name": "stdout",
     "output_type": "stream",
     "text": [
      "4367722880\n",
      "4367723456\n"
     ]
    }
   ],
   "source": [
    "print(id(a))\n",
    "print(id(b))"
   ]
  },
  {
   "cell_type": "markdown",
   "id": "9daa0cc4",
   "metadata": {},
   "source": [
    "### Reference counting"
   ]
  },
  {
   "cell_type": "code",
   "execution_count": 8,
   "id": "62a2c64d",
   "metadata": {
    "ExecuteTime": {
     "end_time": "2021-11-25T16:35:42.263279Z",
     "start_time": "2021-11-25T16:35:42.253343Z"
    }
   },
   "outputs": [],
   "source": [
    "a = 2\n",
    "b = 3\n",
    "c = a\n",
    "d = a"
   ]
  },
  {
   "cell_type": "code",
   "execution_count": 9,
   "id": "dc5f2be6",
   "metadata": {
    "ExecuteTime": {
     "end_time": "2021-11-25T16:35:42.281619Z",
     "start_time": "2021-11-25T16:35:42.270819Z"
    }
   },
   "outputs": [
    {
     "data": {
      "text/plain": [
       "6613"
      ]
     },
     "execution_count": 9,
     "metadata": {},
     "output_type": "execute_result"
    }
   ],
   "source": [
    "import sys\n",
    "sys.getrefcount(a)"
   ]
  },
  {
   "cell_type": "code",
   "execution_count": 10,
   "id": "0e48f1cc",
   "metadata": {
    "ExecuteTime": {
     "end_time": "2021-11-25T16:35:42.296346Z",
     "start_time": "2021-11-25T16:35:42.285762Z"
    }
   },
   "outputs": [],
   "source": [
    "a = 300\n",
    "b = 400\n",
    "c = a\n",
    "d = a"
   ]
  },
  {
   "cell_type": "code",
   "execution_count": 11,
   "id": "c0f1b8cd",
   "metadata": {
    "ExecuteTime": {
     "end_time": "2021-11-25T16:35:42.311812Z",
     "start_time": "2021-11-25T16:35:42.300841Z"
    }
   },
   "outputs": [
    {
     "name": "stdout",
     "output_type": "stream",
     "text": [
      "4\n",
      "2\n"
     ]
    }
   ],
   "source": [
    "import sys\n",
    "print(sys.getrefcount(a))\n",
    "print(sys.getrefcount(b))"
   ]
  },
  {
   "cell_type": "markdown",
   "id": "d316491e",
   "metadata": {
    "ExecuteTime": {
     "end_time": "2021-11-23T15:17:52.983104Z",
     "start_time": "2021-11-23T15:17:52.957612Z"
    }
   },
   "source": [
    "### Reference cycles"
   ]
  },
  {
   "cell_type": "code",
   "execution_count": 12,
   "id": "f16010b3",
   "metadata": {
    "ExecuteTime": {
     "end_time": "2021-11-25T16:35:42.328753Z",
     "start_time": "2021-11-25T16:35:42.317382Z"
    }
   },
   "outputs": [
    {
     "name": "stdout",
     "output_type": "stream",
     "text": [
      "3\n",
      "3\n"
     ]
    }
   ],
   "source": [
    "d1 = {}\n",
    "d2 = {}\n",
    "d1[\"d2\"] = d2\n",
    "d2[\"d1\"] = d1\n",
    "print(sys.getrefcount(d1))\n",
    "print(sys.getrefcount(d2))"
   ]
  },
  {
   "cell_type": "code",
   "execution_count": 13,
   "id": "98ba90ce",
   "metadata": {
    "ExecuteTime": {
     "end_time": "2021-11-25T16:35:42.346453Z",
     "start_time": "2021-11-25T16:35:42.334340Z"
    }
   },
   "outputs": [
    {
     "name": "stdout",
     "output_type": "stream",
     "text": [
      "33437\n",
      "33436\n"
     ]
    }
   ],
   "source": [
    "d1 = {}\n",
    "d2 = {}\n",
    "d1[\"d2\"] = d2\n",
    "d2[\"d1\"] = d1\n",
    "d1 = None\n",
    "d2 = None\n",
    "print(sys.getrefcount(d1))\n",
    "print(sys.getrefcount(d2))"
   ]
  },
  {
   "cell_type": "markdown",
   "id": "35dc89e7",
   "metadata": {},
   "source": [
    "### Difference between `sys.getrefCount` and `c_types refcount`"
   ]
  },
  {
   "cell_type": "code",
   "execution_count": 14,
   "id": "37d54b95",
   "metadata": {
    "ExecuteTime": {
     "end_time": "2021-11-25T16:35:42.362708Z",
     "start_time": "2021-11-25T16:35:42.354407Z"
    }
   },
   "outputs": [],
   "source": [
    "import ctypes as ct\n",
    "\n",
    "def RefCount(address):\n",
    "    return ct.c_long.from_address(address).value"
   ]
  },
  {
   "cell_type": "code",
   "execution_count": 15,
   "id": "9dd9f215",
   "metadata": {
    "ExecuteTime": {
     "end_time": "2021-11-25T16:35:42.381469Z",
     "start_time": "2021-11-25T16:35:42.372905Z"
    }
   },
   "outputs": [
    {
     "name": "stdout",
     "output_type": "stream",
     "text": [
      "3\n",
      "3\n"
     ]
    }
   ],
   "source": [
    "d1 = {}\n",
    "d2 = {}\n",
    "d1[\"d2\"] = d2\n",
    "d2[\"d1\"] = d1\n",
    "a1 = id(d1)\n",
    "a2 = id(d2)\n",
    "print(sys.getrefcount(d1))\n",
    "print(sys.getrefcount(d2))"
   ]
  },
  {
   "cell_type": "code",
   "execution_count": 16,
   "id": "6e55f911",
   "metadata": {
    "ExecuteTime": {
     "end_time": "2021-11-25T16:35:42.392982Z",
     "start_time": "2021-11-25T16:35:42.385013Z"
    }
   },
   "outputs": [
    {
     "name": "stdout",
     "output_type": "stream",
     "text": [
      "2\n",
      "2\n"
     ]
    }
   ],
   "source": [
    "d1 = {}\n",
    "d2 = {}\n",
    "d1[\"d2\"] = d2\n",
    "d2[\"d1\"] = d1\n",
    "a1 = id(d1)\n",
    "a2 = id(d2)\n",
    "print(RefCount(a1))\n",
    "print(RefCount(a2))"
   ]
  },
  {
   "cell_type": "code",
   "execution_count": 17,
   "id": "d33c6639",
   "metadata": {
    "ExecuteTime": {
     "end_time": "2021-11-25T16:35:42.405004Z",
     "start_time": "2021-11-25T16:35:42.397543Z"
    }
   },
   "outputs": [
    {
     "name": "stdout",
     "output_type": "stream",
     "text": [
      "1\n",
      "1\n"
     ]
    }
   ],
   "source": [
    "d1 = {}\n",
    "d2 = {}\n",
    "d1[\"d2\"] = d2\n",
    "d2[\"d1\"] = d1\n",
    "a1 = id(d1)\n",
    "a2 = id(d2)\n",
    "del d1,d2\n",
    "print(RefCount(a1))\n",
    "print(RefCount(a2))"
   ]
  },
  {
   "cell_type": "code",
   "execution_count": 18,
   "id": "7948542b",
   "metadata": {
    "ExecuteTime": {
     "end_time": "2021-11-25T16:35:42.417899Z",
     "start_time": "2021-11-25T16:35:42.410593Z"
    }
   },
   "outputs": [
    {
     "name": "stdout",
     "output_type": "stream",
     "text": [
      "2\n",
      "2\n"
     ]
    }
   ],
   "source": [
    "d1 = 2300\n",
    "d2 = 4000\n",
    "a1 = id(d1)\n",
    "a2 = id(d2)\n",
    "print(RefCount(a1))\n",
    "print(RefCount(a2))"
   ]
  },
  {
   "cell_type": "code",
   "execution_count": 19,
   "id": "b796aca6",
   "metadata": {
    "ExecuteTime": {
     "end_time": "2021-11-25T16:35:42.429872Z",
     "start_time": "2021-11-25T16:35:42.422502Z"
    }
   },
   "outputs": [
    {
     "name": "stdout",
     "output_type": "stream",
     "text": [
      "1\n",
      "1\n"
     ]
    }
   ],
   "source": [
    "d1 = 2300\n",
    "d2 = 4000\n",
    "a1 = id(d1)\n",
    "a2 = id(d2)\n",
    "del d1,d2\n",
    "print(RefCount(a1))\n",
    "print(RefCount(a2))"
   ]
  },
  {
   "cell_type": "markdown",
   "id": "c7e4f293",
   "metadata": {},
   "source": [
    "## Garbage collection and its attributes"
   ]
  },
  {
   "cell_type": "markdown",
   "id": "46feeabc",
   "metadata": {},
   "source": [
    "- Garbage collection is a process in which the interpreter frees up the memory when not in use to make it available for other objects."
   ]
  },
  {
   "cell_type": "code",
   "execution_count": 20,
   "id": "ff063e6c",
   "metadata": {
    "ExecuteTime": {
     "end_time": "2021-11-25T16:35:42.438569Z",
     "start_time": "2021-11-25T16:35:42.434726Z"
    }
   },
   "outputs": [],
   "source": [
    "import gc"
   ]
  },
  {
   "cell_type": "code",
   "execution_count": 21,
   "id": "e61ed874",
   "metadata": {
    "ExecuteTime": {
     "end_time": "2021-11-25T16:35:42.555984Z",
     "start_time": "2021-11-25T16:35:42.499176Z"
    }
   },
   "outputs": [
    {
     "name": "stdout",
     "output_type": "stream",
     "text": [
      "0\n",
      "1\n",
      "1\n"
     ]
    }
   ],
   "source": [
    "d1 = 2300\n",
    "d2 = 4000\n",
    "a1 = id(d1)\n",
    "a2 = id(d2)\n",
    "del d1,d2\n",
    "print(gc.collect())\n",
    "print(RefCount(a1))\n",
    "print(RefCount(a2))"
   ]
  },
  {
   "cell_type": "code",
   "execution_count": 22,
   "id": "bc514aa7",
   "metadata": {
    "ExecuteTime": {
     "end_time": "2021-11-25T16:35:42.555984Z",
     "start_time": "2021-11-25T16:35:42.499176Z"
    }
   },
   "outputs": [
    {
     "name": "stdout",
     "output_type": "stream",
     "text": [
      "23\n",
      "0\n",
      "0\n"
     ]
    }
   ],
   "source": [
    "d1 = {}\n",
    "d2 = {}\n",
    "d1[\"d2\"] = d2\n",
    "d2[\"d1\"] = d1\n",
    "a1 = id(d1)\n",
    "a2 = id(d2)\n",
    "del d1,d2\n",
    "print(gc.collect())\n",
    "print(RefCount(a1))\n",
    "print(RefCount(a2))"
   ]
  },
  {
   "cell_type": "markdown",
   "id": "084da7b9",
   "metadata": {},
   "source": [
    "### Get threshold"
   ]
  },
  {
   "cell_type": "code",
   "execution_count": 23,
   "id": "3298faf1",
   "metadata": {
    "ExecuteTime": {
     "end_time": "2021-11-25T16:35:42.571234Z",
     "start_time": "2021-11-25T16:35:42.561791Z"
    }
   },
   "outputs": [
    {
     "data": {
      "text/plain": [
       "(700, 10, 10)"
      ]
     },
     "execution_count": 23,
     "metadata": {},
     "output_type": "execute_result"
    }
   ],
   "source": [
    "gc.get_threshold()"
   ]
  },
  {
   "cell_type": "markdown",
   "id": "79bbbcbb",
   "metadata": {},
   "source": [
    "### Set threshold"
   ]
  },
  {
   "cell_type": "code",
   "execution_count": 24,
   "id": "18a771f4",
   "metadata": {
    "ExecuteTime": {
     "end_time": "2021-11-25T16:35:42.584127Z",
     "start_time": "2021-11-25T16:35:42.578468Z"
    }
   },
   "outputs": [],
   "source": [
    "gc.set_threshold(900,20,20)"
   ]
  },
  {
   "cell_type": "code",
   "execution_count": 25,
   "id": "a3fab101",
   "metadata": {
    "ExecuteTime": {
     "end_time": "2021-11-25T16:35:42.597932Z",
     "start_time": "2021-11-25T16:35:42.589367Z"
    }
   },
   "outputs": [
    {
     "data": {
      "text/plain": [
       "(900, 20, 20)"
      ]
     },
     "execution_count": 25,
     "metadata": {},
     "output_type": "execute_result"
    }
   ],
   "source": [
    "gc.get_threshold()"
   ]
  },
  {
   "cell_type": "markdown",
   "id": "fe1703f4",
   "metadata": {},
   "source": [
    "### Get Count"
   ]
  },
  {
   "cell_type": "code",
   "execution_count": 26,
   "id": "8613aac5",
   "metadata": {
    "ExecuteTime": {
     "end_time": "2021-11-25T16:35:42.623658Z",
     "start_time": "2021-11-25T16:35:42.613098Z"
    }
   },
   "outputs": [
    {
     "data": {
      "text/plain": [
       "(54, 0, 0)"
      ]
     },
     "execution_count": 26,
     "metadata": {},
     "output_type": "execute_result"
    }
   ],
   "source": [
    "gc.get_count()"
   ]
  },
  {
   "cell_type": "markdown",
   "id": "20edca2b",
   "metadata": {},
   "source": [
    "### Collect"
   ]
  },
  {
   "cell_type": "code",
   "execution_count": 27,
   "id": "765c66dd",
   "metadata": {
    "ExecuteTime": {
     "end_time": "2021-11-25T16:35:42.672833Z",
     "start_time": "2021-11-25T16:35:42.628997Z"
    }
   },
   "outputs": [
    {
     "data": {
      "text/plain": [
       "105"
      ]
     },
     "execution_count": 27,
     "metadata": {},
     "output_type": "execute_result"
    }
   ],
   "source": [
    "gc.collect()"
   ]
  },
  {
   "cell_type": "markdown",
   "id": "358ea14e",
   "metadata": {},
   "source": [
    "### Automated V/s Manual Garbage collection"
   ]
  },
  {
   "cell_type": "markdown",
   "id": "79b3ec1c",
   "metadata": {},
   "source": [
    "### Disabling Garbage collection"
   ]
  },
  {
   "cell_type": "code",
   "execution_count": 28,
   "id": "bfc80cc0",
   "metadata": {
    "ExecuteTime": {
     "end_time": "2021-11-25T16:35:42.680677Z",
     "start_time": "2021-11-25T16:35:42.676483Z"
    }
   },
   "outputs": [],
   "source": [
    "# gc.set_threshold(0,0,0)"
   ]
  }
 ],
 "metadata": {
  "kernelspec": {
   "display_name": "Python 3 (ipykernel)",
   "language": "python",
   "name": "python3"
  },
  "language_info": {
   "codemirror_mode": {
    "name": "ipython",
    "version": 3
   },
   "file_extension": ".py",
   "mimetype": "text/x-python",
   "name": "python",
   "nbconvert_exporter": "python",
   "pygments_lexer": "ipython3",
   "version": "3.8.5"
  },
  "toc": {
   "base_numbering": 1,
   "nav_menu": {},
   "number_sections": true,
   "sideBar": true,
   "skip_h1_title": false,
   "title_cell": "Table of Contents",
   "title_sidebar": "Contents",
   "toc_cell": false,
   "toc_position": {},
   "toc_section_display": true,
   "toc_window_display": true
  }
 },
 "nbformat": 4,
 "nbformat_minor": 5
}
