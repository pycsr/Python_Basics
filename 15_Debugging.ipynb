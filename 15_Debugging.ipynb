{
 "cells": [
  {
   "cell_type": "markdown",
   "metadata": {},
   "source": [
    "# Debugging"
   ]
  },
  {
   "cell_type": "markdown",
   "metadata": {},
   "source": [
    "- While developing an application or exploring some features of a language, one might need to debug the code anytime. Therefore, having an idea of debugging the code is quite necessary. Let’s see some basics of debugging using built-in function `breakpoint()` and `pdb module`.\n",
    "\n",
    "- debugger plays an important role when we want to find a bug in a particular line of code. Here, Python comes with the latest built-in function `breakpoint` which do the same thing as `pdb.set_trace()` in Python 3.6 and below versions."
   ]
  },
  {
   "cell_type": "code",
   "execution_count": 1,
   "metadata": {
    "ExecuteTime": {
     "end_time": "2021-11-11T14:07:20.936738Z",
     "start_time": "2021-11-11T14:07:20.931696Z"
    }
   },
   "outputs": [],
   "source": [
    "# # Commands for debugging :\n",
    "\n",
    "# c -> continue execution\n",
    "# q -> quit the debugger/execution\n",
    "# n -> step to next line within the same function\n",
    "# s -> step to next line in this function or a called function\n",
    "\n",
    "\n",
    "# in pdb you can check these comands:\n",
    "#     Documented commands (type help <topic>):\n",
    "# ========================================\n",
    "# EOF    c          d        h         list      q        rv       undisplay\n",
    "# a      cl         debug    help      ll        quit     s        unt\n",
    "# alias  clear      disable  ignore    longlist  r        source   until\n",
    "# args   commands   display  interact  n         restart  step     up\n",
    "# b      condition  down     j         next      return   tbreak   w\n",
    "# break  cont       enable   jump      p         retval   u        whatis\n",
    "# bt     continue   exit     l         pp        run      unalias  where\n"
   ]
  }
 ],
 "metadata": {
  "kernelspec": {
   "display_name": "Python 3 (ipykernel)",
   "language": "python",
   "name": "python3"
  },
  "language_info": {
   "codemirror_mode": {
    "name": "ipython",
    "version": 3
   },
   "file_extension": ".py",
   "mimetype": "text/x-python",
   "name": "python",
   "nbconvert_exporter": "python",
   "pygments_lexer": "ipython3",
   "version": "3.8.5"
  },
  "toc": {
   "base_numbering": 1,
   "nav_menu": {},
   "number_sections": true,
   "sideBar": true,
   "skip_h1_title": false,
   "title_cell": "Table of Contents",
   "title_sidebar": "Contents",
   "toc_cell": false,
   "toc_position": {},
   "toc_section_display": true,
   "toc_window_display": true
  }
 },
 "nbformat": 4,
 "nbformat_minor": 2
}
