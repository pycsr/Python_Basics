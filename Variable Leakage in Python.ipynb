{
 "cells": [
  {
   "cell_type": "markdown",
   "id": "7c655ebf",
   "metadata": {},
   "source": [
    "# Variable Leakage in Python"
   ]
  },
  {
   "cell_type": "code",
   "execution_count": 3,
   "id": "44385f60",
   "metadata": {
    "ExecuteTime": {
     "end_time": "2022-01-10T15:32:06.614454Z",
     "start_time": "2022-01-10T15:32:06.601390Z"
    }
   },
   "outputs": [
    {
     "name": "stdout",
     "output_type": "stream",
     "text": [
      "2\n"
     ]
    }
   ],
   "source": [
    "a = 2\n",
    "print(a)"
   ]
  },
  {
   "cell_type": "code",
   "execution_count": 4,
   "id": "db3c54cf",
   "metadata": {
    "ExecuteTime": {
     "end_time": "2022-01-10T15:32:34.975837Z",
     "start_time": "2022-01-10T15:32:34.970288Z"
    }
   },
   "outputs": [],
   "source": [
    "# for <var> <seq>:\n",
    "#     <statements>"
   ]
  },
  {
   "cell_type": "code",
   "execution_count": 5,
   "id": "6e453a5d",
   "metadata": {
    "ExecuteTime": {
     "end_time": "2022-01-10T15:32:47.020905Z",
     "start_time": "2022-01-10T15:32:47.009940Z"
    }
   },
   "outputs": [
    {
     "name": "stdout",
     "output_type": "stream",
     "text": [
      "0\n",
      "1\n",
      "2\n",
      "3\n",
      "4\n",
      "5\n",
      "6\n",
      "7\n",
      "8\n",
      "9\n"
     ]
    }
   ],
   "source": [
    "for a in range(10):\n",
    "    print(a)"
   ]
  },
  {
   "cell_type": "code",
   "execution_count": 6,
   "id": "627aedc9",
   "metadata": {
    "ExecuteTime": {
     "end_time": "2022-01-10T15:33:34.218040Z",
     "start_time": "2022-01-10T15:33:34.169249Z"
    }
   },
   "outputs": [
    {
     "name": "stdout",
     "output_type": "stream",
     "text": [
      "20\n"
     ]
    }
   ],
   "source": [
    "a = 10\n",
    "a = 20\n",
    "print(a)"
   ]
  },
  {
   "cell_type": "markdown",
   "id": "329ff63f",
   "metadata": {},
   "source": [
    "# Using For loop"
   ]
  },
  {
   "cell_type": "code",
   "execution_count": 7,
   "id": "f6c8d069",
   "metadata": {
    "ExecuteTime": {
     "end_time": "2022-01-10T15:35:03.014430Z",
     "start_time": "2022-01-10T15:35:03.006507Z"
    }
   },
   "outputs": [
    {
     "name": "stdout",
     "output_type": "stream",
     "text": [
      "Value of b before:  10\n",
      "Value of b inside loop:  0\n",
      "Value of b inside loop:  1\n",
      "Value of b inside loop:  2\n",
      "Value of b inside loop:  3\n",
      "Value of b inside loop:  4\n",
      "Value of b After exiting loop:  4\n"
     ]
    }
   ],
   "source": [
    "b = 10\n",
    "print(\"Value of b before: \",b)\n",
    "for b in range(5):\n",
    "    print(\"Value of b inside loop: \",b)\n",
    "print(\"Value of b After exiting loop: \",b)    "
   ]
  },
  {
   "cell_type": "markdown",
   "id": "8a2057a8",
   "metadata": {},
   "source": [
    "# Using list comprehension"
   ]
  },
  {
   "cell_type": "code",
   "execution_count": 8,
   "id": "c7e51738",
   "metadata": {
    "ExecuteTime": {
     "end_time": "2022-01-10T15:37:23.174680Z",
     "start_time": "2022-01-10T15:37:23.166454Z"
    }
   },
   "outputs": [
    {
     "name": "stdout",
     "output_type": "stream",
     "text": [
      "Value of b before:  10\n",
      "List comprehension value:: [0, 1, 2, 3, 4]\n",
      "Value of b After exiting loop:  10\n"
     ]
    }
   ],
   "source": [
    "b = 10\n",
    "print(\"Value of b before: \",b)\n",
    "lc = [b for b in range(5)]\n",
    "print(\"List comprehension value::\",lc)\n",
    "print(\"Value of b After exiting loop: \",b)    "
   ]
  }
 ],
 "metadata": {
  "kernelspec": {
   "display_name": "Python 3 (ipykernel)",
   "language": "python",
   "name": "python3"
  },
  "language_info": {
   "codemirror_mode": {
    "name": "ipython",
    "version": 3
   },
   "file_extension": ".py",
   "mimetype": "text/x-python",
   "name": "python",
   "nbconvert_exporter": "python",
   "pygments_lexer": "ipython3",
   "version": "3.8.5"
  },
  "toc": {
   "base_numbering": 1,
   "nav_menu": {},
   "number_sections": true,
   "sideBar": true,
   "skip_h1_title": false,
   "title_cell": "Table of Contents",
   "title_sidebar": "Contents",
   "toc_cell": false,
   "toc_position": {},
   "toc_section_display": true,
   "toc_window_display": true
  }
 },
 "nbformat": 4,
 "nbformat_minor": 5
}
