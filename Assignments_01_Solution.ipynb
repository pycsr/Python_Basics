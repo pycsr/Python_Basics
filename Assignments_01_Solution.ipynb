{
 "cells": [
  {
   "cell_type": "markdown",
   "metadata": {},
   "source": [
    "# Data Types"
   ]
  },
  {
   "cell_type": "markdown",
   "metadata": {},
   "source": [
    "#### Write a Python program to test whether given input is an integer"
   ]
  },
  {
   "cell_type": "code",
   "execution_count": 17,
   "metadata": {
    "ExecuteTime": {
     "end_time": "2021-11-30T14:08:05.166812Z",
     "start_time": "2021-11-30T14:08:05.158605Z"
    }
   },
   "outputs": [
    {
     "name": "stdout",
     "output_type": "stream",
     "text": [
      "<class 'int'>\n",
      "int\n"
     ]
    }
   ],
   "source": [
    "a = 2\n",
    "print(type(a))\n",
    "print(type(a).__name__)\n"
   ]
  },
  {
   "cell_type": "code",
   "execution_count": 18,
   "metadata": {
    "ExecuteTime": {
     "end_time": "2021-11-30T14:08:36.991515Z",
     "start_time": "2021-11-30T14:08:36.970314Z"
    }
   },
   "outputs": [
    {
     "name": "stdout",
     "output_type": "stream",
     "text": [
      "This belongs to int\n"
     ]
    }
   ],
   "source": [
    "if type(a).__name__ == \"int\":\n",
    "    print(\"This belongs to int\")"
   ]
  },
  {
   "cell_type": "markdown",
   "metadata": {},
   "source": [
    "# String"
   ]
  },
  {
   "cell_type": "markdown",
   "metadata": {},
   "source": [
    "#### Write a Python program that accepts a hyphen-separated sequence of words as input and prints the words in a hyphen-separated sequence after sorting them alphabetically. \n",
    "\n",
    "Sample Items : green-red-yellow-black-white\n",
    "\n",
    "Expected Result : black-green-red-white-yellow\n"
   ]
  },
  {
   "cell_type": "code",
   "execution_count": 19,
   "metadata": {
    "ExecuteTime": {
     "end_time": "2021-11-30T14:09:04.542384Z",
     "start_time": "2021-11-30T14:09:04.506728Z"
    }
   },
   "outputs": [
    {
     "name": "stdout",
     "output_type": "stream",
     "text": [
      "green-red-yellow-black-white\n"
     ]
    }
   ],
   "source": [
    "a = \"green-red-yellow-black-white\"\n",
    "print(a)"
   ]
  },
  {
   "cell_type": "code",
   "execution_count": 20,
   "metadata": {
    "ExecuteTime": {
     "end_time": "2021-11-30T14:09:26.749655Z",
     "start_time": "2021-11-30T14:09:26.724239Z"
    }
   },
   "outputs": [
    {
     "data": {
      "text/plain": [
       "['green', 'red', 'yellow', 'black', 'white']"
      ]
     },
     "execution_count": 20,
     "metadata": {},
     "output_type": "execute_result"
    }
   ],
   "source": [
    "op = a.split(\"-\")\n",
    "op"
   ]
  },
  {
   "cell_type": "code",
   "execution_count": 21,
   "metadata": {
    "ExecuteTime": {
     "end_time": "2021-11-30T14:09:36.235990Z",
     "start_time": "2021-11-30T14:09:36.227323Z"
    }
   },
   "outputs": [],
   "source": [
    "op.sort()"
   ]
  },
  {
   "cell_type": "code",
   "execution_count": 22,
   "metadata": {
    "ExecuteTime": {
     "end_time": "2021-11-30T14:09:39.488562Z",
     "start_time": "2021-11-30T14:09:39.466908Z"
    }
   },
   "outputs": [
    {
     "data": {
      "text/plain": [
       "['black', 'green', 'red', 'white', 'yellow']"
      ]
     },
     "execution_count": 22,
     "metadata": {},
     "output_type": "execute_result"
    }
   ],
   "source": [
    "op"
   ]
  },
  {
   "cell_type": "code",
   "execution_count": 23,
   "metadata": {
    "ExecuteTime": {
     "end_time": "2021-11-30T14:10:24.969298Z",
     "start_time": "2021-11-30T14:10:24.962253Z"
    }
   },
   "outputs": [
    {
     "data": {
      "text/plain": [
       "'black-green-red-white-yellow'"
      ]
     },
     "execution_count": 23,
     "metadata": {},
     "output_type": "execute_result"
    }
   ],
   "source": [
    "\"-\".join(op)"
   ]
  },
  {
   "cell_type": "markdown",
   "metadata": {},
   "source": [
    "#### Write a Python program to convert given sentence into stream of 8-bit binary data\n",
    "Sample text : 'The quick brown fox jumps over the lazy dog.'\n"
   ]
  },
  {
   "cell_type": "code",
   "execution_count": 28,
   "metadata": {
    "ExecuteTime": {
     "end_time": "2021-11-30T14:11:55.392353Z",
     "start_time": "2021-11-30T14:11:55.364280Z"
    }
   },
   "outputs": [
    {
     "data": {
      "text/plain": [
       "65"
      ]
     },
     "execution_count": 28,
     "metadata": {},
     "output_type": "execute_result"
    }
   ],
   "source": [
    "a = \"A\"\n",
    "Asc = ord(a)\n",
    "Asc"
   ]
  },
  {
   "cell_type": "code",
   "execution_count": 29,
   "metadata": {
    "ExecuteTime": {
     "end_time": "2021-11-30T14:11:56.466437Z",
     "start_time": "2021-11-30T14:11:56.437937Z"
    }
   },
   "outputs": [
    {
     "data": {
      "text/plain": [
       "'0b1000001'"
      ]
     },
     "execution_count": 29,
     "metadata": {},
     "output_type": "execute_result"
    }
   ],
   "source": [
    "bin(Asc)"
   ]
  },
  {
   "cell_type": "code",
   "execution_count": 31,
   "metadata": {
    "ExecuteTime": {
     "end_time": "2021-11-30T14:13:08.158082Z",
     "start_time": "2021-11-30T14:13:08.143069Z"
    }
   },
   "outputs": [
    {
     "data": {
      "text/plain": [
       "'1000001'"
      ]
     },
     "execution_count": 31,
     "metadata": {},
     "output_type": "execute_result"
    }
   ],
   "source": [
    "bin(Asc)[2:]"
   ]
  },
  {
   "cell_type": "code",
   "execution_count": 34,
   "metadata": {
    "ExecuteTime": {
     "end_time": "2021-11-30T14:13:40.872700Z",
     "start_time": "2021-11-30T14:13:40.858793Z"
    }
   },
   "outputs": [
    {
     "data": {
      "text/plain": [
       "'01000001'"
      ]
     },
     "execution_count": 34,
     "metadata": {},
     "output_type": "execute_result"
    }
   ],
   "source": [
    "bin(Asc)[2:].zfill(8)"
   ]
  },
  {
   "cell_type": "code",
   "execution_count": 35,
   "metadata": {
    "ExecuteTime": {
     "end_time": "2021-11-30T14:13:58.500546Z",
     "start_time": "2021-11-30T14:13:58.485381Z"
    }
   },
   "outputs": [],
   "source": [
    "a = \"The quick brown fox jumps over the lazy dog.\""
   ]
  },
  {
   "cell_type": "code",
   "execution_count": 42,
   "metadata": {
    "ExecuteTime": {
     "end_time": "2021-11-30T14:15:31.237605Z",
     "start_time": "2021-11-30T14:15:31.193198Z"
    }
   },
   "outputs": [
    {
     "data": {
      "text/plain": [
       "'01010100 01101000 01100101 00100000 01110001 01110101 01101001 01100011 01101011 00100000 01100010 01110010 01101111 01110111 01101110 00100000 01100110 01101111 01111000 00100000 01101010 01110101 01101101 01110000 01110011 00100000 01101111 01110110 01100101 01110010 00100000 01110100 01101000 01100101 00100000 01101100 01100001 01111010 01111001 00100000 01100100 01101111 01100111 00101110'"
      ]
     },
     "execution_count": 42,
     "metadata": {},
     "output_type": "execute_result"
    }
   ],
   "source": [
    "\" \".join([bin(ord(char))[2:].zfill(8) for char in a])"
   ]
  },
  {
   "cell_type": "markdown",
   "metadata": {},
   "source": [
    "# List"
   ]
  },
  {
   "cell_type": "markdown",
   "metadata": {},
   "source": [
    "#### Write a Python program to check a list is empty or not."
   ]
  },
  {
   "cell_type": "code",
   "execution_count": 44,
   "metadata": {
    "ExecuteTime": {
     "end_time": "2021-11-30T14:16:19.209290Z",
     "start_time": "2021-11-30T14:16:19.199538Z"
    }
   },
   "outputs": [
    {
     "name": "stdout",
     "output_type": "stream",
     "text": [
      "List is empty\n"
     ]
    }
   ],
   "source": [
    "a = []\n",
    "if len(a) == 0:\n",
    "    print(\"List is empty\")"
   ]
  },
  {
   "cell_type": "markdown",
   "metadata": {},
   "source": [
    "#### Create a list which contains a number from 1 to 10"
   ]
  },
  {
   "cell_type": "code",
   "execution_count": 45,
   "metadata": {
    "ExecuteTime": {
     "end_time": "2021-11-30T14:16:38.588354Z",
     "start_time": "2021-11-30T14:16:38.576357Z"
    }
   },
   "outputs": [
    {
     "data": {
      "text/plain": [
       "[1, 2, 3, 4, 5, 6, 7, 8, 9, 10]"
      ]
     },
     "execution_count": 45,
     "metadata": {},
     "output_type": "execute_result"
    }
   ],
   "source": [
    "a = [1,2,3,4,5,6,7,8,9,10]\n",
    "a"
   ]
  },
  {
   "cell_type": "code",
   "execution_count": 47,
   "metadata": {
    "ExecuteTime": {
     "end_time": "2021-11-30T14:16:59.021964Z",
     "start_time": "2021-11-30T14:16:59.014729Z"
    }
   },
   "outputs": [
    {
     "data": {
      "text/plain": [
       "[1, 2, 3, 4, 5, 6, 7, 8, 9, 10]"
      ]
     },
     "execution_count": 47,
     "metadata": {},
     "output_type": "execute_result"
    }
   ],
   "source": [
    "a = range(1,11)\n",
    "list(a)"
   ]
  },
  {
   "cell_type": "markdown",
   "metadata": {},
   "source": [
    "#### Using slicing filter even and odd number for given range 1 to 30"
   ]
  },
  {
   "cell_type": "code",
   "execution_count": 49,
   "metadata": {
    "ExecuteTime": {
     "end_time": "2021-11-30T14:17:24.099190Z",
     "start_time": "2021-11-30T14:17:24.088039Z"
    }
   },
   "outputs": [
    {
     "name": "stdout",
     "output_type": "stream",
     "text": [
      "[1, 2, 3, 4, 5, 6, 7, 8, 9, 10, 11, 12, 13, 14, 15, 16, 17, 18, 19, 20, 21, 22, 23, 24, 25, 26, 27, 28, 29, 30]\n"
     ]
    }
   ],
   "source": [
    "a = list(range(1,31))\n",
    "print(a)"
   ]
  },
  {
   "cell_type": "code",
   "execution_count": 50,
   "metadata": {
    "ExecuteTime": {
     "end_time": "2021-11-30T14:17:36.683240Z",
     "start_time": "2021-11-30T14:17:36.667330Z"
    }
   },
   "outputs": [
    {
     "data": {
      "text/plain": [
       "[2, 4, 6, 8, 10, 12, 14, 16, 18, 20, 22, 24, 26, 28, 30]"
      ]
     },
     "execution_count": 50,
     "metadata": {},
     "output_type": "execute_result"
    }
   ],
   "source": [
    "a[1::2]"
   ]
  },
  {
   "cell_type": "code",
   "execution_count": 51,
   "metadata": {
    "ExecuteTime": {
     "end_time": "2021-11-30T14:23:29.098625Z",
     "start_time": "2021-11-30T14:23:29.068025Z"
    }
   },
   "outputs": [
    {
     "data": {
      "text/plain": [
       "[1, 3, 5, 7, 9, 11, 13, 15, 17, 19, 21, 23, 25, 27, 29]"
      ]
     },
     "execution_count": 51,
     "metadata": {},
     "output_type": "execute_result"
    }
   ],
   "source": [
    "a[0::2]"
   ]
  },
  {
   "cell_type": "markdown",
   "metadata": {},
   "source": [
    "#### Create a list of 10 numbers using list comprehension from above output"
   ]
  },
  {
   "cell_type": "code",
   "execution_count": 54,
   "metadata": {
    "ExecuteTime": {
     "end_time": "2021-11-30T14:18:54.215585Z",
     "start_time": "2021-11-30T14:18:54.192988Z"
    }
   },
   "outputs": [
    {
     "name": "stdout",
     "output_type": "stream",
     "text": [
      "[1, 2, 3, 4, 5, 6, 7, 8, 9, 10]\n"
     ]
    }
   ],
   "source": [
    "print([i for i in range(1,11)])"
   ]
  },
  {
   "cell_type": "markdown",
   "metadata": {},
   "source": [
    "#### multiply Each item of list1=[1,2,3,4] with list2=[4,5,6,7] elements. "
   ]
  },
  {
   "cell_type": "code",
   "execution_count": 55,
   "metadata": {
    "ExecuteTime": {
     "end_time": "2021-11-30T14:20:10.174271Z",
     "start_time": "2021-11-30T14:20:10.166922Z"
    }
   },
   "outputs": [
    {
     "name": "stdout",
     "output_type": "stream",
     "text": [
      "1 x 4 = 4\n",
      "1 x 5 = 5\n",
      "1 x 6 = 6\n",
      "1 x 7 = 7\n",
      "2 x 4 = 8\n",
      "2 x 5 = 10\n",
      "2 x 6 = 12\n",
      "2 x 7 = 14\n",
      "3 x 4 = 12\n",
      "3 x 5 = 15\n",
      "3 x 6 = 18\n",
      "3 x 7 = 21\n",
      "4 x 4 = 16\n",
      "4 x 5 = 20\n",
      "4 x 6 = 24\n",
      "4 x 7 = 28\n"
     ]
    }
   ],
   "source": [
    "l1 = [1,2,3,4]\n",
    "l2 = [4,5,6,7]\n",
    "for i in l1:\n",
    "    for j in l2:\n",
    "        print(\"{} x {} = {}\".format(i,j,i*j))"
   ]
  },
  {
   "cell_type": "markdown",
   "metadata": {},
   "source": [
    "#### While performing above operation, filter even and odd numbers from result and store them in a separate list"
   ]
  },
  {
   "cell_type": "code",
   "execution_count": 58,
   "metadata": {
    "ExecuteTime": {
     "end_time": "2021-11-30T14:23:29.098625Z",
     "start_time": "2021-11-30T14:23:29.068025Z"
    }
   },
   "outputs": [
    {
     "name": "stdout",
     "output_type": "stream",
     "text": [
      "Even numbers:[4, 6, 8, 10, 12, 14, 12, 18, 16, 20, 24, 28]\n",
      "Odd numbers:[5, 7, 15, 21]\n"
     ]
    }
   ],
   "source": [
    "l1 = [1,2,3,4]\n",
    "l2 = [4,5,6,7]\n",
    "even = []\n",
    "odd = []\n",
    "for i in l1:\n",
    "    for j in l2:\n",
    "        if i*j%2 ==0:\n",
    "            even.append(i*j)\n",
    "        else:\n",
    "            odd.append(i*j)\n",
    "print(\"Even numbers:{}\\nOdd numbers:{}\".format(even,odd))"
   ]
  },
  {
   "cell_type": "markdown",
   "metadata": {},
   "source": [
    "#### Make sure to remove duplicates from the resultant list"
   ]
  },
  {
   "cell_type": "code",
   "execution_count": 59,
   "metadata": {
    "ExecuteTime": {
     "end_time": "2021-11-30T14:23:47.966064Z",
     "start_time": "2021-11-30T14:23:47.931619Z"
    }
   },
   "outputs": [
    {
     "name": "stdout",
     "output_type": "stream",
     "text": [
      "Even numbers:[4, 6, 8, 10, 12, 14, 18, 16, 20, 24, 28]\n",
      "Odd numbers:[5, 7, 15, 21]\n"
     ]
    }
   ],
   "source": [
    "l1 = [1,2,3,4]\n",
    "l2 = [4,5,6,7]\n",
    "even = []\n",
    "odd = []\n",
    "for i in l1:\n",
    "    for j in l2:\n",
    "        if i*j%2 ==0 and i*j not in even:\n",
    "            even.append(i*j)\n",
    "        elif i*j%2 !=0 :\n",
    "            odd.append(i*j)\n",
    "print(\"Even numbers:{}\\nOdd numbers:{}\".format(even,odd))"
   ]
  },
  {
   "cell_type": "markdown",
   "metadata": {},
   "source": [
    "#### Using iter function print only even and odd numbers of a list between 1 to 100"
   ]
  },
  {
   "cell_type": "code",
   "execution_count": 73,
   "metadata": {
    "ExecuteTime": {
     "end_time": "2021-11-30T14:27:22.231318Z",
     "start_time": "2021-11-30T14:27:22.188268Z"
    }
   },
   "outputs": [
    {
     "data": {
      "text/plain": [
       "<range_iterator at 0x7f883166a4e0>"
      ]
     },
     "execution_count": 73,
     "metadata": {},
     "output_type": "execute_result"
    }
   ],
   "source": [
    "a = range(1,100)\n",
    "itr = iter(a)\n",
    "itr"
   ]
  },
  {
   "cell_type": "code",
   "execution_count": 79,
   "metadata": {
    "ExecuteTime": {
     "end_time": "2021-11-30T14:27:34.741943Z",
     "start_time": "2021-11-30T14:27:34.715078Z"
    }
   },
   "outputs": [
    {
     "name": "stdout",
     "output_type": "stream",
     "text": [
      "Even number::6\n"
     ]
    }
   ],
   "source": [
    "op = next(itr)\n",
    "if op%2 ==0:\n",
    "    print(\"Even number::{}\".format(op))"
   ]
  },
  {
   "cell_type": "markdown",
   "metadata": {},
   "source": [
    "#### Write a Python program to create a list by concatenating a given list which range goes from 1 to n. \n",
    "Sample list : ['p', 'q']\n",
    "n =5\n",
    "Output should be : ['p1', 'q1', 'p2', 'q2', 'p3', 'q3', 'p4', 'q4', 'p5', 'q5']"
   ]
  },
  {
   "cell_type": "code",
   "execution_count": 80,
   "metadata": {
    "ExecuteTime": {
     "end_time": "2021-11-30T14:29:22.717505Z",
     "start_time": "2021-11-30T14:29:22.707272Z"
    }
   },
   "outputs": [
    {
     "data": {
      "text/plain": [
       "['p1', 'q1', 'p2', 'q2', 'p3', 'q3', 'p4', 'q4', 'p5', 'q5']"
      ]
     },
     "execution_count": 80,
     "metadata": {},
     "output_type": "execute_result"
    }
   ],
   "source": [
    "a = [\"p\",\"q\"]\n",
    "n = 5\n",
    "new = []\n",
    "for i in range(1,6):\n",
    "    for char in a:\n",
    "        new.append(char+str(i))\n",
    "new        "
   ]
  },
  {
   "cell_type": "markdown",
   "metadata": {},
   "source": [
    "#### Write a Python program to find the second largest number in a list"
   ]
  },
  {
   "cell_type": "code",
   "execution_count": 82,
   "metadata": {
    "ExecuteTime": {
     "end_time": "2021-11-30T14:30:06.447125Z",
     "start_time": "2021-11-30T14:30:06.436255Z"
    }
   },
   "outputs": [
    {
     "data": {
      "text/plain": [
       "[23, 67, 34, 89, 67, 90]"
      ]
     },
     "execution_count": 82,
     "metadata": {},
     "output_type": "execute_result"
    }
   ],
   "source": [
    "a = [23,67,34,89,67,90]\n",
    "a"
   ]
  },
  {
   "cell_type": "code",
   "execution_count": 84,
   "metadata": {
    "ExecuteTime": {
     "end_time": "2021-11-30T14:30:14.589998Z",
     "start_time": "2021-11-30T14:30:14.577085Z"
    }
   },
   "outputs": [
    {
     "data": {
      "text/plain": [
       "[23, 34, 67, 67, 89, 90]"
      ]
     },
     "execution_count": 84,
     "metadata": {},
     "output_type": "execute_result"
    }
   ],
   "source": [
    "a.sort()\n",
    "a"
   ]
  },
  {
   "cell_type": "code",
   "execution_count": 85,
   "metadata": {
    "ExecuteTime": {
     "end_time": "2021-11-30T14:30:27.512011Z",
     "start_time": "2021-11-30T14:30:27.492301Z"
    }
   },
   "outputs": [
    {
     "data": {
      "text/plain": [
       "89"
      ]
     },
     "execution_count": 85,
     "metadata": {},
     "output_type": "execute_result"
    }
   ],
   "source": [
    "a[-2]"
   ]
  },
  {
   "cell_type": "markdown",
   "metadata": {},
   "source": [
    "# Dictionary"
   ]
  },
  {
   "cell_type": "markdown",
   "metadata": {},
   "source": [
    "#### Write a Python function that accepts a non-spacing string from user and calculate and print the number of upper case letters and lower case letters count as dictionary. \n",
    "Don’t use inbuilt functions.\n"
   ]
  },
  {
   "cell_type": "code",
   "execution_count": 86,
   "metadata": {
    "ExecuteTime": {
     "end_time": "2021-11-30T14:31:23.383984Z",
     "start_time": "2021-11-30T14:31:16.162608Z"
    }
   },
   "outputs": [
    {
     "name": "stdout",
     "output_type": "stream",
     "text": [
      "Enter set of non-spaced chars... asjdhfhgdhKSJDSJDHGJD\n"
     ]
    },
    {
     "data": {
      "text/plain": [
       "'asjdhfhgdhKSJDSJDHGJD'"
      ]
     },
     "execution_count": 86,
     "metadata": {},
     "output_type": "execute_result"
    }
   ],
   "source": [
    "a = input(\"Enter set of non-spaced chars... \")\n",
    "a"
   ]
  },
  {
   "cell_type": "code",
   "execution_count": 91,
   "metadata": {
    "ExecuteTime": {
     "end_time": "2021-11-30T14:33:11.653983Z",
     "start_time": "2021-11-30T14:33:11.641374Z"
    }
   },
   "outputs": [
    {
     "data": {
      "text/plain": [
       "90"
      ]
     },
     "execution_count": 91,
     "metadata": {},
     "output_type": "execute_result"
    }
   ],
   "source": [
    "ord(\"Z\")"
   ]
  },
  {
   "cell_type": "code",
   "execution_count": 96,
   "metadata": {
    "ExecuteTime": {
     "end_time": "2021-11-30T14:34:52.333658Z",
     "start_time": "2021-11-30T14:34:45.818235Z"
    }
   },
   "outputs": [
    {
     "name": "stdout",
     "output_type": "stream",
     "text": [
      "Enter set of non-spaced chars... sjndfhdhjsdhgfjsJHASLDJGWGJHSJGyserytweu&*@#$^%&^@#&$%\n"
     ]
    },
    {
     "data": {
      "text/plain": [
       "{'Lower_Case': 25, 'Upper_Case': 15}"
      ]
     },
     "execution_count": 96,
     "metadata": {},
     "output_type": "execute_result"
    }
   ],
   "source": [
    "a = input(\"Enter set of non-spaced chars... \")\n",
    "a\n",
    "lower_case = 0\n",
    "upper_case = 0\n",
    "low_upp = {}\n",
    "for char in a:\n",
    "    if ord(char) >= 97 and ord(char) <=122:\n",
    "        lower_case += 1\n",
    "    elif ord(char) >= 65 and ord(char) <= 90:\n",
    "        upper_case += 1\n",
    "low_upp[\"Lower_Case\"] = lower_case\n",
    "low_upp[\"Upper_Case\"] = upper_case\n",
    "low_upp"
   ]
  },
  {
   "cell_type": "markdown",
   "metadata": {},
   "source": [
    "####  Write a Python program to count the number of characters in a string: 'google.com'\n",
    "O/p should be in the form of dictionary and each char should be used as key and their number of occurrences should be value"
   ]
  },
  {
   "cell_type": "code",
   "execution_count": 98,
   "metadata": {
    "ExecuteTime": {
     "end_time": "2021-11-30T14:36:04.697421Z",
     "start_time": "2021-11-30T14:36:04.691140Z"
    }
   },
   "outputs": [
    {
     "data": {
      "text/plain": [
       "{'g': 2, 'o': 3, 'l': 1, 'e': 1, '.': 1, 'c': 1, 'm': 1}"
      ]
     },
     "execution_count": 98,
     "metadata": {},
     "output_type": "execute_result"
    }
   ],
   "source": [
    "a = \"google.com\"\n",
    "{char:a.count(char) for char in a}"
   ]
  },
  {
   "cell_type": "markdown",
   "metadata": {},
   "source": [
    "#### Write a Python program to concatenate following dictionaries to create a new one.\n",
    "\n",
    "Sample Dictionary :\n",
    "dic1={1:10, 2:20}\n",
    "dic2={3:30, 4:40}\n",
    "dic3={5:50,6:60}"
   ]
  },
  {
   "cell_type": "code",
   "execution_count": 99,
   "metadata": {
    "ExecuteTime": {
     "end_time": "2021-11-30T14:36:59.869378Z",
     "start_time": "2021-11-30T14:36:59.851965Z"
    }
   },
   "outputs": [
    {
     "name": "stdout",
     "output_type": "stream",
     "text": [
      "{1: 10, 2: 20}\n",
      "{3: 30, 4: 40}\n",
      "{5: 50, 6: 60}\n"
     ]
    }
   ],
   "source": [
    "d1 = {1:10, 2:20} \n",
    "d2 = {3:30, 4:40} \n",
    "d3 = {5:50,6:60}\n",
    "print(d1)\n",
    "print(d2)\n",
    "print(d3)"
   ]
  },
  {
   "cell_type": "code",
   "execution_count": 100,
   "metadata": {
    "ExecuteTime": {
     "end_time": "2021-11-30T14:37:15.966436Z",
     "start_time": "2021-11-30T14:37:15.951469Z"
    }
   },
   "outputs": [
    {
     "data": {
      "text/plain": [
       "{1: 10, 2: 20, 3: 30, 4: 40, 5: 50, 6: 60}"
      ]
     },
     "execution_count": 100,
     "metadata": {},
     "output_type": "execute_result"
    }
   ],
   "source": [
    "d4 = {**d1,**d2,**d3}\n",
    "d4"
   ]
  },
  {
   "cell_type": "markdown",
   "metadata": {},
   "source": [
    "#### Write a Python program to add key to a dictionary"
   ]
  },
  {
   "cell_type": "code",
   "execution_count": 101,
   "metadata": {
    "ExecuteTime": {
     "end_time": "2021-11-30T14:37:51.319577Z",
     "start_time": "2021-11-30T14:37:51.292936Z"
    }
   },
   "outputs": [
    {
     "data": {
      "text/plain": [
       "{1: 10, 2: 20, 3: 30, 4: 40, 5: 50, 6: 60, 'new_Key': 100}"
      ]
     },
     "execution_count": 101,
     "metadata": {},
     "output_type": "execute_result"
    }
   ],
   "source": [
    "d4[\"new_Key\"] = 100\n",
    "d4"
   ]
  },
  {
   "cell_type": "markdown",
   "metadata": {},
   "source": [
    "# Condition and Loops \n",
    "- will be used in some of the questions"
   ]
  },
  {
   "cell_type": "markdown",
   "metadata": {},
   "source": [
    "# File handling"
   ]
  },
  {
   "cell_type": "markdown",
   "metadata": {},
   "source": [
    "#### Write a script which opens a text file and read the each line and print them along with line number (counter variable to be used).\n"
   ]
  },
  {
   "cell_type": "markdown",
   "metadata": {
    "ExecuteTime": {
     "end_time": "2021-11-20T15:49:00.640629Z",
     "start_time": "2021-11-20T15:49:00.638062Z"
    }
   },
   "source": [
    "#### Write a program to filter out those lines which is ending with even number (e.g This is line2) in the statement. Also make sure that blank line is not available in final output."
   ]
  },
  {
   "cell_type": "markdown",
   "metadata": {},
   "source": [
    "#### Write a script which opens a text file that contains some text ending with line number 1 to 10. E.g \n",
    "\n",
    "“This is line1” \n",
    "\n",
    "“This is line2” …“This is line10” \n",
    "\n",
    "Filter those lines which ends with only even number and print them.\n"
   ]
  },
  {
   "cell_type": "markdown",
   "metadata": {},
   "source": [
    "# Function and Modules"
   ]
  },
  {
   "cell_type": "markdown",
   "metadata": {
    "ExecuteTime": {
     "end_time": "2021-11-20T15:47:47.692518Z",
     "start_time": "2021-11-20T15:47:47.689540Z"
    }
   },
   "source": [
    "#### Write a Python function to find the Max of three numbers from a given list"
   ]
  },
  {
   "cell_type": "markdown",
   "metadata": {},
   "source": [
    "#### Write a Python function to calculate the factorial of a number (a non-negative integer). The function accepts the number as an argument\n"
   ]
  },
  {
   "cell_type": "markdown",
   "metadata": {},
   "source": [
    "#### Write a module (with one line of documentation) to generate a list of reverse numbers , even and odd numbers for a user defined list of integers "
   ]
  },
  {
   "cell_type": "markdown",
   "metadata": {},
   "source": [
    "#### Call above written module using “import” in different file and load various available modules and perform the same operations (i.e. generate list of reverse, even and odd numbers)\n"
   ]
  },
  {
   "cell_type": "markdown",
   "metadata": {},
   "source": [
    "# Regular expression"
   ]
  },
  {
   "cell_type": "markdown",
   "metadata": {},
   "source": [
    "#### Write a Python program to search 3’letter strings in a given sentence.\n",
    "Sample text : 'The quick brown fox jumps over the lazy dog.'\n",
    "Searched words : 'fox', 'dog'\n"
   ]
  },
  {
   "cell_type": "code",
   "execution_count": 106,
   "metadata": {
    "ExecuteTime": {
     "end_time": "2021-11-30T14:40:20.552001Z",
     "start_time": "2021-11-30T14:40:20.545206Z"
    }
   },
   "outputs": [
    {
     "data": {
      "text/plain": [
       "'The'"
      ]
     },
     "execution_count": 106,
     "metadata": {},
     "output_type": "execute_result"
    }
   ],
   "source": [
    "import re\n",
    "a = \"The quick brown fox jumps over the lazy dog.\"\n",
    "so = re.search(\"\\\\b\\w{3}\\\\b\",a)\n",
    "so.group()"
   ]
  },
  {
   "cell_type": "code",
   "execution_count": 107,
   "metadata": {
    "ExecuteTime": {
     "end_time": "2021-11-30T14:40:44.298163Z",
     "start_time": "2021-11-30T14:40:44.285854Z"
    }
   },
   "outputs": [
    {
     "data": {
      "text/plain": [
       "['The', 'fox', 'the', 'dog']"
      ]
     },
     "execution_count": 107,
     "metadata": {},
     "output_type": "execute_result"
    }
   ],
   "source": [
    "so = re.findall(\"\\\\b\\w{3}\\\\b\",a)\n",
    "so"
   ]
  },
  {
   "cell_type": "markdown",
   "metadata": {},
   "source": [
    "#### Write a program which takes input from user to enter email ID and return the message if email ID is valid or not\n"
   ]
  },
  {
   "cell_type": "code",
   "execution_count": 112,
   "metadata": {
    "ExecuteTime": {
     "end_time": "2021-11-30T14:43:37.623368Z",
     "start_time": "2021-11-30T14:43:37.607668Z"
    }
   },
   "outputs": [
    {
     "name": "stdout",
     "output_type": "stream",
     "text": [
      "<re.Match object; span=(0, 27), match='abc.def_ghi123@xy.za2.co.in'>\n"
     ]
    }
   ],
   "source": [
    "a = \"abc.def_ghi123@xy.za2.co.in\"\n",
    "so = re.search(\"[aA-zZ0-9_\\.]+@[aA-zZ0-9\\.]+\",a)\n",
    "print(so)"
   ]
  },
  {
   "cell_type": "code",
   "execution_count": 113,
   "metadata": {
    "ExecuteTime": {
     "end_time": "2021-11-30T14:46:23.898543Z",
     "start_time": "2021-11-30T14:46:23.893363Z"
    }
   },
   "outputs": [
    {
     "name": "stdout",
     "output_type": "stream",
     "text": [
      "<re.Match object; span=(0, 18), match='abc.def_ghi@xy.com'>\n"
     ]
    }
   ],
   "source": [
    "a = \"abc.def_ghi@xy.com\"\n",
    "so = re.search(\"[aA-zZ0-9_\\.]+@[aA-zZ0-9\\.]+\",a)\n",
    "print(so)"
   ]
  },
  {
   "cell_type": "markdown",
   "metadata": {},
   "source": [
    "#### Write a script which takes input to enter IP address and return a message if IP address is valid or not"
   ]
  },
  {
   "cell_type": "code",
   "execution_count": 115,
   "metadata": {
    "ExecuteTime": {
     "end_time": "2021-11-30T14:46:23.898543Z",
     "start_time": "2021-11-30T14:46:23.893363Z"
    }
   },
   "outputs": [
    {
     "name": "stdout",
     "output_type": "stream",
     "text": [
      "('10', '72', '89', '250')\n"
     ]
    }
   ],
   "source": [
    "a = \"10.72.89.250\" #0-255\n",
    "so = re.search(\"(\\d\\d?\\d?)\\.(\\d\\d?\\d?)\\.(\\d\\d?\\d?)\\.(\\d\\d?\\d?)\",a)\n",
    "print(so.groups())"
   ]
  },
  {
   "cell_type": "markdown",
   "metadata": {},
   "source": [
    "# Exceptions"
   ]
  },
  {
   "cell_type": "markdown",
   "metadata": {},
   "source": [
    "#### Write a program to write something in a text file which is not existing. Handle the exception gracefully and write the output."
   ]
  },
  {
   "cell_type": "code",
   "execution_count": 116,
   "metadata": {
    "ExecuteTime": {
     "end_time": "2021-11-30T14:48:06.436645Z",
     "start_time": "2021-11-30T14:48:06.387431Z"
    }
   },
   "outputs": [
    {
     "ename": "FileNotFoundError",
     "evalue": "[Errno 2] No such file or directory: 'test1.test'",
     "output_type": "error",
     "traceback": [
      "\u001b[0;31m---------------------------------------------------------------------------\u001b[0m",
      "\u001b[0;31mFileNotFoundError\u001b[0m                         Traceback (most recent call last)",
      "\u001b[0;32m/var/folders/dt/34mh0kcs6vb1yfxmbqn51tm00000gp/T/ipykernel_1305/1359744483.py\u001b[0m in \u001b[0;36m<module>\u001b[0;34m\u001b[0m\n\u001b[0;32m----> 1\u001b[0;31m \u001b[0mfo\u001b[0m \u001b[0;34m=\u001b[0m \u001b[0mopen\u001b[0m\u001b[0;34m(\u001b[0m\u001b[0;34m\"test1.test\"\u001b[0m\u001b[0;34m)\u001b[0m\u001b[0;34m\u001b[0m\u001b[0;34m\u001b[0m\u001b[0m\n\u001b[0m\u001b[1;32m      2\u001b[0m \u001b[0mprint\u001b[0m\u001b[0;34m(\u001b[0m\u001b[0mfo\u001b[0m\u001b[0;34m)\u001b[0m\u001b[0;34m\u001b[0m\u001b[0;34m\u001b[0m\u001b[0m\n",
      "\u001b[0;31mFileNotFoundError\u001b[0m: [Errno 2] No such file or directory: 'test1.test'"
     ]
    }
   ],
   "source": [
    "fo = open(\"test1.test\")\n",
    "print(fo)"
   ]
  },
  {
   "cell_type": "code",
   "execution_count": 119,
   "metadata": {
    "ExecuteTime": {
     "end_time": "2021-11-30T14:49:17.075370Z",
     "start_time": "2021-11-30T14:49:17.068815Z"
    }
   },
   "outputs": [
    {
     "name": "stdout",
     "output_type": "stream",
     "text": [
      "[Errno 2] No such file or directory: 'test1.test' Execption is thrown\n"
     ]
    }
   ],
   "source": [
    "try:\n",
    "    fo = open(\"test1.test\")\n",
    "    print(fo)\n",
    "except Exception as err:\n",
    "    print(\"{} Execption is thrown\".format(err))"
   ]
  }
 ],
 "metadata": {
  "kernelspec": {
   "display_name": "Python 3 (ipykernel)",
   "language": "python",
   "name": "python3"
  },
  "language_info": {
   "codemirror_mode": {
    "name": "ipython",
    "version": 3
   },
   "file_extension": ".py",
   "mimetype": "text/x-python",
   "name": "python",
   "nbconvert_exporter": "python",
   "pygments_lexer": "ipython3",
   "version": "3.8.5"
  },
  "toc": {
   "base_numbering": 1,
   "nav_menu": {},
   "number_sections": true,
   "sideBar": true,
   "skip_h1_title": false,
   "title_cell": "Table of Contents",
   "title_sidebar": "Contents",
   "toc_cell": false,
   "toc_position": {
    "height": "calc(100% - 180px)",
    "left": "10px",
    "top": "150px",
    "width": "358.333px"
   },
   "toc_section_display": true,
   "toc_window_display": true
  }
 },
 "nbformat": 4,
 "nbformat_minor": 2
}
