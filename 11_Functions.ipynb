{
 "cells": [
  {
   "cell_type": "markdown",
   "metadata": {},
   "source": [
    "# Functions"
   ]
  },
  {
   "cell_type": "markdown",
   "metadata": {},
   "source": [
    "## - Definition"
   ]
  },
  {
   "cell_type": "markdown",
   "metadata": {},
   "source": [
    "- Python Functions is a block of code or set of python statements written to perform a computational, logical, or evaluative task. \n",
    "- The idea is to put some commonly or repeatedly done tasks together and make a function so that instead of writing the same code again and again for different inputs, we can do the function calls to reuse code contained in it over and over again. "
   ]
  },
  {
   "cell_type": "markdown",
   "metadata": {},
   "source": [
    "## Type of functions"
   ]
  },
  {
   "cell_type": "markdown",
   "metadata": {
    "ExecuteTime": {
     "end_time": "2021-10-18T09:15:26.554369Z",
     "start_time": "2021-10-18T09:15:26.548084Z"
    }
   },
   "source": [
    "- In built functions like sum(), list(), tuple() etc.\n",
    "- User defined functions\n",
    "- Anonymous function (i.e. lambda)"
   ]
  },
  {
   "cell_type": "markdown",
   "metadata": {},
   "source": [
    "## - How to write functions"
   ]
  },
  {
   "cell_type": "code",
   "execution_count": 1,
   "metadata": {
    "ExecuteTime": {
     "end_time": "2021-10-18T15:10:29.428094Z",
     "start_time": "2021-10-18T15:10:29.423877Z"
    }
   },
   "outputs": [],
   "source": [
    "# Syntax:\n",
    "# def <func_name> (<optional_parameters>,<param2>,....):\n",
    "#     <statement-1>\n",
    "#     <statement-2>\n",
    "#     .\n",
    "#     .\n",
    "#     .\n",
    "#     <optional return keyword>\n",
    "\n",
    "    "
   ]
  },
  {
   "cell_type": "code",
   "execution_count": 2,
   "metadata": {
    "ExecuteTime": {
     "end_time": "2021-10-18T15:10:29.439549Z",
     "start_time": "2021-10-18T15:10:29.433963Z"
    }
   },
   "outputs": [
    {
     "name": "stdout",
     "output_type": "stream",
     "text": [
      "5\n"
     ]
    }
   ],
   "source": [
    "# Examples:\n",
    "def SUM(x,y):\n",
    "    c = x+y\n",
    "    print(c)\n",
    "SUM(2,3)"
   ]
  },
  {
   "cell_type": "markdown",
   "metadata": {},
   "source": [
    "## What is `return` in function"
   ]
  },
  {
   "cell_type": "code",
   "execution_count": 3,
   "metadata": {
    "ExecuteTime": {
     "end_time": "2021-10-18T15:10:29.447946Z",
     "start_time": "2021-10-18T15:10:29.444438Z"
    }
   },
   "outputs": [],
   "source": [
    "# return: is going to be used as exit from function, and whatever statements are used after return are not \n",
    "# going to be executed"
   ]
  },
  {
   "cell_type": "code",
   "execution_count": 4,
   "metadata": {
    "ExecuteTime": {
     "end_time": "2021-10-18T15:10:29.458334Z",
     "start_time": "2021-10-18T15:10:29.452713Z"
    }
   },
   "outputs": [],
   "source": [
    "def func1():\n",
    "    print(\"I am inside func1 and before return keyword\")\n",
    "    return None\n",
    "    print(\"I am inside func1 and after return keyword\")"
   ]
  },
  {
   "cell_type": "code",
   "execution_count": 5,
   "metadata": {
    "ExecuteTime": {
     "end_time": "2021-10-18T15:10:29.468290Z",
     "start_time": "2021-10-18T15:10:29.462518Z"
    }
   },
   "outputs": [],
   "source": [
    "def func1():\n",
    "    print(\"I am inside func1 and before return keyword\")\n",
    "    return \"func1\"\n"
   ]
  },
  {
   "cell_type": "code",
   "execution_count": 6,
   "metadata": {
    "ExecuteTime": {
     "end_time": "2021-10-18T15:10:29.481526Z",
     "start_time": "2021-10-18T15:10:29.474538Z"
    }
   },
   "outputs": [],
   "source": [
    "def func1():\n",
    "    print(\"I am inside func1 and before return keyword\")\n",
    "    return [\"func1\",\"1\",2,3]\n"
   ]
  },
  {
   "cell_type": "code",
   "execution_count": 7,
   "metadata": {
    "ExecuteTime": {
     "end_time": "2021-10-18T15:10:29.492337Z",
     "start_time": "2021-10-18T15:10:29.487224Z"
    }
   },
   "outputs": [],
   "source": [
    "def func1():\n",
    "    print(\"I am inside func1 and before return keyword\")\n",
    "    return (\"func1\",\"1\",2,3)\n"
   ]
  },
  {
   "cell_type": "code",
   "execution_count": 8,
   "metadata": {
    "ExecuteTime": {
     "end_time": "2021-10-18T15:10:29.505761Z",
     "start_time": "2021-10-18T15:10:29.500786Z"
    }
   },
   "outputs": [],
   "source": [
    "def func1():\n",
    "    print(\"I am inside func1 and before return keyword\")\n",
    "    return {\"A\":1,\"B\":2}\n"
   ]
  },
  {
   "cell_type": "code",
   "execution_count": 9,
   "metadata": {
    "ExecuteTime": {
     "end_time": "2021-10-18T15:10:29.520851Z",
     "start_time": "2021-10-18T15:10:29.509699Z"
    }
   },
   "outputs": [
    {
     "name": "stdout",
     "output_type": "stream",
     "text": [
      "I am inside func1 and before return keyword\n"
     ]
    },
    {
     "data": {
      "text/plain": [
       "{'A': 1, 'B': 2}"
      ]
     },
     "execution_count": 9,
     "metadata": {},
     "output_type": "execute_result"
    }
   ],
   "source": [
    "func1()"
   ]
  },
  {
   "cell_type": "markdown",
   "metadata": {},
   "source": [
    "## Function Docstring"
   ]
  },
  {
   "cell_type": "code",
   "execution_count": 10,
   "metadata": {
    "ExecuteTime": {
     "end_time": "2021-10-18T15:10:29.532807Z",
     "start_time": "2021-10-18T15:10:29.526145Z"
    }
   },
   "outputs": [],
   "source": [
    "def func2(x,y):\n",
    "    '''\n",
    "    This is func2 example:\n",
    "    Args: x,y\n",
    "    Type: int\n",
    "    return: int type (x+y)\n",
    "    '''\n",
    "    c = x+y\n",
    "    return(c)"
   ]
  },
  {
   "cell_type": "code",
   "execution_count": 11,
   "metadata": {
    "ExecuteTime": {
     "end_time": "2021-10-18T15:10:29.546238Z",
     "start_time": "2021-10-18T15:10:29.537335Z"
    }
   },
   "outputs": [
    {
     "data": {
      "text/plain": [
       "7"
      ]
     },
     "execution_count": 11,
     "metadata": {},
     "output_type": "execute_result"
    }
   ],
   "source": [
    "func2(2,5)"
   ]
  },
  {
   "cell_type": "markdown",
   "metadata": {},
   "source": [
    "## - How to call functions"
   ]
  },
  {
   "cell_type": "code",
   "execution_count": 12,
   "metadata": {
    "ExecuteTime": {
     "end_time": "2021-10-18T15:10:29.557724Z",
     "start_time": "2021-10-18T15:10:29.552164Z"
    }
   },
   "outputs": [],
   "source": [
    "def sub(x,y):\n",
    "    c = x-y\n",
    "    return c"
   ]
  },
  {
   "cell_type": "code",
   "execution_count": 13,
   "metadata": {
    "ExecuteTime": {
     "end_time": "2021-10-18T15:10:29.569471Z",
     "start_time": "2021-10-18T15:10:29.561879Z"
    }
   },
   "outputs": [
    {
     "data": {
      "text/plain": [
       "5"
      ]
     },
     "execution_count": 13,
     "metadata": {},
     "output_type": "execute_result"
    }
   ],
   "source": [
    "sub(10,5)"
   ]
  },
  {
   "cell_type": "code",
   "execution_count": 14,
   "metadata": {
    "ExecuteTime": {
     "end_time": "2021-10-18T15:10:29.580635Z",
     "start_time": "2021-10-18T15:10:29.573050Z"
    }
   },
   "outputs": [],
   "source": [
    "# sub1(x,y)"
   ]
  },
  {
   "cell_type": "markdown",
   "metadata": {},
   "source": [
    "## - Mandatory/Non-mandatory , Optional, keyworded, non-keyworded argument"
   ]
  },
  {
   "cell_type": "code",
   "execution_count": 15,
   "metadata": {
    "ExecuteTime": {
     "end_time": "2021-10-18T15:10:29.589939Z",
     "start_time": "2021-10-18T15:10:29.583419Z"
    }
   },
   "outputs": [],
   "source": [
    "def func3(x,y): # x and y are required/mandatory argument\n",
    "    z = x+y\n",
    "    return(z)"
   ]
  },
  {
   "cell_type": "code",
   "execution_count": 16,
   "metadata": {
    "ExecuteTime": {
     "end_time": "2021-10-18T15:10:29.601511Z",
     "start_time": "2021-10-18T15:10:29.593642Z"
    }
   },
   "outputs": [
    {
     "data": {
      "text/plain": [
       "5"
      ]
     },
     "execution_count": 16,
     "metadata": {},
     "output_type": "execute_result"
    }
   ],
   "source": [
    "func3(2,3)"
   ]
  },
  {
   "cell_type": "code",
   "execution_count": 17,
   "metadata": {
    "ExecuteTime": {
     "end_time": "2021-10-18T15:10:29.609693Z",
     "start_time": "2021-10-18T15:10:29.605764Z"
    }
   },
   "outputs": [],
   "source": [
    "# func3(2)"
   ]
  },
  {
   "cell_type": "code",
   "execution_count": 18,
   "metadata": {
    "ExecuteTime": {
     "end_time": "2021-10-18T15:10:29.618376Z",
     "start_time": "2021-10-18T15:10:29.613388Z"
    }
   },
   "outputs": [],
   "source": [
    "# func3(2,3,4)"
   ]
  },
  {
   "cell_type": "code",
   "execution_count": 19,
   "metadata": {
    "ExecuteTime": {
     "end_time": "2021-10-18T15:10:29.625738Z",
     "start_time": "2021-10-18T15:10:29.622093Z"
    }
   },
   "outputs": [],
   "source": [
    "def func3(x,y=3): # x is mandatory and y is non-mandatory argument\n",
    "    z = x+y\n",
    "    return(z)"
   ]
  },
  {
   "cell_type": "code",
   "execution_count": 20,
   "metadata": {
    "ExecuteTime": {
     "end_time": "2021-10-18T15:10:29.635814Z",
     "start_time": "2021-10-18T15:10:29.629466Z"
    }
   },
   "outputs": [
    {
     "data": {
      "text/plain": [
       "5"
      ]
     },
     "execution_count": 20,
     "metadata": {},
     "output_type": "execute_result"
    }
   ],
   "source": [
    "func3(2)"
   ]
  },
  {
   "cell_type": "code",
   "execution_count": 21,
   "metadata": {
    "ExecuteTime": {
     "end_time": "2021-10-18T15:10:29.645251Z",
     "start_time": "2021-10-18T15:10:29.638794Z"
    }
   },
   "outputs": [
    {
     "data": {
      "text/plain": [
       "12"
      ]
     },
     "execution_count": 21,
     "metadata": {},
     "output_type": "execute_result"
    }
   ],
   "source": [
    "func3(2,10)"
   ]
  },
  {
   "cell_type": "code",
   "execution_count": 22,
   "metadata": {
    "ExecuteTime": {
     "end_time": "2021-10-18T15:10:29.655559Z",
     "start_time": "2021-10-18T15:10:29.648547Z"
    }
   },
   "outputs": [
    {
     "ename": "SyntaxError",
     "evalue": "non-default argument follows default argument (728726016.py, line 1)",
     "output_type": "error",
     "traceback": [
      "\u001b[0;36m  File \u001b[0;32m\"/var/folders/dt/34mh0kcs6vb1yfxmbqn51tm00000gp/T/ipykernel_9305/728726016.py\"\u001b[0;36m, line \u001b[0;32m1\u001b[0m\n\u001b[0;31m    def func3(x=10,y): # x is mandatory and y is non-mandatory argument\u001b[0m\n\u001b[0m              ^\u001b[0m\n\u001b[0;31mSyntaxError\u001b[0m\u001b[0;31m:\u001b[0m non-default argument follows default argument\n"
     ]
    }
   ],
   "source": [
    "def func3(x=10,y): # x is mandatory and y is non-mandatory argument\n",
    "    z = x+y\n",
    "    return(z)"
   ]
  },
  {
   "cell_type": "code",
   "execution_count": 23,
   "metadata": {
    "ExecuteTime": {
     "end_time": "2021-10-18T15:10:48.281308Z",
     "start_time": "2021-10-18T15:10:48.276018Z"
    }
   },
   "outputs": [],
   "source": [
    "def func3(x=10,y=20): # x is mandatory and y is non-mandatory argument\n",
    "    z = x+y\n",
    "    return(z)"
   ]
  },
  {
   "cell_type": "code",
   "execution_count": 24,
   "metadata": {
    "ExecuteTime": {
     "end_time": "2021-10-18T15:10:48.301710Z",
     "start_time": "2021-10-18T15:10:48.292216Z"
    }
   },
   "outputs": [
    {
     "data": {
      "text/plain": [
       "30"
      ]
     },
     "execution_count": 24,
     "metadata": {},
     "output_type": "execute_result"
    }
   ],
   "source": [
    "func3()"
   ]
  },
  {
   "cell_type": "code",
   "execution_count": 25,
   "metadata": {
    "ExecuteTime": {
     "end_time": "2021-10-18T15:10:48.313794Z",
     "start_time": "2021-10-18T15:10:48.306840Z"
    }
   },
   "outputs": [
    {
     "data": {
      "text/plain": [
       "12"
      ]
     },
     "execution_count": 25,
     "metadata": {},
     "output_type": "execute_result"
    }
   ],
   "source": [
    "func3(2,10)"
   ]
  },
  {
   "cell_type": "markdown",
   "metadata": {},
   "source": [
    "## - Handling multiple arguments (non-KW)"
   ]
  },
  {
   "cell_type": "code",
   "execution_count": 26,
   "metadata": {
    "ExecuteTime": {
     "end_time": "2021-10-18T15:10:48.323357Z",
     "start_time": "2021-10-18T15:10:48.318664Z"
    }
   },
   "outputs": [],
   "source": [
    "def func3(x,y):\n",
    "    z = x+y\n",
    "    return(z)"
   ]
  },
  {
   "cell_type": "code",
   "execution_count": 27,
   "metadata": {
    "ExecuteTime": {
     "end_time": "2021-10-18T15:10:48.337480Z",
     "start_time": "2021-10-18T15:10:48.328718Z"
    }
   },
   "outputs": [
    {
     "data": {
      "text/plain": [
       "30"
      ]
     },
     "execution_count": 27,
     "metadata": {},
     "output_type": "execute_result"
    }
   ],
   "source": [
    "func3(10,20)"
   ]
  },
  {
   "cell_type": "code",
   "execution_count": 28,
   "metadata": {
    "ExecuteTime": {
     "end_time": "2021-10-18T15:10:48.348353Z",
     "start_time": "2021-10-18T15:10:48.341660Z"
    }
   },
   "outputs": [],
   "source": [
    "def func3(x,y,*arg):\n",
    "    print(\"x=\",x)\n",
    "    print(\"y=\",y)\n",
    "    print(\"arg=\",arg)\n",
    "    z = x+y\n",
    "    return(z)"
   ]
  },
  {
   "cell_type": "code",
   "execution_count": 29,
   "metadata": {
    "ExecuteTime": {
     "end_time": "2021-10-18T15:10:48.362447Z",
     "start_time": "2021-10-18T15:10:48.352926Z"
    }
   },
   "outputs": [
    {
     "name": "stdout",
     "output_type": "stream",
     "text": [
      "x= 10\n",
      "y= 20\n",
      "arg= (30, 40, 50)\n"
     ]
    },
    {
     "data": {
      "text/plain": [
       "30"
      ]
     },
     "execution_count": 29,
     "metadata": {},
     "output_type": "execute_result"
    }
   ],
   "source": [
    "func3(10,20,30,40,50)"
   ]
  },
  {
   "cell_type": "code",
   "execution_count": 30,
   "metadata": {
    "ExecuteTime": {
     "end_time": "2021-10-18T15:10:48.378895Z",
     "start_time": "2021-10-18T15:10:48.369491Z"
    }
   },
   "outputs": [
    {
     "name": "stdout",
     "output_type": "stream",
     "text": [
      "x= 10\n",
      "y= 20\n",
      "arg= (30,)\n"
     ]
    },
    {
     "data": {
      "text/plain": [
       "30"
      ]
     },
     "execution_count": 30,
     "metadata": {},
     "output_type": "execute_result"
    }
   ],
   "source": [
    "func3(10,20,30)"
   ]
  },
  {
   "cell_type": "markdown",
   "metadata": {},
   "source": [
    "## - Handling multiple arguments (KeyWorded)"
   ]
  },
  {
   "cell_type": "code",
   "execution_count": 31,
   "metadata": {
    "ExecuteTime": {
     "end_time": "2021-10-18T15:10:48.390541Z",
     "start_time": "2021-10-18T15:10:48.383672Z"
    }
   },
   "outputs": [],
   "source": [
    "def func4(x=10,y=20,**kwarg):\n",
    "    print(\"x=\",x)\n",
    "    print(\"y=\",y)\n",
    "    print(\"kwarg=\",kwarg)\n",
    "    z = x+y\n",
    "    return(z)"
   ]
  },
  {
   "cell_type": "code",
   "execution_count": 32,
   "metadata": {
    "ExecuteTime": {
     "end_time": "2021-10-18T15:10:48.403369Z",
     "start_time": "2021-10-18T15:10:48.395796Z"
    }
   },
   "outputs": [
    {
     "name": "stdout",
     "output_type": "stream",
     "text": [
      "x= 10\n",
      "y= 20\n",
      "kwarg= {}\n"
     ]
    },
    {
     "data": {
      "text/plain": [
       "30"
      ]
     },
     "execution_count": 32,
     "metadata": {},
     "output_type": "execute_result"
    }
   ],
   "source": [
    "func4()"
   ]
  },
  {
   "cell_type": "code",
   "execution_count": 33,
   "metadata": {
    "ExecuteTime": {
     "end_time": "2021-10-18T15:10:48.412822Z",
     "start_time": "2021-10-18T15:10:48.407334Z"
    }
   },
   "outputs": [],
   "source": [
    "# func4(1,2,3,4,5)"
   ]
  },
  {
   "cell_type": "code",
   "execution_count": 34,
   "metadata": {
    "ExecuteTime": {
     "end_time": "2021-10-18T15:10:48.427550Z",
     "start_time": "2021-10-18T15:10:48.418329Z"
    }
   },
   "outputs": [
    {
     "name": "stdout",
     "output_type": "stream",
     "text": [
      "x= 1\n",
      "y= 2\n",
      "kwarg= {'a': 3, 'b': 4, 'c': 5}\n"
     ]
    },
    {
     "data": {
      "text/plain": [
       "3"
      ]
     },
     "execution_count": 34,
     "metadata": {},
     "output_type": "execute_result"
    }
   ],
   "source": [
    "func4(1,2,a=3,b=4,c=5)"
   ]
  },
  {
   "cell_type": "markdown",
   "metadata": {},
   "source": [
    "## - Handling multiple arguments (KW & KeyWorded together)"
   ]
  },
  {
   "cell_type": "code",
   "execution_count": 35,
   "metadata": {
    "ExecuteTime": {
     "end_time": "2021-10-18T15:10:48.440520Z",
     "start_time": "2021-10-18T15:10:48.434394Z"
    }
   },
   "outputs": [],
   "source": [
    "def func5(x,y,*arg,**kwarg):\n",
    "    print(\"x=\",x)\n",
    "    print(\"y=\",y)\n",
    "    print(\"arg=\",arg)\n",
    "    print(\"kwarg=\",kwarg)\n",
    "    z = x+y\n",
    "    return(z)"
   ]
  },
  {
   "cell_type": "code",
   "execution_count": 36,
   "metadata": {
    "ExecuteTime": {
     "end_time": "2021-10-18T15:10:48.454142Z",
     "start_time": "2021-10-18T15:10:48.444138Z"
    }
   },
   "outputs": [
    {
     "name": "stdout",
     "output_type": "stream",
     "text": [
      "x= 1\n",
      "y= 2\n",
      "arg= (3, 4, 5)\n",
      "kwarg= {'a': 10, 'b': 20}\n"
     ]
    },
    {
     "data": {
      "text/plain": [
       "3"
      ]
     },
     "execution_count": 36,
     "metadata": {},
     "output_type": "execute_result"
    }
   ],
   "source": [
    "func5(1,2,3,4,5,a=10,b=20)"
   ]
  },
  {
   "cell_type": "markdown",
   "metadata": {},
   "source": [
    "## - Scope of variables"
   ]
  },
  {
   "cell_type": "markdown",
   "metadata": {},
   "source": [
    "### - Local variable"
   ]
  },
  {
   "cell_type": "code",
   "execution_count": 37,
   "metadata": {
    "ExecuteTime": {
     "end_time": "2021-10-18T15:10:48.464611Z",
     "start_time": "2021-10-18T15:10:48.459074Z"
    }
   },
   "outputs": [],
   "source": [
    "def func6(x,y):\n",
    "    z = x+y\n",
    "    return(z)"
   ]
  },
  {
   "cell_type": "code",
   "execution_count": 38,
   "metadata": {
    "ExecuteTime": {
     "end_time": "2021-10-18T15:10:48.705290Z",
     "start_time": "2021-10-18T15:10:48.468151Z"
    }
   },
   "outputs": [
    {
     "ename": "NameError",
     "evalue": "name 'z' is not defined",
     "output_type": "error",
     "traceback": [
      "\u001b[0;31m---------------------------------------------------------------------------\u001b[0m",
      "\u001b[0;31mNameError\u001b[0m                                 Traceback (most recent call last)",
      "\u001b[0;32m/var/folders/dt/34mh0kcs6vb1yfxmbqn51tm00000gp/T/ipykernel_9305/2265223412.py\u001b[0m in \u001b[0;36m<module>\u001b[0;34m\u001b[0m\n\u001b[1;32m      1\u001b[0m \u001b[0mfunc6\u001b[0m\u001b[0;34m(\u001b[0m\u001b[0;36m10\u001b[0m\u001b[0;34m,\u001b[0m\u001b[0;36m20\u001b[0m\u001b[0;34m)\u001b[0m\u001b[0;34m\u001b[0m\u001b[0;34m\u001b[0m\u001b[0m\n\u001b[0;32m----> 2\u001b[0;31m \u001b[0mprint\u001b[0m\u001b[0;34m(\u001b[0m\u001b[0mz\u001b[0m\u001b[0;34m)\u001b[0m\u001b[0;34m\u001b[0m\u001b[0;34m\u001b[0m\u001b[0m\n\u001b[0m",
      "\u001b[0;31mNameError\u001b[0m: name 'z' is not defined"
     ]
    }
   ],
   "source": [
    "func6(10,20)\n",
    "print(z)"
   ]
  },
  {
   "cell_type": "markdown",
   "metadata": {},
   "source": [
    "### - Global variable"
   ]
  },
  {
   "cell_type": "code",
   "execution_count": 39,
   "metadata": {
    "ExecuteTime": {
     "end_time": "2021-10-18T15:10:54.993390Z",
     "start_time": "2021-10-18T15:10:54.989326Z"
    }
   },
   "outputs": [],
   "source": [
    "abc = 100"
   ]
  },
  {
   "cell_type": "code",
   "execution_count": 40,
   "metadata": {
    "ExecuteTime": {
     "end_time": "2021-10-18T15:10:55.006335Z",
     "start_time": "2021-10-18T15:10:55.001874Z"
    }
   },
   "outputs": [],
   "source": [
    "def func6(x,y):\n",
    "    z = x+y+abc\n",
    "    return(z)"
   ]
  },
  {
   "cell_type": "code",
   "execution_count": 41,
   "metadata": {
    "ExecuteTime": {
     "end_time": "2021-10-18T15:10:55.024991Z",
     "start_time": "2021-10-18T15:10:55.016948Z"
    }
   },
   "outputs": [
    {
     "data": {
      "text/plain": [
       "150"
      ]
     },
     "execution_count": 41,
     "metadata": {},
     "output_type": "execute_result"
    }
   ],
   "source": [
    "func6(10,40)"
   ]
  },
  {
   "cell_type": "code",
   "execution_count": 42,
   "metadata": {
    "ExecuteTime": {
     "end_time": "2021-10-18T15:10:55.038447Z",
     "start_time": "2021-10-18T15:10:55.034355Z"
    }
   },
   "outputs": [],
   "source": [
    "def func6(x,y):\n",
    "    global z\n",
    "    z = x+y+abc\n",
    "    return(z)"
   ]
  },
  {
   "cell_type": "code",
   "execution_count": 43,
   "metadata": {
    "ExecuteTime": {
     "end_time": "2021-10-18T15:10:55.052812Z",
     "start_time": "2021-10-18T15:10:55.043734Z"
    }
   },
   "outputs": [
    {
     "data": {
      "text/plain": [
       "130"
      ]
     },
     "execution_count": 43,
     "metadata": {},
     "output_type": "execute_result"
    }
   ],
   "source": [
    "func6(10,20)"
   ]
  },
  {
   "cell_type": "code",
   "execution_count": 44,
   "metadata": {
    "ExecuteTime": {
     "end_time": "2021-10-18T15:10:55.064806Z",
     "start_time": "2021-10-18T15:10:55.059294Z"
    }
   },
   "outputs": [
    {
     "name": "stdout",
     "output_type": "stream",
     "text": [
      "130\n"
     ]
    }
   ],
   "source": [
    "print(z)"
   ]
  },
  {
   "cell_type": "markdown",
   "metadata": {},
   "source": [
    "## Nested Functions"
   ]
  },
  {
   "cell_type": "code",
   "execution_count": 45,
   "metadata": {
    "ExecuteTime": {
     "end_time": "2021-10-18T15:10:55.076639Z",
     "start_time": "2021-10-18T15:10:55.069979Z"
    }
   },
   "outputs": [],
   "source": [
    "def func1(x,y):\n",
    "    z = x+y\n",
    "    print(z)\n",
    "    def func2_inside(a,b):\n",
    "        print(z)\n",
    "        c = a+b+z\n",
    "        print(c)\n",
    "    func2_inside(100,200)"
   ]
  },
  {
   "cell_type": "code",
   "execution_count": 46,
   "metadata": {
    "ExecuteTime": {
     "end_time": "2021-10-18T15:10:55.089793Z",
     "start_time": "2021-10-18T15:10:55.083132Z"
    }
   },
   "outputs": [
    {
     "name": "stdout",
     "output_type": "stream",
     "text": [
      "30\n",
      "30\n",
      "330\n"
     ]
    }
   ],
   "source": [
    "func1(10,20)"
   ]
  },
  {
   "cell_type": "code",
   "execution_count": 47,
   "metadata": {
    "ExecuteTime": {
     "end_time": "2021-10-18T15:10:55.100626Z",
     "start_time": "2021-10-18T15:10:55.094336Z"
    }
   },
   "outputs": [],
   "source": [
    "# func2_inside(10,20)"
   ]
  }
 ],
 "metadata": {
  "kernelspec": {
   "display_name": "Python 3 (ipykernel)",
   "language": "python",
   "name": "python3"
  },
  "language_info": {
   "codemirror_mode": {
    "name": "ipython",
    "version": 3
   },
   "file_extension": ".py",
   "mimetype": "text/x-python",
   "name": "python",
   "nbconvert_exporter": "python",
   "pygments_lexer": "ipython3",
   "version": "3.8.5"
  },
  "latex_envs": {
   "LaTeX_envs_menu_present": true,
   "autoclose": false,
   "autocomplete": true,
   "bibliofile": "biblio.bib",
   "cite_by": "apalike",
   "current_citInitial": 1,
   "eqLabelWithNumbers": true,
   "eqNumInitial": 1,
   "hotkeys": {
    "equation": "Ctrl-E",
    "itemize": "Ctrl-I"
   },
   "labels_anchors": false,
   "latex_user_defs": false,
   "report_style_numbering": false,
   "user_envs_cfg": false
  },
  "toc": {
   "base_numbering": 1,
   "nav_menu": {},
   "number_sections": true,
   "sideBar": true,
   "skip_h1_title": false,
   "title_cell": "Table of Contents",
   "title_sidebar": "Contents",
   "toc_cell": false,
   "toc_position": {
    "height": "calc(100% - 180px)",
    "left": "10px",
    "top": "150px",
    "width": "396.8px"
   },
   "toc_section_display": true,
   "toc_window_display": true
  },
  "varInspector": {
   "cols": {
    "lenName": 16,
    "lenType": 16,
    "lenVar": 40
   },
   "kernels_config": {
    "python": {
     "delete_cmd_postfix": "",
     "delete_cmd_prefix": "del ",
     "library": "var_list.py",
     "varRefreshCmd": "print(var_dic_list())"
    },
    "r": {
     "delete_cmd_postfix": ") ",
     "delete_cmd_prefix": "rm(",
     "library": "var_list.r",
     "varRefreshCmd": "cat(var_dic_list()) "
    }
   },
   "types_to_exclude": [
    "module",
    "function",
    "builtin_function_or_method",
    "instance",
    "_Feature"
   ],
   "window_display": false
  }
 },
 "nbformat": 4,
 "nbformat_minor": 2
}
