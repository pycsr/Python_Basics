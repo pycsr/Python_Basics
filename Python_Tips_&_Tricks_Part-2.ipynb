{
 "cells": [
  {
   "cell_type": "markdown",
   "id": "0e6fc671",
   "metadata": {},
   "source": [
    "# Python Tips and Tricks"
   ]
  },
  {
   "cell_type": "markdown",
   "id": "25c27738",
   "metadata": {},
   "source": [
    "## How to convert python code/file to assembly code"
   ]
  },
  {
   "cell_type": "code",
   "execution_count": 1,
   "id": "ed7b078b",
   "metadata": {
    "ExecuteTime": {
     "end_time": "2021-11-18T16:31:28.066779Z",
     "start_time": "2021-11-18T16:31:28.053006Z"
    }
   },
   "outputs": [
    {
     "data": {
      "text/plain": [
       "5"
      ]
     },
     "execution_count": 1,
     "metadata": {},
     "output_type": "execute_result"
    }
   ],
   "source": [
    "def func():\n",
    "    a = 2\n",
    "    b = 3\n",
    "    c = a+b\n",
    "    return c\n",
    "func()"
   ]
  },
  {
   "cell_type": "code",
   "execution_count": 2,
   "id": "e0a99181",
   "metadata": {
    "ExecuteTime": {
     "end_time": "2021-11-18T16:31:28.087511Z",
     "start_time": "2021-11-18T16:31:28.077934Z"
    }
   },
   "outputs": [
    {
     "name": "stdout",
     "output_type": "stream",
     "text": [
      "  2           0 LOAD_CONST               1 (2)\n",
      "              2 STORE_FAST               0 (a)\n",
      "\n",
      "  3           4 LOAD_CONST               2 (3)\n",
      "              6 STORE_FAST               1 (b)\n",
      "\n",
      "  4           8 LOAD_FAST                0 (a)\n",
      "             10 LOAD_FAST                1 (b)\n",
      "             12 BINARY_ADD\n",
      "             14 STORE_FAST               2 (c)\n",
      "\n",
      "  5          16 LOAD_FAST                2 (c)\n",
      "             18 RETURN_VALUE\n"
     ]
    }
   ],
   "source": [
    "import dis\n",
    "dis.dis(func)"
   ]
  },
  {
   "cell_type": "code",
   "execution_count": 3,
   "id": "240fd6a2",
   "metadata": {
    "ExecuteTime": {
     "end_time": "2021-11-18T16:31:28.103663Z",
     "start_time": "2021-11-18T16:31:28.095553Z"
    }
   },
   "outputs": [],
   "source": [
    "# !ls -al"
   ]
  },
  {
   "cell_type": "code",
   "execution_count": 4,
   "id": "6056ebca",
   "metadata": {
    "ExecuteTime": {
     "end_time": "2021-11-18T16:31:28.505438Z",
     "start_time": "2021-11-18T16:31:28.111180Z"
    }
   },
   "outputs": [
    {
     "name": "stdout",
     "output_type": "stream",
     "text": [
      "  1           0 LOAD_CONST               0 (0)\r\n",
      "              2 LOAD_CONST               1 (None)\r\n",
      "              4 IMPORT_NAME              0 (sys)\r\n",
      "              6 STORE_NAME               0 (sys)\r\n",
      "\r\n",
      "  2           8 LOAD_NAME                1 (print)\r\n",
      "             10 LOAD_NAME                0 (sys)\r\n",
      "             12 LOAD_ATTR                2 (argv)\r\n",
      "             14 CALL_FUNCTION            1\r\n",
      "             16 POP_TOP\r\n",
      "\r\n",
      "  3          18 LOAD_NAME                1 (print)\r\n",
      "             20 LOAD_NAME                0 (sys)\r\n",
      "             22 LOAD_ATTR                2 (argv)\r\n",
      "             24 LOAD_CONST               0 (0)\r\n",
      "             26 BINARY_SUBSCR\r\n",
      "             28 CALL_FUNCTION            1\r\n",
      "             30 POP_TOP\r\n",
      "\r\n",
      "  4          32 LOAD_NAME                1 (print)\r\n",
      "             34 LOAD_NAME                0 (sys)\r\n",
      "             36 LOAD_ATTR                2 (argv)\r\n",
      "             38 LOAD_CONST               2 (1)\r\n",
      "             40 LOAD_CONST               1 (None)\r\n",
      "             42 BUILD_SLICE              2\r\n",
      "             44 BINARY_SUBSCR\r\n",
      "             46 CALL_FUNCTION            1\r\n",
      "             48 POP_TOP\r\n",
      "\r\n",
      "  6          50 LOAD_CONST               3 (<code object func at 0x10d5cb870, file \"dis_test.py\", line 6>)\r\n",
      "             52 LOAD_CONST               4 ('func')\r\n",
      "             54 MAKE_FUNCTION            0\r\n",
      "             56 STORE_NAME               3 (func)\r\n",
      "\r\n",
      " 11          58 LOAD_NAME                3 (func)\r\n",
      "             60 CALL_FUNCTION            0\r\n",
      "             62 POP_TOP\r\n",
      "             64 LOAD_CONST               1 (None)\r\n",
      "             66 RETURN_VALUE\r\n",
      "\r\n",
      "Disassembly of <code object func at 0x10d5cb870, file \"dis_test.py\", line 6>:\r\n",
      "  7           0 LOAD_CONST               1 (2)\r\n",
      "              2 STORE_FAST               0 (a)\r\n",
      "\r\n",
      "  8           4 LOAD_CONST               2 (3)\r\n",
      "              6 STORE_FAST               1 (b)\r\n",
      "\r\n",
      "  9           8 LOAD_FAST                0 (a)\r\n",
      "             10 LOAD_FAST                1 (b)\r\n",
      "             12 BINARY_ADD\r\n",
      "             14 STORE_FAST               2 (c)\r\n",
      "\r\n",
      " 10          16 LOAD_FAST                2 (c)\r\n",
      "             18 RETURN_VALUE\r\n"
     ]
    }
   ],
   "source": [
    "!python3.9 -m dis dis_test.py"
   ]
  },
  {
   "cell_type": "markdown",
   "id": "b66220c3",
   "metadata": {},
   "source": [
    "## How to handle command line argument `using argv`"
   ]
  },
  {
   "cell_type": "code",
   "execution_count": 5,
   "id": "30264300",
   "metadata": {
    "ExecuteTime": {
     "end_time": "2021-11-18T16:31:28.519651Z",
     "start_time": "2021-11-18T16:31:28.511189Z"
    }
   },
   "outputs": [],
   "source": [
    "# argv = <file_name>,<all parameter which is passed in comand line>"
   ]
  },
  {
   "cell_type": "code",
   "execution_count": 6,
   "id": "daa17bc2",
   "metadata": {
    "ExecuteTime": {
     "end_time": "2021-11-18T16:31:28.907057Z",
     "start_time": "2021-11-18T16:31:28.525540Z"
    }
   },
   "outputs": [
    {
     "name": "stdout",
     "output_type": "stream",
     "text": [
      "['dis_test.py']\r\n",
      "dis_test.py\r\n",
      "[]\r\n"
     ]
    }
   ],
   "source": [
    "!python3.9 dis_test.py"
   ]
  },
  {
   "cell_type": "code",
   "execution_count": 7,
   "id": "ff58e7a4",
   "metadata": {
    "ExecuteTime": {
     "end_time": "2021-11-18T16:31:29.298276Z",
     "start_time": "2021-11-18T16:31:28.914758Z"
    }
   },
   "outputs": [
    {
     "name": "stdout",
     "output_type": "stream",
     "text": [
      "['dis_test.py', '0', '1', 'abc', '234']\r\n",
      "dis_test.py\r\n",
      "['0', '1', 'abc', '234']\r\n"
     ]
    }
   ],
   "source": [
    "!python3.9 dis_test.py 0 1 \"abc\" 234"
   ]
  },
  {
   "cell_type": "markdown",
   "id": "ff8c822b",
   "metadata": {},
   "source": [
    "## Do we have tuple comprehension??"
   ]
  },
  {
   "cell_type": "code",
   "execution_count": 8,
   "id": "e894da95",
   "metadata": {
    "ExecuteTime": {
     "end_time": "2021-11-18T16:31:29.337097Z",
     "start_time": "2021-11-18T16:31:29.316859Z"
    }
   },
   "outputs": [
    {
     "data": {
      "text/plain": [
       "[0, 1, 2, 3, 4]"
      ]
     },
     "execution_count": 8,
     "metadata": {},
     "output_type": "execute_result"
    }
   ],
   "source": [
    "a = [i for i in range(5)]\n",
    "a"
   ]
  },
  {
   "cell_type": "code",
   "execution_count": 9,
   "id": "c3ccf847",
   "metadata": {
    "ExecuteTime": {
     "end_time": "2021-11-18T16:31:29.363954Z",
     "start_time": "2021-11-18T16:31:29.344019Z"
    }
   },
   "outputs": [
    {
     "data": {
      "text/plain": [
       "{0: 0, 1: 1, 2: 4, 3: 9, 4: 16}"
      ]
     },
     "execution_count": 9,
     "metadata": {},
     "output_type": "execute_result"
    }
   ],
   "source": [
    "a = {i:i**2 for i in range(5)}\n",
    "a"
   ]
  },
  {
   "cell_type": "code",
   "execution_count": 10,
   "id": "2d48e4b1",
   "metadata": {
    "ExecuteTime": {
     "end_time": "2021-11-18T16:31:29.387895Z",
     "start_time": "2021-11-18T16:31:29.372171Z"
    }
   },
   "outputs": [
    {
     "data": {
      "text/plain": [
       "<generator object <genexpr> at 0x7fb707e4c970>"
      ]
     },
     "execution_count": 10,
     "metadata": {},
     "output_type": "execute_result"
    }
   ],
   "source": [
    "a = (i for i in range(5))\n",
    "a"
   ]
  },
  {
   "cell_type": "code",
   "execution_count": 11,
   "id": "187429ab",
   "metadata": {
    "ExecuteTime": {
     "end_time": "2021-11-18T16:31:29.412027Z",
     "start_time": "2021-11-18T16:31:29.397215Z"
    }
   },
   "outputs": [
    {
     "data": {
      "text/plain": [
       "[0, 1, 2, 3, 4]"
      ]
     },
     "execution_count": 11,
     "metadata": {},
     "output_type": "execute_result"
    }
   ],
   "source": [
    "list(a)"
   ]
  },
  {
   "cell_type": "markdown",
   "id": "f3ece727",
   "metadata": {},
   "source": [
    "## How to install 3rd party module"
   ]
  },
  {
   "cell_type": "code",
   "execution_count": 12,
   "id": "5f9c8679",
   "metadata": {
    "ExecuteTime": {
     "end_time": "2021-11-18T16:31:32.461611Z",
     "start_time": "2021-11-18T16:31:29.422138Z"
    }
   },
   "outputs": [
    {
     "name": "stdout",
     "output_type": "stream",
     "text": [
      "\u001b[33mDEPRECATION: Configuring installation scheme with distutils config files is deprecated and will no longer work in the near future. If you are using a Homebrew or Linuxbrew Python, please see discussion at https://github.com/Homebrew/homebrew-core/issues/76621\u001b[0m\r\n",
      "Requirement already satisfied: xlrd in /usr/local/lib/python3.9/site-packages (2.0.1)\r\n"
     ]
    }
   ],
   "source": [
    "!pip3 install xlrd"
   ]
  },
  {
   "cell_type": "code",
   "execution_count": 13,
   "id": "3d8ce440",
   "metadata": {
    "ExecuteTime": {
     "end_time": "2021-11-18T16:31:32.475818Z",
     "start_time": "2021-11-18T16:31:32.469029Z"
    }
   },
   "outputs": [],
   "source": [
    "# or\n",
    "# !easy_install xlrd"
   ]
  },
  {
   "cell_type": "markdown",
   "id": "62e3e07e",
   "metadata": {},
   "source": [
    "## use of input()"
   ]
  },
  {
   "cell_type": "code",
   "execution_count": 14,
   "id": "c061e0ac",
   "metadata": {
    "ExecuteTime": {
     "end_time": "2021-11-18T16:31:39.906719Z",
     "start_time": "2021-11-18T16:31:32.481909Z"
    }
   },
   "outputs": [
    {
     "name": "stdout",
     "output_type": "stream",
     "text": [
      "Enter a number... 10\n",
      "<class 'str'>\n",
      "<class 'int'>\n",
      "10\n",
      "10\n"
     ]
    }
   ],
   "source": [
    "a = input(\"Enter a number... \")\n",
    "print(type(a))\n",
    "b = int(a)\n",
    "print(type(b))\n",
    "print(a)\n",
    "print(b)"
   ]
  },
  {
   "cell_type": "markdown",
   "id": "fd182e35",
   "metadata": {},
   "source": [
    "## Using `enumerate` in loops"
   ]
  },
  {
   "cell_type": "code",
   "execution_count": 15,
   "id": "bf76d808",
   "metadata": {
    "ExecuteTime": {
     "end_time": "2021-11-18T16:31:39.918738Z",
     "start_time": "2021-11-18T16:31:39.911557Z"
    }
   },
   "outputs": [
    {
     "name": "stdout",
     "output_type": "stream",
     "text": [
      "1\n",
      "2\n",
      "3\n",
      "4\n",
      "5\n"
     ]
    }
   ],
   "source": [
    "a = [1,2,3,4,5]\n",
    "for i in a:\n",
    "    print(i)"
   ]
  },
  {
   "cell_type": "code",
   "execution_count": 16,
   "id": "d27a2412",
   "metadata": {
    "ExecuteTime": {
     "end_time": "2021-11-18T16:31:39.929736Z",
     "start_time": "2021-11-18T16:31:39.922429Z"
    }
   },
   "outputs": [
    {
     "name": "stdout",
     "output_type": "stream",
     "text": [
      "idx 0 val 1\n",
      "idx 1 val 2\n",
      "idx 2 val 3\n",
      "idx 3 val 4\n",
      "idx 4 val 5\n"
     ]
    }
   ],
   "source": [
    "a = [1,2,3,4,5]\n",
    "for idx,val in enumerate(a):\n",
    "    print(\"idx {} val {}\".format(idx,val))"
   ]
  },
  {
   "cell_type": "code",
   "execution_count": 17,
   "id": "9c427268",
   "metadata": {
    "ExecuteTime": {
     "end_time": "2021-11-18T16:31:39.941897Z",
     "start_time": "2021-11-18T16:31:39.934482Z"
    }
   },
   "outputs": [
    {
     "name": "stdout",
     "output_type": "stream",
     "text": [
      "idx 10 val 1\n",
      "idx 11 val 2\n",
      "idx 12 val 3\n",
      "idx 13 val 4\n",
      "idx 14 val 5\n"
     ]
    }
   ],
   "source": [
    "a = [1,2,3,4,5]\n",
    "for idx,val in enumerate(a,start=10):\n",
    "    print(\"idx {} val {}\".format(idx,val))"
   ]
  },
  {
   "cell_type": "markdown",
   "id": "46ba9375",
   "metadata": {},
   "source": [
    "## Difference between functions and methods"
   ]
  },
  {
   "cell_type": "markdown",
   "id": "760683e4",
   "metadata": {},
   "source": [
    "## `Pass by Value`, `Pass by reference` and `pass by object reference` in Python"
   ]
  },
  {
   "cell_type": "code",
   "execution_count": 18,
   "id": "c6a5d71e",
   "metadata": {
    "ExecuteTime": {
     "end_time": "2021-11-18T16:31:39.955774Z",
     "start_time": "2021-11-18T16:31:39.947219Z"
    }
   },
   "outputs": [
    {
     "name": "stdout",
     "output_type": "stream",
     "text": [
      "before [1, 2, 3]\n",
      "after [1, 2, 3, 10]\n"
     ]
    }
   ],
   "source": [
    "def mod_list(ip):\n",
    "    c = ip.append(10)\n",
    "    \n",
    "a = [1,2,3]\n",
    "print(\"before\",a)\n",
    "mod_list(a)\n",
    "print(\"after\",a)"
   ]
  },
  {
   "cell_type": "code",
   "execution_count": 19,
   "id": "0df9d2b0",
   "metadata": {
    "ExecuteTime": {
     "end_time": "2021-11-18T16:31:39.970264Z",
     "start_time": "2021-11-18T16:31:39.960300Z"
    }
   },
   "outputs": [
    {
     "name": "stdout",
     "output_type": "stream",
     "text": [
      "before [1, 2, 3]\n",
      "[1, 2, 3, 10]\n",
      "after [1, 2, 3]\n"
     ]
    }
   ],
   "source": [
    "def mod_list(ip):\n",
    "    c = ip[:]\n",
    "    c.append(10)\n",
    "    print(c)\n",
    "    \n",
    "a = [1,2,3]\n",
    "print(\"before\",a)\n",
    "mod_list(a)\n",
    "print(\"after\",a)"
   ]
  },
  {
   "cell_type": "code",
   "execution_count": 20,
   "id": "3cd8f68d",
   "metadata": {
    "ExecuteTime": {
     "end_time": "2021-11-18T16:31:39.986861Z",
     "start_time": "2021-11-18T16:31:39.977856Z"
    }
   },
   "outputs": [
    {
     "name": "stdout",
     "output_type": "stream",
     "text": [
      "before [1, 2, 3]\n",
      "after [1, 2, 3, 10]\n"
     ]
    }
   ],
   "source": [
    "def mod_list(ip):\n",
    "    c = ip.append(10)\n",
    "    \n",
    "a = [1,2,3]\n",
    "print(\"before\",a)\n",
    "mod_list(a)\n",
    "print(\"after\",a)"
   ]
  },
  {
   "cell_type": "markdown",
   "id": "0c10ac45",
   "metadata": {},
   "source": [
    "## How to use Packing and Unpacking operators `*` and `**` while calling function"
   ]
  },
  {
   "cell_type": "code",
   "execution_count": 21,
   "id": "5c27646b",
   "metadata": {
    "ExecuteTime": {
     "end_time": "2021-11-18T16:31:40.000756Z",
     "start_time": "2021-11-18T16:31:39.992576Z"
    }
   },
   "outputs": [
    {
     "name": "stdout",
     "output_type": "stream",
     "text": [
      "(3, 4, 5)\n"
     ]
    }
   ],
   "source": [
    "def func2(a,b,*arg):\n",
    "    print(arg)\n",
    "func2(1,2,3,4,5)"
   ]
  },
  {
   "cell_type": "code",
   "execution_count": 22,
   "id": "0b2ab39c",
   "metadata": {
    "ExecuteTime": {
     "end_time": "2021-11-18T16:31:40.017918Z",
     "start_time": "2021-11-18T16:31:40.006257Z"
    }
   },
   "outputs": [
    {
     "name": "stdout",
     "output_type": "stream",
     "text": [
      "{'x': 10, 'y': 20}\n"
     ]
    }
   ],
   "source": [
    "def func2(a,b,**kwarg):\n",
    "    print(kwarg)\n",
    "func2(1,2,x=10,y=20)"
   ]
  },
  {
   "cell_type": "code",
   "execution_count": 23,
   "id": "b9b31ac0",
   "metadata": {
    "ExecuteTime": {
     "end_time": "2021-11-18T16:31:40.034353Z",
     "start_time": "2021-11-18T16:31:40.024751Z"
    }
   },
   "outputs": [
    {
     "name": "stdout",
     "output_type": "stream",
     "text": [
      "6\n"
     ]
    }
   ],
   "source": [
    "def func2(a,b,c):\n",
    "    print(a+b+c)\n",
    "x = [1,2,3]\n",
    "func2(*x)"
   ]
  },
  {
   "cell_type": "code",
   "execution_count": 24,
   "id": "8c978dd8",
   "metadata": {
    "ExecuteTime": {
     "end_time": "2021-11-18T16:31:40.053185Z",
     "start_time": "2021-11-18T16:31:40.040611Z"
    }
   },
   "outputs": [
    {
     "name": "stdout",
     "output_type": "stream",
     "text": [
      "60\n"
     ]
    }
   ],
   "source": [
    "def func2(a,b,c):\n",
    "    print(a+b+c)\n",
    "x = {\"a\":10,\"b\":20,\"c\":30}\n",
    "func2(**x)"
   ]
  },
  {
   "cell_type": "markdown",
   "id": "ee1f4a42",
   "metadata": {
    "ExecuteTime": {
     "end_time": "2021-11-02T03:24:46.481947Z",
     "start_time": "2021-11-02T03:24:46.477783Z"
    }
   },
   "source": [
    "## Merging dictionary using `**` operator"
   ]
  },
  {
   "cell_type": "code",
   "execution_count": 25,
   "id": "6fe044db",
   "metadata": {
    "ExecuteTime": {
     "end_time": "2021-11-18T16:31:40.066475Z",
     "start_time": "2021-11-18T16:31:40.058342Z"
    }
   },
   "outputs": [
    {
     "name": "stdout",
     "output_type": "stream",
     "text": [
      "{'A': 10}\n",
      "{'A': 10, 'B': 20}\n"
     ]
    }
   ],
   "source": [
    "a = {\"A\":10}\n",
    "b = {\"B\":20}\n",
    "print(a)\n",
    "a.update(b)\n",
    "print(a)"
   ]
  },
  {
   "cell_type": "code",
   "execution_count": 26,
   "id": "f39c3713",
   "metadata": {
    "ExecuteTime": {
     "end_time": "2021-11-18T16:31:40.095318Z",
     "start_time": "2021-11-18T16:31:40.087826Z"
    }
   },
   "outputs": [
    {
     "name": "stdout",
     "output_type": "stream",
     "text": [
      "{'A': 10, 'B': 20, 'X': 100}\n"
     ]
    }
   ],
   "source": [
    "a = {\"A\":10}\n",
    "b = {\"B\":20}\n",
    "x = {\"X\":100}\n",
    "c = {**a,**b,**x}\n",
    "print(c)"
   ]
  },
  {
   "cell_type": "markdown",
   "id": "6292bf5f",
   "metadata": {},
   "source": [
    "## How to use variable inside regular expression Pattern"
   ]
  },
  {
   "cell_type": "code",
   "execution_count": 27,
   "id": "b1d86ccc",
   "metadata": {
    "ExecuteTime": {
     "end_time": "2021-11-18T16:31:40.107692Z",
     "start_time": "2021-11-18T16:31:40.099659Z"
    }
   },
   "outputs": [
    {
     "name": "stdout",
     "output_type": "stream",
     "text": [
      "<re.Match object; span=(8, 13), match='abcde'>\n"
     ]
    }
   ],
   "source": [
    "import re\n",
    "a = \"This is abcde\"\n",
    "so = re.search(\"abcde\",a)\n",
    "print(so)"
   ]
  },
  {
   "cell_type": "code",
   "execution_count": 28,
   "id": "155f4722",
   "metadata": {
    "ExecuteTime": {
     "end_time": "2021-11-18T16:31:40.120801Z",
     "start_time": "2021-11-18T16:31:40.111849Z"
    }
   },
   "outputs": [
    {
     "name": "stdout",
     "output_type": "stream",
     "text": [
      "<re.Match object; span=(8, 13), match='abcde'>\n",
      "<re.Match object; span=(14, 19), match='abcdf'>\n",
      "<re.Match object; span=(20, 25), match='abcdg'>\n"
     ]
    }
   ],
   "source": [
    "import re\n",
    "a = \"This is abcde abcdf abcdg abcdh\"\n",
    "for char in \"efg\":\n",
    "    so = re.search(\"abcd{}\".format(char),a)\n",
    "    print(so)"
   ]
  },
  {
   "cell_type": "markdown",
   "id": "a209ab02",
   "metadata": {},
   "source": [
    "## How to use `,` for large number formatting"
   ]
  },
  {
   "cell_type": "code",
   "execution_count": 29,
   "id": "366f196c",
   "metadata": {
    "ExecuteTime": {
     "end_time": "2021-11-18T16:31:40.131102Z",
     "start_time": "2021-11-18T16:31:40.124612Z"
    }
   },
   "outputs": [
    {
     "name": "stdout",
     "output_type": "stream",
     "text": [
      "10,000,000,000\n"
     ]
    }
   ],
   "source": [
    "a = 10000000000\n",
    "print(\"{:,}\".format(a))"
   ]
  },
  {
   "cell_type": "markdown",
   "id": "e856261a",
   "metadata": {},
   "source": [
    "## How to get secured input password from user using `getpass` module"
   ]
  },
  {
   "cell_type": "code",
   "execution_count": 30,
   "id": "8d8b2c5c",
   "metadata": {
    "ExecuteTime": {
     "end_time": "2021-11-18T16:31:44.357591Z",
     "start_time": "2021-11-18T16:31:40.135927Z"
    }
   },
   "outputs": [
    {
     "name": "stdout",
     "output_type": "stream",
     "text": [
      "Enter password.. pankaj\n"
     ]
    }
   ],
   "source": [
    "passwd = input(\"Enter password.. \")"
   ]
  },
  {
   "cell_type": "code",
   "execution_count": 31,
   "id": "d6f2915e",
   "metadata": {
    "ExecuteTime": {
     "end_time": "2021-11-18T16:31:44.365446Z",
     "start_time": "2021-11-18T16:31:44.361116Z"
    }
   },
   "outputs": [],
   "source": [
    "import getpass"
   ]
  },
  {
   "cell_type": "code",
   "execution_count": 32,
   "id": "8fbe9ae3",
   "metadata": {
    "ExecuteTime": {
     "end_time": "2021-11-18T16:31:46.269631Z",
     "start_time": "2021-11-18T16:31:44.369637Z"
    }
   },
   "outputs": [
    {
     "name": "stdout",
     "output_type": "stream",
     "text": [
      "Enter password.. ········\n"
     ]
    },
    {
     "data": {
      "text/plain": [
       "'pankaj'"
      ]
     },
     "execution_count": 32,
     "metadata": {},
     "output_type": "execute_result"
    }
   ],
   "source": [
    "getpass.getpass(\"Enter password.. \")"
   ]
  },
  {
   "cell_type": "markdown",
   "id": "773496df",
   "metadata": {},
   "source": [
    "## How to print data in same line"
   ]
  },
  {
   "cell_type": "code",
   "execution_count": 33,
   "id": "329d5e80",
   "metadata": {
    "ExecuteTime": {
     "end_time": "2021-11-18T16:31:46.279329Z",
     "start_time": "2021-11-18T16:31:46.273362Z"
    }
   },
   "outputs": [
    {
     "name": "stdout",
     "output_type": "stream",
     "text": [
      "0\n",
      "1\n",
      "2\n",
      "3\n",
      "4\n"
     ]
    }
   ],
   "source": [
    "for i in range(5):\n",
    "    print(i)"
   ]
  },
  {
   "cell_type": "code",
   "execution_count": 34,
   "id": "7efd5097",
   "metadata": {
    "ExecuteTime": {
     "end_time": "2021-11-18T16:31:46.294178Z",
     "start_time": "2021-11-18T16:31:46.284462Z"
    }
   },
   "outputs": [
    {
     "name": "stdout",
     "output_type": "stream",
     "text": [
      "0,1,2,3,4,"
     ]
    }
   ],
   "source": [
    "for i in range(5):\n",
    "    print(i,end=\",\")"
   ]
  },
  {
   "cell_type": "code",
   "execution_count": 35,
   "id": "9042c3f6",
   "metadata": {
    "ExecuteTime": {
     "end_time": "2021-11-18T16:31:46.305905Z",
     "start_time": "2021-11-18T16:31:46.299580Z"
    }
   },
   "outputs": [
    {
     "name": "stdout",
     "output_type": "stream",
     "text": [
      "0#1#2#3#4#"
     ]
    }
   ],
   "source": [
    "for i in range(5):\n",
    "    print(i,end=\"#\")"
   ]
  },
  {
   "cell_type": "code",
   "execution_count": 36,
   "id": "c0dad501",
   "metadata": {
    "ExecuteTime": {
     "end_time": "2021-11-18T16:31:46.314597Z",
     "start_time": "2021-11-18T16:31:46.308670Z"
    }
   },
   "outputs": [
    {
     "name": "stdout",
     "output_type": "stream",
     "text": [
      "0 1 2 3 4 "
     ]
    }
   ],
   "source": [
    "for i in range(5):\n",
    "    print(i,end=\" \")"
   ]
  },
  {
   "cell_type": "markdown",
   "id": "f632fbe1",
   "metadata": {},
   "source": [
    "## How to compile python file"
   ]
  },
  {
   "cell_type": "code",
   "execution_count": 37,
   "id": "f728a027",
   "metadata": {
    "ExecuteTime": {
     "end_time": "2021-11-18T16:31:46.631300Z",
     "start_time": "2021-11-18T16:31:46.320487Z"
    }
   },
   "outputs": [],
   "source": [
    "!python3.9 -m compileall dis_test.py"
   ]
  },
  {
   "cell_type": "code",
   "execution_count": 38,
   "id": "2d95d936",
   "metadata": {
    "ExecuteTime": {
     "end_time": "2021-11-18T16:31:46.818832Z",
     "start_time": "2021-11-18T16:31:46.635827Z"
    }
   },
   "outputs": [
    {
     "name": "stdout",
     "output_type": "stream",
     "text": [
      "total 56\r\n",
      "drwxr-xr-x   9 pankajkumarsoni  staff   288 Nov 18 21:45 \u001b[34m.\u001b[m\u001b[m\r\n",
      "drwxr-xr-x@ 51 pankajkumarsoni  staff  1632 Nov 18 22:01 \u001b[34m..\u001b[m\u001b[m\r\n",
      "-rw-r--r--   1 pankajkumarsoni  staff   864 Nov 17 22:27 Log_Module_test.cpython-38.pyc\r\n",
      "-rw-r--r--   1 pankajkumarsoni  staff   834 Nov 17 15:33 Module_test.cpython-38.pyc\r\n",
      "-rw-r--r--   1 pankajkumarsoni  staff   217 Nov  3 09:30 Module_test.cpython-39.pyc\r\n",
      "-rw-r--r--   1 pankajkumarsoni  staff   217 Nov  3 09:32 Test1.cpython-39.pyc\r\n",
      "-rw-r--r--   1 pankajkumarsoni  staff   328 Nov 18 21:45 dis_test.cpython-39.pyc\r\n",
      "-rw-r--r--   1 pankajkumarsoni  staff   771 Oct 26 20:54 module1.cpython-38.pyc\r\n",
      "-rw-r--r--   1 pankajkumarsoni  staff   771 Nov  3 09:30 module1.cpython-39.pyc\r\n"
     ]
    }
   ],
   "source": [
    "!ls -al ./__pycache__"
   ]
  },
  {
   "cell_type": "code",
   "execution_count": 39,
   "id": "fb642cf7",
   "metadata": {
    "ExecuteTime": {
     "end_time": "2021-11-18T16:31:47.085563Z",
     "start_time": "2021-11-18T16:31:46.823212Z"
    }
   },
   "outputs": [
    {
     "name": "stdout",
     "output_type": "stream",
     "text": [
      "['./__pycache__/dis_test.cpython-39.pyc']\r\n",
      "./__pycache__/dis_test.cpython-39.pyc\r\n",
      "[]\r\n"
     ]
    }
   ],
   "source": [
    "!python3.9 ./__pycache__/dis_test.cpython-39.pyc"
   ]
  },
  {
   "cell_type": "code",
   "execution_count": 40,
   "id": "df0c0183",
   "metadata": {
    "ExecuteTime": {
     "end_time": "2021-11-18T16:31:47.370196Z",
     "start_time": "2021-11-18T16:31:47.091140Z"
    }
   },
   "outputs": [
    {
     "name": "stdout",
     "output_type": "stream",
     "text": [
      "['./__pycache__/dis_test.cpython-39.pyc', '1', '2', '3', '4']\r\n",
      "./__pycache__/dis_test.cpython-39.pyc\r\n",
      "['1', '2', '3', '4']\r\n"
     ]
    }
   ],
   "source": [
    "!python3.9 ./__pycache__/dis_test.cpython-39.pyc 1 2 3 4"
   ]
  },
  {
   "cell_type": "markdown",
   "id": "9060328c",
   "metadata": {},
   "source": [
    "## How to use struct Module"
   ]
  },
  {
   "cell_type": "code",
   "execution_count": 41,
   "id": "036ed8ba",
   "metadata": {
    "ExecuteTime": {
     "end_time": "2021-11-18T16:31:47.380958Z",
     "start_time": "2021-11-18T16:31:47.374470Z"
    }
   },
   "outputs": [],
   "source": [
    "import struct as st"
   ]
  },
  {
   "cell_type": "markdown",
   "id": "c486f6af",
   "metadata": {},
   "source": [
    "### Various Formatting Characters"
   ]
  },
  {
   "cell_type": "code",
   "execution_count": 42,
   "id": "7059b086",
   "metadata": {
    "ExecuteTime": {
     "end_time": "2021-11-18T16:31:47.391786Z",
     "start_time": "2021-11-18T16:31:47.385323Z"
    }
   },
   "outputs": [],
   "source": [
    "# see this https://docs.python.org/3/library/struct.html"
   ]
  },
  {
   "cell_type": "markdown",
   "id": "e54fbd0d",
   "metadata": {
    "ExecuteTime": {
     "end_time": "2021-11-18T14:48:13.919337Z",
     "start_time": "2021-11-18T14:48:13.912008Z"
    }
   },
   "source": [
    "### - pack"
   ]
  },
  {
   "cell_type": "code",
   "execution_count": 43,
   "id": "f6871772",
   "metadata": {
    "ExecuteTime": {
     "end_time": "2021-11-18T16:31:47.404139Z",
     "start_time": "2021-11-18T16:31:47.396289Z"
    }
   },
   "outputs": [
    {
     "name": "stdout",
     "output_type": "stream",
     "text": [
      "b'\\n\\x00\\x00\\x00\\x14\\x00\\x00\\x00\\x1e\\x00\\x00\\x00\\x00\\x00\\x00\\x00'\n"
     ]
    }
   ],
   "source": [
    "pack = st.pack(\"iil\",10,20,30)\n",
    "print(pack)"
   ]
  },
  {
   "cell_type": "code",
   "execution_count": 44,
   "id": "a33a7fa4",
   "metadata": {
    "ExecuteTime": {
     "end_time": "2021-11-18T16:31:47.416859Z",
     "start_time": "2021-11-18T16:31:47.409540Z"
    }
   },
   "outputs": [
    {
     "name": "stdout",
     "output_type": "stream",
     "text": [
      "b'\\n\\x00\\x00\\x00\\x14\\x00\\x00\\x00\\x1e\\x00\\x00\\x00\\x00\\x00\\x00\\x00'\n"
     ]
    }
   ],
   "source": [
    "pack = st.pack(\"@iil\",10,20,30)\n",
    "print(pack)"
   ]
  },
  {
   "cell_type": "code",
   "execution_count": 45,
   "id": "11ae6010",
   "metadata": {
    "ExecuteTime": {
     "end_time": "2021-11-18T16:31:47.430340Z",
     "start_time": "2021-11-18T16:31:47.422363Z"
    }
   },
   "outputs": [
    {
     "name": "stdout",
     "output_type": "stream",
     "text": [
      "b'\\n\\x00\\x00\\x00\\x14\\x00\\x00\\x00\\x1e\\x00\\x00\\x00'\n"
     ]
    }
   ],
   "source": [
    "pack = st.pack(\"<iil\",10,20,30)\n",
    "print(pack)"
   ]
  },
  {
   "cell_type": "code",
   "execution_count": 46,
   "id": "ee45cdc8",
   "metadata": {
    "ExecuteTime": {
     "end_time": "2021-11-18T16:31:47.440416Z",
     "start_time": "2021-11-18T16:31:47.433882Z"
    }
   },
   "outputs": [
    {
     "name": "stdout",
     "output_type": "stream",
     "text": [
      "b'\\x00\\x00\\x00\\n\\x00\\x00\\x00\\x14\\x00\\x00\\x00\\x1e'\n"
     ]
    }
   ],
   "source": [
    "pack = st.pack(\">iil\",10,20,30)\n",
    "print(pack)"
   ]
  },
  {
   "cell_type": "code",
   "execution_count": 47,
   "id": "55ce7cac",
   "metadata": {
    "ExecuteTime": {
     "end_time": "2021-11-18T16:31:47.453440Z",
     "start_time": "2021-11-18T16:31:47.446108Z"
    }
   },
   "outputs": [
    {
     "name": "stdout",
     "output_type": "stream",
     "text": [
      "b'\\x00\\x00\\x00\\n\\x00\\x00\\x00\\x14\\x00\\x00\\x00\\x1e'\n"
     ]
    }
   ],
   "source": [
    "pack = st.pack(\"!iil\",10,20,30)\n",
    "print(pack)"
   ]
  },
  {
   "cell_type": "code",
   "execution_count": 48,
   "id": "53a32f60",
   "metadata": {
    "ExecuteTime": {
     "end_time": "2021-11-18T16:31:47.466191Z",
     "start_time": "2021-11-18T16:31:47.459059Z"
    }
   },
   "outputs": [
    {
     "name": "stdout",
     "output_type": "stream",
     "text": [
      "b'\\n\\x00\\x00\\x00P\\x00\\x00\\x00\\x1e\\x00\\x00\\x00\\x00\\x00\\x00\\x00'\n"
     ]
    }
   ],
   "source": [
    "pack = st.pack(\"icl\",10,b\"P\",30)\n",
    "print(pack)"
   ]
  },
  {
   "cell_type": "code",
   "execution_count": 49,
   "id": "7af7bb6b",
   "metadata": {
    "ExecuteTime": {
     "end_time": "2021-11-18T16:31:47.475949Z",
     "start_time": "2021-11-18T16:31:47.470324Z"
    }
   },
   "outputs": [
    {
     "name": "stdout",
     "output_type": "stream",
     "text": [
      "b'\\n\\x00\\x00\\x00P\\x00\\x00\\x00\\x1e\\x00\\x00\\x00\\x00\\x00\\x00\\x00'\n"
     ]
    }
   ],
   "source": [
    "pack = st.pack(\"isl\",10,b\"PyCSR\",30)\n",
    "print(pack)"
   ]
  },
  {
   "cell_type": "markdown",
   "id": "6c9f8b92",
   "metadata": {
    "ExecuteTime": {
     "end_time": "2021-11-18T14:48:13.919337Z",
     "start_time": "2021-11-18T14:48:13.912008Z"
    }
   },
   "source": [
    "### - unpack"
   ]
  },
  {
   "cell_type": "code",
   "execution_count": 50,
   "id": "95f73c7f",
   "metadata": {
    "ExecuteTime": {
     "end_time": "2021-11-18T16:31:47.487890Z",
     "start_time": "2021-11-18T16:31:47.479965Z"
    }
   },
   "outputs": [
    {
     "name": "stdout",
     "output_type": "stream",
     "text": [
      "(10, b'P', 30)\n"
     ]
    }
   ],
   "source": [
    "unpack = st.unpack(\"isl\",pack)\n",
    "print(unpack)"
   ]
  },
  {
   "cell_type": "markdown",
   "id": "4100fbf3",
   "metadata": {
    "ExecuteTime": {
     "end_time": "2021-11-18T14:48:43.605609Z",
     "start_time": "2021-11-18T14:48:43.602268Z"
    }
   },
   "source": [
    "### calculate size"
   ]
  },
  {
   "cell_type": "code",
   "execution_count": 51,
   "id": "b1742650",
   "metadata": {
    "ExecuteTime": {
     "end_time": "2021-11-18T16:31:47.500194Z",
     "start_time": "2021-11-18T16:31:47.493249Z"
    }
   },
   "outputs": [
    {
     "name": "stdout",
     "output_type": "stream",
     "text": [
      "['Struct', '__all__', '__builtins__', '__cached__', '__doc__', '__file__', '__loader__', '__name__', '__package__', '__spec__', '_clearcache', 'calcsize', 'error', 'iter_unpack', 'pack', 'pack_into', 'unpack', 'unpack_from']\n"
     ]
    }
   ],
   "source": [
    "print(dir(st))"
   ]
  },
  {
   "cell_type": "code",
   "execution_count": 52,
   "id": "46a0be1d",
   "metadata": {
    "ExecuteTime": {
     "end_time": "2021-11-18T16:31:47.515182Z",
     "start_time": "2021-11-18T16:31:47.506372Z"
    }
   },
   "outputs": [
    {
     "data": {
      "text/plain": [
       "16"
      ]
     },
     "execution_count": 52,
     "metadata": {},
     "output_type": "execute_result"
    }
   ],
   "source": [
    "size = st.calcsize(\"ihl\")\n",
    "size"
   ]
  },
  {
   "cell_type": "code",
   "execution_count": 53,
   "id": "0806119a",
   "metadata": {
    "ExecuteTime": {
     "end_time": "2021-11-18T16:31:47.525322Z",
     "start_time": "2021-11-18T16:31:47.519689Z"
    }
   },
   "outputs": [],
   "source": [
    "import ctypes as ct"
   ]
  },
  {
   "cell_type": "code",
   "execution_count": 54,
   "id": "1964d402",
   "metadata": {
    "ExecuteTime": {
     "end_time": "2021-11-18T16:31:47.536997Z",
     "start_time": "2021-11-18T16:31:47.529832Z"
    }
   },
   "outputs": [
    {
     "name": "stdout",
     "output_type": "stream",
     "text": [
      "['ARRAY', 'ArgumentError', 'Array', 'BigEndianStructure', 'CDLL', 'CFUNCTYPE', 'DEFAULT_MODE', 'LibraryLoader', 'LittleEndianStructure', 'POINTER', 'PYFUNCTYPE', 'PyDLL', 'RTLD_GLOBAL', 'RTLD_LOCAL', 'SetPointerType', 'Structure', 'Union', '_CFuncPtr', '_FUNCFLAG_CDECL', '_FUNCFLAG_PYTHONAPI', '_FUNCFLAG_USE_ERRNO', '_FUNCFLAG_USE_LASTERROR', '_Pointer', '_SimpleCData', '__builtins__', '__cached__', '__doc__', '__file__', '__loader__', '__name__', '__package__', '__path__', '__spec__', '__version__', '_c_functype_cache', '_calcsize', '_cast', '_cast_addr', '_check_size', '_ctypes_version', '_dlopen', '_endian', '_memmove_addr', '_memset_addr', '_os', '_pointer_type_cache', '_reset_cache', '_string_at', '_string_at_addr', '_sys', '_wstring_at', '_wstring_at_addr', 'addressof', 'alignment', 'byref', 'c_bool', 'c_buffer', 'c_byte', 'c_char', 'c_char_p', 'c_double', 'c_float', 'c_int', 'c_int16', 'c_int32', 'c_int64', 'c_int8', 'c_long', 'c_longdouble', 'c_longlong', 'c_short', 'c_size_t', 'c_ssize_t', 'c_ubyte', 'c_uint', 'c_uint16', 'c_uint32', 'c_uint64', 'c_uint8', 'c_ulong', 'c_ulonglong', 'c_ushort', 'c_void_p', 'c_voidp', 'c_wchar', 'c_wchar_p', 'cast', 'cdll', 'create_string_buffer', 'create_unicode_buffer', 'get_errno', 'macholib', 'memmove', 'memset', 'pointer', 'py_object', 'pydll', 'pythonapi', 'resize', 'set_errno', 'sizeof', 'string_at', 'util', 'wstring_at']\n"
     ]
    }
   ],
   "source": [
    "print(dir(ct))"
   ]
  },
  {
   "cell_type": "markdown",
   "id": "58205924",
   "metadata": {
    "ExecuteTime": {
     "end_time": "2021-11-18T14:47:09.928267Z",
     "start_time": "2021-11-18T14:47:09.920896Z"
    }
   },
   "source": [
    "### - pack_into"
   ]
  },
  {
   "cell_type": "code",
   "execution_count": 55,
   "id": "959284bf",
   "metadata": {
    "ExecuteTime": {
     "end_time": "2021-11-18T16:31:47.551140Z",
     "start_time": "2021-11-18T16:31:47.541333Z"
    }
   },
   "outputs": [
    {
     "data": {
      "text/plain": [
       "<ctypes.c_char_Array_16 at 0x7fb707e99340>"
      ]
     },
     "execution_count": 55,
     "metadata": {},
     "output_type": "execute_result"
    }
   ],
   "source": [
    "buff = ct.create_string_buffer(size)\n",
    "buff"
   ]
  },
  {
   "cell_type": "code",
   "execution_count": 56,
   "id": "c18f2bc9",
   "metadata": {
    "ExecuteTime": {
     "end_time": "2021-11-18T16:31:47.560256Z",
     "start_time": "2021-11-18T16:31:47.555203Z"
    }
   },
   "outputs": [],
   "source": [
    "st.pack_into(\"ihl\",buff,0,10,20,30)"
   ]
  },
  {
   "cell_type": "code",
   "execution_count": 57,
   "id": "88424d75",
   "metadata": {
    "ExecuteTime": {
     "end_time": "2021-11-18T16:31:47.573542Z",
     "start_time": "2021-11-18T16:31:47.565376Z"
    }
   },
   "outputs": [
    {
     "data": {
      "text/plain": [
       "<ctypes.c_char_Array_16 at 0x7fb707e99340>"
      ]
     },
     "execution_count": 57,
     "metadata": {},
     "output_type": "execute_result"
    }
   ],
   "source": [
    "buff"
   ]
  },
  {
   "cell_type": "markdown",
   "id": "cd605ede",
   "metadata": {
    "ExecuteTime": {
     "end_time": "2021-11-18T14:47:09.928267Z",
     "start_time": "2021-11-18T14:47:09.920896Z"
    }
   },
   "source": [
    "### - unpack_from"
   ]
  },
  {
   "cell_type": "code",
   "execution_count": 58,
   "id": "73bb8d19",
   "metadata": {
    "ExecuteTime": {
     "end_time": "2021-11-18T16:31:47.583950Z",
     "start_time": "2021-11-18T16:31:47.576962Z"
    }
   },
   "outputs": [
    {
     "data": {
      "text/plain": [
       "(10, 20, 30)"
      ]
     },
     "execution_count": 58,
     "metadata": {},
     "output_type": "execute_result"
    }
   ],
   "source": [
    "unpack = st.unpack_from(\"ihl\",buff)\n",
    "unpack"
   ]
  }
 ],
 "metadata": {
  "kernelspec": {
   "display_name": "Python 3 (ipykernel)",
   "language": "python",
   "name": "python3"
  },
  "language_info": {
   "codemirror_mode": {
    "name": "ipython",
    "version": 3
   },
   "file_extension": ".py",
   "mimetype": "text/x-python",
   "name": "python",
   "nbconvert_exporter": "python",
   "pygments_lexer": "ipython3",
   "version": "3.8.5"
  },
  "toc": {
   "base_numbering": 1,
   "nav_menu": {},
   "number_sections": true,
   "sideBar": true,
   "skip_h1_title": false,
   "title_cell": "Table of Contents",
   "title_sidebar": "Contents",
   "toc_cell": false,
   "toc_position": {
    "height": "calc(100% - 180px)",
    "left": "10px",
    "top": "150px",
    "width": "382.2px"
   },
   "toc_section_display": true,
   "toc_window_display": true
  }
 },
 "nbformat": 4,
 "nbformat_minor": 5
}
